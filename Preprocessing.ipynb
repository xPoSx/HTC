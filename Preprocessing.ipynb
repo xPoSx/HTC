{
 "cells": [
  {
   "cell_type": "code",
   "execution_count": 1,
   "id": "dccd5c9d",
   "metadata": {
    "cellId": "p1lkweng7e9y20yknx5jq"
   },
   "outputs": [
    {
     "name": "stdout",
     "output_type": "stream",
     "text": [
      ".I 2286\n",
      ".W\n",
      "recov recov recov recov excit excit bring mexic mexic mexic mexic mexic mexic mexic mexic mexic mexic market market market market market market market life emerg evident evident econom econom\n",
      "econom econom back back back track buzz tuesday tuesday tuesday tuesday tuesday stock stock stock clos record record high high high interest interest interest interest rate rate rate rate rate rate\n",
      "rate month low low low stag begin year ahead term term term term fundament fundament fundament matthew hickm lehm brother york point point point hist hist fall fall fall view etch\n",
      "mind invest cris decemb free peso peso peso stubborn week week quart gross domest domest produc report percent percent percent strong strong strong anal anal expect expect expect expect expect govern\n",
      "treasur bill cete cete second second fell level jan main pric index rally volum frenz million shar confound strength end long long contract drop benchmark auction remain stead feder reserv refrain\n",
      "rais short attract off robust return foreign grow grow confid victim crumbl focus lar schonand head head research research santand city city continu declin inflat gdp growth figur lack upward move\n",
      "move fact play felix boni boni jame capel posit technic uncertain argentin put neighbor brazil risk south americ wary lot hyp export led patch consum venge corpor earn justif run\n",
      "\n"
     ]
    }
   ],
   "source": [
    "!head lyrl2004_tokens_train.dat"
   ]
  },
  {
   "cell_type": "code",
   "execution_count": 16,
   "id": "752c8458",
   "metadata": {
    "cellId": "qd7ed7hvu1wsczh2zt6l"
   },
   "outputs": [],
   "source": [
    "train_res = {}\n",
    "with open('lyrl2004_tokens_train.dat', 'r') as f:\n",
    "    prev_i = ''\n",
    "    cur_line = ''\n",
    "    for line in f:\n",
    "        if '.I' in line:\n",
    "            i = line.strip().split()[1]\n",
    "            if prev_i == '':\n",
    "                prev_i = i\n",
    "            if cur_line != '':\n",
    "                train_res[prev_i] = cur_line.strip()\n",
    "                cur_line = ''\n",
    "                prev_i = i\n",
    "            continue\n",
    "        if '.W' in line:\n",
    "            continue\n",
    "        cur_line += line.strip() + ' '\n",
    "    train_res[prev_i] = cur_line.strip()"
   ]
  },
  {
   "cell_type": "code",
   "execution_count": 21,
   "id": "4a4674c0",
   "metadata": {
    "cellId": "3mh64joe7tit96fgnzu92h"
   },
   "outputs": [
    {
     "data": {
      "text/plain": [
       "23149"
      ]
     },
     "metadata": {},
     "output_type": "display_data"
    }
   ],
   "source": [
    "len(train_res)"
   ]
  },
  {
   "cell_type": "code",
   "execution_count": 20,
   "id": "972dd0be",
   "metadata": {
    "cellId": "4peydrlmgoehln89dmfgm"
   },
   "outputs": [
    {
     "name": "stdout",
     "output_type": "stream",
     "text": [
      ".I 26151\n",
      ".W\n",
      "socc colomb colomb colomb colomb beat beat chil chil chil chil world world world cup cup cup qualif qualif qualif qualif halftim south south americ americ match sunday scor faustin\n",
      "asprill st minut minut jorg bermudez ivan zamoran penalt attend group stand tabulat play won draw lost goal goal point ecuador argentin boliv paraguay uruguay peru venezuel note top final franc\n",
      "brazil automat hold\n",
      "\n",
      ".I 26152\n",
      ".W\n",
      "world world world world qualif qualif sunday minut minut won hold athlet time time time time time lucky lucky komen komen komen komen break break record record record daniel keny\n",
      "keny keny keny keny keny made shat noureddin morcel morcel morcel morcel morcel morcel morcel met met met met met met second second second second intern meet year year fail fail\n"
     ]
    }
   ],
   "source": [
    "!head lyrl2004_tokens_test_pt0.dat"
   ]
  },
  {
   "cell_type": "code",
   "execution_count": 169,
   "id": "a610ac0a",
   "metadata": {
    "cellId": "okwk1eqqmui5nt23zjuqh"
   },
   "outputs": [],
   "source": [
    "test_res = {}\n",
    "for k in range(4):\n",
    "    with open('lyrl2004_tokens_test_pt'+str(k)+'.dat', 'r') as f:\n",
    "        prev_i = ''\n",
    "        cur_line = ''\n",
    "        for line in f:\n",
    "            if '.I' in line:\n",
    "                i = line.strip().split()[1]\n",
    "                if prev_i == '':\n",
    "                    prev_i = i\n",
    "                if cur_line != '':\n",
    "                    test_res[prev_i] = cur_line.strip()\n",
    "                    cur_line = ''\n",
    "                    prev_i = i\n",
    "                continue\n",
    "            if '.W' in line:\n",
    "                continue\n",
    "            cur_line += line.strip() + ' '\n",
    "        test_res[prev_i] = cur_line.strip()"
   ]
  },
  {
   "cell_type": "code",
   "execution_count": 171,
   "id": "02ab52c5",
   "metadata": {
    "cellId": "1e3kkw872z7c2z14st8cb"
   },
   "outputs": [
    {
     "name": "stdout",
     "output_type": "stream",
     "text": [
      "26151 socc colomb colomb colomb colomb beat beat chil chil chil chil world world world cup cup cup qualif qualif qualif qualif halftim south south americ americ match sunday scor faustin asprill st minut minut jorg bermudez ivan zamoran penalt attend group stand tabulat play won draw lost goal goal point ecuador argentin boliv paraguay uruguay peru venezuel note top final franc brazil automat hold\n"
     ]
    }
   ],
   "source": [
    "for k, v in test_res.items():\n",
    "    print(k, v)\n",
    "    break"
   ]
  },
  {
   "cell_type": "code",
   "execution_count": 30,
   "id": "bf62a053",
   "metadata": {
    "cellId": "h0dzqkjpomdaictptm4ywv"
   },
   "outputs": [],
   "source": [
    "import numpy as np\n",
    "\n",
    "val_ids = np.random.choice(list(train_res.keys()), 2316, replace=False)"
   ]
  },
  {
   "cell_type": "code",
   "execution_count": 32,
   "id": "6e64d278",
   "metadata": {
    "cellId": "zra8h1bq5br4xg88qrtz4u"
   },
   "outputs": [],
   "source": [
    "val_ids = list(val_ids)"
   ]
  },
  {
   "cell_type": "code",
   "execution_count": 35,
   "id": "a43b2225",
   "metadata": {
    "cellId": "gg3l9in39n4km5nhl9ndpj"
   },
   "outputs": [],
   "source": [
    "train_ids = []\n",
    "for k in train_res:\n",
    "    if k not in val_ids:\n",
    "        train_ids.append(k)"
   ]
  },
  {
   "cell_type": "code",
   "execution_count": 37,
   "id": "cb64e6b7",
   "metadata": {
    "cellId": "cfy1f9stdj81s27if6ws59"
   },
   "outputs": [
    {
     "data": {
      "text/plain": [
       "20833"
      ]
     },
     "metadata": {},
     "output_type": "display_data"
    }
   ],
   "source": [
    "len(train_ids)"
   ]
  },
  {
   "cell_type": "code",
   "execution_count": 38,
   "id": "e387c793",
   "metadata": {
    "cellId": "wm9bqk481sjfqb62l86li"
   },
   "outputs": [
    {
     "data": {
      "text/plain": [
       "2316"
      ]
     },
     "metadata": {},
     "output_type": "display_data"
    }
   ],
   "source": [
    "len(val_ids)"
   ]
  },
  {
   "cell_type": "code",
   "execution_count": 172,
   "id": "cc6aafee",
   "metadata": {
    "cellId": "ofyjo4xkysa69wl3kz98i"
   },
   "outputs": [],
   "source": [
    "labels = {}\n",
    "with open('rcv1-v2.topics.qrels', 'r') as f:\n",
    "    for line in f:\n",
    "        label, key, _ = line.strip().split()\n",
    "        if key not in labels:\n",
    "            labels[key] = []\n",
    "        labels[key].append(label.lower())"
   ]
  },
  {
   "cell_type": "code",
   "execution_count": 181,
   "id": "2caffc10",
   "metadata": {
    "cellId": "7by3r7gz8hnd1mleehhen7"
   },
   "outputs": [],
   "source": [
    "hier = {}\n",
    "with open('HiAGM/data/rcv1.taxonomy') as f:\n",
    "    for line in f:\n",
    "        tmp = line.strip().lower().split('\\t')\n",
    "        for i in range(len(tmp)):\n",
    "            if tmp[i] not in hier:\n",
    "                hier[tmp[i]] = []\n",
    "            if i != 0:\n",
    "                hier[tmp[0]].append(tmp[i])"
   ]
  },
  {
   "cell_type": "code",
   "execution_count": 182,
   "id": "08ea2b67",
   "metadata": {
    "cellId": "st4v8v00jnjgquqg9owr"
   },
   "outputs": [],
   "source": [
    "def get_level(node, dct, lvl=0):\n",
    "    dct[node] = lvl\n",
    "    for elem in hier[node]:\n",
    "        get_level(elem, dct, lvl+1)"
   ]
  },
  {
   "cell_type": "code",
   "execution_count": 183,
   "id": "1aa7bdeb",
   "metadata": {
    "cellId": "l2ab6c52b1n2u2uqa0s72m"
   },
   "outputs": [],
   "source": [
    "labels_levels = {}\n",
    "get_level('root', labels_levels)"
   ]
  },
  {
   "cell_type": "code",
   "execution_count": 184,
   "id": "486e436d",
   "metadata": {
    "cellId": "cr6qfygq2fasrg1lgfzrqb"
   },
   "outputs": [
    {
     "ename": "NameError",
     "evalue": "name 'labels' is not defined",
     "output_type": "error",
     "traceback": [
      "\u001b[0;31m---------------------------------------------------------------------------\u001b[0m",
      "\u001b[0;31mNameError\u001b[0m                                 Traceback (most recent call last)",
      "\u001b[0;32m<ipython-input-5-1ea7b1e80e3d>\u001b[0m in \u001b[0;36m<module>\u001b[0;34m\u001b[0m\n\u001b[1;32m      1\u001b[0m \u001b[0mlabels_sorted\u001b[0m \u001b[0;34m=\u001b[0m \u001b[0;34m{\u001b[0m\u001b[0;34m}\u001b[0m\u001b[0;34m\u001b[0m\u001b[0;34m\u001b[0m\u001b[0m\n\u001b[0;32m----> 2\u001b[0;31m \u001b[0;32mfor\u001b[0m \u001b[0mk\u001b[0m\u001b[0;34m,\u001b[0m \u001b[0mv\u001b[0m \u001b[0;32min\u001b[0m \u001b[0mlabels\u001b[0m\u001b[0;34m.\u001b[0m\u001b[0mitems\u001b[0m\u001b[0;34m(\u001b[0m\u001b[0;34m)\u001b[0m\u001b[0;34m:\u001b[0m\u001b[0;34m\u001b[0m\u001b[0;34m\u001b[0m\u001b[0m\n\u001b[0m\u001b[1;32m      3\u001b[0m     \u001b[0mlabels_sorted\u001b[0m\u001b[0;34m[\u001b[0m\u001b[0mk\u001b[0m\u001b[0;34m]\u001b[0m \u001b[0;34m=\u001b[0m \u001b[0msorted\u001b[0m\u001b[0;34m(\u001b[0m\u001b[0mv\u001b[0m\u001b[0;34m,\u001b[0m \u001b[0mkey\u001b[0m\u001b[0;34m=\u001b[0m\u001b[0;32mlambda\u001b[0m \u001b[0mx\u001b[0m\u001b[0;34m:\u001b[0m \u001b[0mlabels_levels\u001b[0m\u001b[0;34m[\u001b[0m\u001b[0mx\u001b[0m\u001b[0;34m]\u001b[0m\u001b[0;34m)\u001b[0m\u001b[0;34m\u001b[0m\u001b[0;34m\u001b[0m\u001b[0m\n\u001b[1;32m      4\u001b[0m \u001b[0;31m#\u001b[0m\u001b[0;34m\u001b[0m\u001b[0;34m\u001b[0m\u001b[0;34m\u001b[0m\u001b[0m\n",
      "\u001b[0;31mNameError\u001b[0m: name 'labels' is not defined"
     ]
    }
   ],
   "source": [
    "labels_sorted = {}\n",
    "for k, v in labels.items():\n",
    "    labels_sorted[k] = sorted(v, key=lambda x: labels_levels[x])"
   ]
  },
  {
   "cell_type": "code",
   "execution_count": 63,
   "id": "43a376a3",
   "metadata": {
    "cellId": "kqibyr9kc2nl9u6ngqhki"
   },
   "outputs": [],
   "source": [
    "!mkdir rcv1_v2_data"
   ]
  },
  {
   "cell_type": "code",
   "execution_count": 71,
   "id": "197a0de7",
   "metadata": {
    "cellId": "8k0s5jlno2o5vrod4n5bzi"
   },
   "outputs": [],
   "source": [
    "with open('rcv1_v2_data/train.src', 'w') as f:\n",
    "    with open('rcv1_v2_data/train.tgt', 'w') as g:\n",
    "        for k, v in train_res.items():\n",
    "            if k in train_ids:\n",
    "                f.write(v + '\\n')\n",
    "                g.write(' '.join(labels_sorted[k]) + '\\n')"
   ]
  },
  {
   "cell_type": "code",
   "execution_count": 72,
   "id": "a6f42daf",
   "metadata": {
    "cellId": "vc9nef42quldziwlrqtpx"
   },
   "outputs": [
    {
     "name": "stdout",
     "output_type": "stream",
     "text": [
      "recov recov recov recov excit excit bring mexic mexic mexic mexic mexic mexic mexic mexic mexic mexic market market market market market market market life emerg evident evident econom econom econom econom back back back track buzz tuesday tuesday tuesday tuesday tuesday stock stock stock clos record record high high high interest interest interest interest rate rate rate rate rate rate rate month low low low stag begin year ahead term term term term fundament fundament fundament matthew hickm lehm brother york point point point hist hist fall fall fall view etch mind invest cris decemb free peso peso peso stubborn week week quart gross domest domest produc report percent percent percent strong strong strong anal anal expect expect expect expect expect govern treasur bill cete cete second second fell level jan main pric index rally volum frenz million shar confound strength end long long contract drop benchmark auction remain stead feder reserv refrain rais short attract off robust return foreign grow grow confid victim crumbl focus lar schonand head head research research santand city city continu declin inflat gdp growth figur lack upward move move fact play felix boni boni jame capel posit technic uncertain argentin put neighbor brazil risk south americ wary lot hyp export led patch consum venge corpor earn justif run\n",
      "uruguay uruguay compan compan compan bring limit limit mexic capac capac grab market market market market small small small portion emerg rival econom gener motor motor motor ford volkswagen ag tuesday tuesday tuesday stock stock target clos specif segment desir vehicl vehicl vehicl interest applic facil facil dakot dakot dakot low compact begin countr countr year year year year year cherok cherok cherok cherok cherok construc cordob provinc schedul build grand grand start start start york april output site select roll line mid modest invest invest invest invest invest invest invest ultimat unit unit unit unit unit annual annual annual free free employ peopl larg complet knock kit kit ship produc produc produc produc stat stat percent meet bloc local requir decid dodg brand brand brand name canad detroit italian design vm cylind turbocharg model instal miniv sold million million million million million million million million million europ support open dana end end johnson control lear lear techn ppg industr increas stead decad area polit stabl rise buy pow off venezuel neon car financ grow commit made rose cent exchang growth growth play play argentin argentin argentin argentin argentin argentin brazil brazil brazil brazil brazil brazil brazil brazil risk south south south americ americ americ americ americ consum chrysl chrysl chrysl chrysl chrysl chrysl chrysl chrysl chrysl chrysl chrysl chrysl chrysl chrysl chrysl chrysl chrysl plan latin latin corp corp corp corp corp corp corp announc announc includ includ includ includ assembl assembl assembl assembl assembl plant plant plant plant plant plant plant plant plant pickup pickup truck truck truck truck diesel diesel diesel diesel engin engin engin engin expand expand jeep jeep jeep jeep jeep jeep built built built caut rebuild intern intern present project worth worth rough total total total suppl suppl suppl suppl major major major role automak automak automak automak glob strateg chairm robert eaton eaton eaton eaton don don intend intend make risky add add thom gale execut execut vice presid operat content content pace region region region solid opportun boost sale sale sale mercosur mercosur mercosur mercosur mercosur trad trad trad zone zone group paraguay paraguay\n",
      "spun stak compan compan compan compan compan compan compan compan compan nasdaq early market market tuesday stock clos month month year year year year roll invest modest unit annual peopl larg quart quart quart quart quart quart quart quart quart produc produc produc stat report report report percent percent expect expect expect expect expect expect million million million million million million million million million million million shar shar shar shar end drop increas financ made cent cent cent cent cent cent compuserv compuserv compuserv compuserv compuserv compuserv compuserv compuserv compuserv compuserv compuserv compuserv loss loss loss loss loss loss loss loss cut cut cut cut work work forc forc continu surpris declin declin fisc fisc fisc fisc fisc blam blam numb numb numb numb subscrib subscrib subscrib subscrib subscrib subscrib subscrib onlin onlin onlin onlin servic servic servic servic servic servic servic servic spend fami fami orient orient improv improv improv improv predict half half take step revital chief bob massey massey massey job part part cost cost cost program save americ basi columbus ohio base sell sell spry web brows trail simil netscap earn commun microsoft july july compar profit result result corp corp corp announc pretax charg includ includ includ post actual great wall street revenu revenu expand prev comment cancel exceed flag inform memb memb worldw niftyserv niftyserv joint ventur total japan japan found wow wow infrastructur hit due late version softwar need access make releas releas featur teen parent forecast rosy execut coupl aggress campaign fourth top mark licens advert fee electron commerc trad subsid tax prepar block\n",
      "early credit market market market market market market econom econom back back tuesday stock stock stock clos clos clos clos record record fast high high high high interest interest interest interest interest rate rate rate rate rate rate year year year term bank prefer york york york york york point point point point merchandis invest invest ston issu week quart quart quart quart report percent percent percent strong expect expect advanc treasur second fell fell gain pric index index rally rally volum overse million deliv shar shar crud crud end end end end oil oil monday monday gold gold drop edg commod stead stead stead mercantil feder feder reserv short short pressur weak weak foreign foreign grow import declin inflat growth depart fact fact fact sharp new put settl lot export led inspir announc septemb septemb heat barrel ounc blu blu blu blu chip chip chip chip fed fed fed fed held dollar dollar dollar dollar dollar dollar dollar june june june deficit deficit deficit bond bond chang dow dow dow jone aver aver throw set set set broad strateg strateg moderat polic polic afternoon unchang unchang unchang allow hurdl make ling fear add add surpr neutral richard crip leg presid mason wood walk pace hold hold amid sign slow slow boost keep sale independ sought trad trad trad trad trad stay fire approach nov congress elect recent hous retail small stall pare look rumor hard find indic spectacul joseph barthel fahnestock way liquid visibl safet stud composit currenc currenc climb climb yen yen yen yen gap shrank petroleum shortfal billion trend decreas amount good greg pearm line deal commercial de franc unit huge today bought slight germ yield lost britain fts stat surpass meet nikkei local open techn techn industr increas polit rise buy buy commit rose rose rose rose cent cent cent exchang exchang exchang exchang numb numb chief chief chief sell sell wall street japan japan japan late late mark mark mark commerc nasdaq\n",
      "compan compan compan compan early market market credit rival rival card tuesday stock stock money high rate month year year start york site billion fall roll line good annual free free free larg larg lost local anal expect requir introduc sprint sprint sprint sprint sprint sprint sprint sprint sprint sprint sprint sprint bill internet internet internet internet internet internet internet internet internet internet internet jump home fell mci mci kans mo big chunk busi busi busi busi busi busi exist telephon custom custom choos million million flat support support support unlimit hour end minim long long long maxim usag nation techn dist dist ve ve industr jim dod dod dod time time time avoid glitch hurt short press bet massick off off off off off colomb bear stearn ground dub passport provid provid side cent clock exchang comput network phon call offer offer offer bell city city city entry spark flur numb compet shockwav initial onlin onlin onlin navigat navigat servic servic servic servic servic servic servic servic servic servic servic servic search search explor move won fact fact host propriet serv resid take take rebat certif speed speed modem new kilobit dedicat mail part direct toll americ base web brows brows consum consum consum consum consum simil netscap netscap commun microsoft microsoft compar plan profit wide corp corp corp announc includ includ includ revenu major glob softwar softwar don access access access access access access access access access access access releas make vice presid operat operat region commerc\n",
      "wear mom levi levi strauss popul popul market draw lure portion portion tommy hilfig retail retail retail retail retail retail ralph back back back back back back back back back back back laur polo calvin target klein slung find clos hip hug high high high high high high bottom chain retr peac march outlet low low hot own dayton dayton year year year year hudson hudson clay ring necklac reminisc spokeswom susan eich eich york backpack clog zip amount mind good shirt shirt shirt discount discount discount discount merchandis annual peopl larg larg percent percent percent percent percent percent percent percent percent percent percent percent percent special decid brand brand jump design big show increas short rise buy buy confid import import import network offer bell servic spend spend spend spend spend depart depart depart depart depart depart depart fact ago cost direct school school school school school school school school school school americ americ americ americ americ shop shop shop shop shop load lot peren base favourit sell sell sell sell jean jean jean jean jean jean sneak cloth cloth cloth cloth consum sort funny hasn pant thing basic andrea day plan kent kent kent kent express express express express express corp result travel relat includ includ child child child survey survey survey survey caus great emphas typic invent reduc item item item item textbook textbook textbook board account account account account budget budget budget budget element student student student student student student colleg colleg colleg colleg colleg colleg project demand expend curi boy suppl suppl suppl dramat found styl chang consc girl girl contr aver aver stor stor stor stor stor stor stor stor battl season season holiday access thanksgiv christm bang fight add add add add pur parent parent parent heart mall mall brat presid flex fashion fashion fashion muscl alan millstein millstein millstein consult captur locat offic electron sale sale sale sale left reveal influ kid kid kid group pick pick pick\n",
      "recov recov compan compan compan compan bring early gener gener gener tuesday tuesday money month countr begin begin year year term mor mor york arizon arizon arizon arizon arizon amount suit suit suit suit suit suit suit suit tobacc tobacc tobacc tobacc tobacc tobacc tobacc tobacc tobacc tobacc tobacc tobacc tobacc tobacc tobacc firm firm firm firm file file file file file unit lawsuit lawsuit lawsuit lawsuit lawsuit list list join join seek seek seek hundred hundred hundred hundred week treat smok smok smok smok smok smok smok smok ill ill sourc sourc produc produc michig michig oklahom oklahom stat stat stat stat stat stat suing pay britain attorney attorney attorney carl expect stoval stoval stoval stoval decid decid leth warrant enorm name name name burd shift taxpay philip philip kans kans kans kans kans kans kans cos vigor big defend defend defend law aid frank kelley legal sold million million million million thursday thursday indianapol indianapol indianapol liabl challeng jury jury jury jury delib case case case roge roge roge lawy age age industr industr industr industr industr die lung lung time canc canc widow unspecif damag damag damag damag public public public public advocat advocat urg mayor rudolph giulian financ grow sue paid paid health health care green san francisc head research effort call obtain forc medicaid medicaid medicaid city city city city refund cigaret cigaret jacksonvill fla numb award figur man strick lucky strik defect brown brown williamson williamson plc neglig fail appeal excess discov ll finit claim grant cost cost cost cost program incur risk date americ aim basi educat hazard rjr nabisc rj reynold divid consum loew lorillard simil simil hill knowlton council run institut brook ligget corp corp corp relat relat relat child child actual wednesday wednesday inform dollar dollar dollar total broad make teen add richard mark wood hold group group group prepar sought\n",
      "intens night tip bring qsr tough market congress lipton lipton small small hous econom dine dine back tuesday high high high high restaur restaur restaur restaur restaur restaur restaur restaur restaur restaur restaur rate chain chain chain chain chain month month fast fast fast fast fast fast fast year year term term start billion good good food food food food food food food unit employ employ peopl peopl stat percent pay pay pay requir expect govern bill level level pric pric pric pric busi busi law law law custom million million open open hour hour hour hour hour deliv minim minim minim minim minim minim minim minim minim long long control roge industr industr increas increas increas increas increas increas feder feder rais rais rais rais rais rise rise short short financ financ cent cent cent cent pack work work work work work work work work forc entry compet compet compet compet compet quick servic servic search transl chief chief job neighbor cost risk estimat aim americ americ americ base problem earn earn run result wag wag wag wag wag wag wag wag wag wag wag wag break hike relief hamburg driv driv pizz pizz pizz impact impact mandat concern rippl effect effect item item bruc cotton spokesm spokesm john intern silf lexington ky crew denny total lynch lynch wendy wendy clinton oct sept whit oppos aver late prompt prompt stor set hire hire few young argu make negat impos add add republ measur partn partn execut execut hut fear franchis terry presid presid freund freund operat operat operat compens wichit kan hope scal ord boost cook offic offic count sign sign staff metropolit tax kid casual casual establ establ\n",
      "market market market market evident econom econom econom econom econom econom econom econom econom econom money tuesday tuesday tuesday stock fast interest interest interest rate rate rate rate rate rate rate rate rate rate rate rate rate month month low year year year year year year ahead ahead term term bank bank bank bank bank bank bank bank point point invest week week week quart quart quart quart percent percent percent strong anal anal expect expect expect check check level pric pric end end end long remain remain remain chicag stead stead stead stead feder feder feder feder feder reserv reserv rais rais short attract weak worry san grow grow continu inflat inflat inflat inflat inflat inflat inflat bid growth growth new put consum burst wag wag wag relief wide impact driv driv announc announc pickup spokesm heat expand lynch fed fed fed fed fed fed fed fed fed held held held clinton sept bond chang dow jone jone aver chairm chairm republ polic polic measur unchang make make fear add vice presid presid presid pace hold hold hold amid solid sign slow slow slow slow slow sale group tough fire nov congress elect elect elect elect recent hous retail stall joseph potent data good rich line mill correspons key fund loan annual gmt employ coyn noneth benign mob ken mayland st stat loui meet meet meet keycorp appear quest mean decid decid decid decid precaut reut janu wan wax david brok aubrey lanston face task push sandwich party nominat convent dieg open open open democrat win consid ve momentum reckon sustain fan industr extr increas increas pocket portend unemploy bet polit polit hover past rise rise rise feed greensp told lawmak lose warn eventual commit commit fade vigil rose prevent cent cent cent cent cent cent cut work work work forc spend half speed chief job job part basi base survey charg wall street need forecast alan offic left commerc\n",
      "recov recov recov recov compan compan early market market back tuesday tuesday money money year year receiv york billion billion billion suit suit firm invest invest invest invest invest invest unit equit equit seek larg issu stat pay pay pay decid cash name name name name name name quest quest quest design defend law law law legal face liabl liabl liabl liabl liabl hour hour challeng long case case monday lawy time feder off financ commit commit made told told exchang loss call continu lloyd lloyd lloyd lloyd lloyd lloyd lloyd lloyd lloyd lloyd lloyd lloyd lloyd lloyd lloyd lloyd ceo ronald sandl sandl sandl sandl sandl sandl sandl sandl london underw court court court interrog insur ago multibill critic solvent solvent pound courtroom district judg judg posit payn payn payn payn payn payn complex chief restructur ten thousand claim claim quaint cost anxi await outcom apply settl americ injunct rescu propos propos reinsur pollut asbestos offset vote aug plaintiff detail contend breach disclosur plan plan plan plan plan plan plan plan plan day crucial hap break extingu relat char includ includ ask ask benefact benefact answ answ dispos leftov asset prem unabl proceed resum lunch criticis inform secur secur refus worldw determin subject dollar dollar compl total friday sec sec neutr respons request rule separat morn robert dismit action need need brought know afternoon releas extent pleas pleas add enter recogn pete execut execut lane opportun boost offic left block block\n"
     ]
    }
   ],
   "source": [
    "!head rcv1_v2_data/train.src"
   ]
  },
  {
   "cell_type": "code",
   "execution_count": 74,
   "id": "de3a80d2",
   "metadata": {
    "cellId": "k4pqdkqfsxlzamg2y3mk6"
   },
   "outputs": [
    {
     "name": "stdout",
     "output_type": "stream",
     "text": [
      "ecat mcat e11 m11 m12\n",
      "ccat c24\n",
      "ccat c15 c151\n",
      "mcat m11 m12 m13 m14 m132\n",
      "ccat c22\n",
      "ecat e14\n",
      "ccat gcat c12 gcrim\n",
      "ccat ecat gcat c13 c31 c42 e41 gjob\n",
      "ecat mcat e12 m13 m131\n",
      "ccat gcat c12 gcrim\n"
     ]
    }
   ],
   "source": [
    "!head rcv1_v2_data/train.tgt"
   ]
  },
  {
   "cell_type": "code",
   "execution_count": 75,
   "id": "04fe9851",
   "metadata": {
    "cellId": "fbyc25k0yen22gguc8bpoc"
   },
   "outputs": [],
   "source": [
    "with open('rcv1_v2_data/valid.src', 'w') as f:\n",
    "    with open('rcv1_v2_data/valid.tgt', 'w') as g:\n",
    "        for k, v in train_res.items():\n",
    "            if k in val_ids:\n",
    "                f.write(v + '\\n')\n",
    "                g.write(' '.join(labels_sorted[k]) + '\\n')"
   ]
  },
  {
   "cell_type": "code",
   "execution_count": 77,
   "id": "8062ec63",
   "metadata": {
    "cellId": "c3chn0h2zylshiolfoihj"
   },
   "outputs": [
    {
     "name": "stdout",
     "output_type": "stream",
     "text": [
      "20833 rcv1_v2_data/train.src\n"
     ]
    }
   ],
   "source": [
    "!wc -l rcv1_v2_data/train.src"
   ]
  },
  {
   "cell_type": "code",
   "execution_count": 177,
   "id": "38bf4ca8",
   "metadata": {
    "cellId": "893oc8o2p9u9m68nob85ys"
   },
   "outputs": [],
   "source": [
    "with open('rcv1_v2_data/test.src', 'w') as f:\n",
    "    with open('rcv1_v2_data/test.tgt', 'w') as g:\n",
    "        for k, v in test_res.items():\n",
    "            f.write(v + '\\n')\n",
    "            g.write(' '.join(labels_sorted[k]) + '\\n')"
   ]
  },
  {
   "cell_type": "code",
   "execution_count": 178,
   "id": "ecafaf35",
   "metadata": {
    "cellId": "bjru5w3by15ertr8ndejfg"
   },
   "outputs": [
    {
     "name": "stdout",
     "output_type": "stream",
     "text": [
      "781265 rcv1_v2_data/test.tgt\n"
     ]
    }
   ],
   "source": [
    "!wc -l rcv1_v2_data/test.tgt"
   ]
  },
  {
   "cell_type": "code",
   "execution_count": 179,
   "id": "b7903087",
   "metadata": {
    "cellId": "8pzh0hamr67guuoywmfv9"
   },
   "outputs": [
    {
     "name": "stdout",
     "output_type": "stream",
     "text": [
      "781265 rcv1_v2_data/test.src\n"
     ]
    }
   ],
   "source": [
    "!wc -l rcv1_v2_data/test.src"
   ]
  },
  {
   "cell_type": "code",
   "execution_count": 83,
   "id": "6c2295c8",
   "metadata": {
    "cellId": "7psvd1pkedogshhj0x1pu"
   },
   "outputs": [
    {
     "name": "stdout",
     "output_type": "stream",
     "text": [
      "gcat gent\n",
      "ccat gcat c23 ghea\n",
      "mcat m11\n",
      "ccat ecat gcat c42 e41 gjob\n",
      "ccat ecat gcat c42 e41 gjob\n",
      "ccat ecat gcat c42 e41 gjob\n",
      "gcat gjob\n",
      "ccat ecat gcat c42 e41 gjob\n",
      "ccat c21 c24\n",
      "gcat gdis genv\n"
     ]
    }
   ],
   "source": [
    "!tail rcv1_v2_data/test.tgt"
   ]
  },
  {
   "cell_type": "markdown",
   "id": "00e7c573",
   "metadata": {
    "cellId": "93loh5l5m7vdyyns746ric"
   },
   "source": [
    "# Exp"
   ]
  },
  {
   "cell_type": "code",
   "execution_count": 157,
   "id": "96abaa46",
   "metadata": {
    "cellId": "5dfb19ufa0nr3dunbednw7"
   },
   "outputs": [
    {
     "data": {
      "text/plain": [
       "531742"
      ]
     },
     "metadata": {},
     "output_type": "display_data"
    }
   ],
   "source": [
    "cnt = 0\n",
    "with open('rcv1_v2_data/test.tgt', 'r') as f:\n",
    "    for line in f:\n",
    "        temp_counter = {0: 0, 1: 0, 2: 0, 3: 0, 4: 0}\n",
    "        tmp = line.strip().split()\n",
    "        flag = False\n",
    "        for elem in tmp:\n",
    "            if temp_counter[labels_levels[elem]] == 1:\n",
    "                flag = True\n",
    "                break\n",
    "            temp_counter[labels_levels[elem]] += 1\n",
    "        if not flag:\n",
    "            cnt += 1\n",
    "#             print(temp_counter, line)\n",
    "cnt"
   ]
  },
  {
   "cell_type": "code",
   "execution_count": 168,
   "id": "f4de8a03",
   "metadata": {
    "cellId": "lcgfg047vnjk2q0n3oncer"
   },
   "outputs": [
    {
     "name": "stdout",
     "output_type": "stream",
     "text": [
      "781265 rcv1_v2_data/test.tgt\n"
     ]
    }
   ],
   "source": [
    "!wc -l rcv1_v2_data/test.tgt"
   ]
  },
  {
   "cell_type": "code",
   "execution_count": 164,
   "id": "0bf76047",
   "metadata": {
    "cellId": "hbrvrszfsebh0ja9ryfvyh"
   },
   "outputs": [
    {
     "data": {
      "text/plain": [
       "0"
      ]
     },
     "metadata": {},
     "output_type": "display_data"
    }
   ],
   "source": [
    "cnt = 0\n",
    "res = set()\n",
    "with open('rcv1_v2_data/test.src', 'r') as f:\n",
    "    for line in f:\n",
    "        cnt += 1\n",
    "#             print(temp_counter, line)\n",
    "cnt"
   ]
  },
  {
   "cell_type": "code",
   "execution_count": 99,
   "id": "860dc594",
   "metadata": {
    "cellId": "f1chstiha06firq88964yq"
   },
   "outputs": [
    {
     "data": {
      "text/plain": [
       "16285"
      ]
     },
     "metadata": {},
     "output_type": "display_data"
    }
   ],
   "source": [
    "cnt = 0\n",
    "with open('rcv1_v2_data/train.tgt', 'r') as f:\n",
    "    for line in f:\n",
    "        temp_counter = {1: 0, 2: 0, 3: 0, 4: 0}\n",
    "        tmp = line.strip().split()\n",
    "        flag = False\n",
    "        for elem in tmp:\n",
    "            temp_counter[labels_levels[elem]] += 1\n",
    "        prev_v = 9999\n",
    "        for k, v in temp_counter.items():\n",
    "            if v > prev_v:\n",
    "                flag = True\n",
    "                break\n",
    "            prev_v = v\n",
    "        if not flag:\n",
    "            cnt += 1\n",
    "#             print(temp_counter, line)\n",
    "cnt"
   ]
  },
  {
   "cell_type": "code",
   "execution_count": 199,
   "id": "abc17d1f",
   "metadata": {
    "cellId": "2djs0qo9nag0m87dbf9l0s"
   },
   "outputs": [
    {
     "data": {
      "text/plain": [
       "11377"
      ]
     },
     "execution_count": 199,
     "metadata": {},
     "output_type": "execute_result"
    }
   ],
   "source": [
    "cnt = 0\n",
    "res_train = []\n",
    "with open('rcv1_v2_data/train.tgt', 'r') as f:\n",
    "    i = -1\n",
    "    for line in f:\n",
    "        i += 1\n",
    "        temp_counter = {1: 0, 2: 0, 3: 0, 4: 0}\n",
    "        temp_levels = {1: '', 2: '', 3: '', 4: ''}\n",
    "        tmp = line.strip().split()\n",
    "        flag = False\n",
    "        for elem in tmp:\n",
    "            if temp_counter[labels_levels[elem]] == 1:\n",
    "                flag = True\n",
    "                break\n",
    "            temp_counter[labels_levels[elem]] += 1\n",
    "            temp_levels[labels_levels[elem]] = elem\n",
    "        if not flag:\n",
    "            for k, v in temp_counter.items():\n",
    "                if v == 0:\n",
    "                    if len(hier[temp_levels[k-1]]) > 0:\n",
    "                        flag = True\n",
    "                    break\n",
    "            if not flag:\n",
    "                res_train.append(i)\n",
    "                cnt += 1\n",
    "cnt"
   ]
  },
  {
   "cell_type": "code",
   "execution_count": 200,
   "id": "9ab411de",
   "metadata": {
    "cellId": "3a8dg6rnvg7ynysa0wbt2r"
   },
   "outputs": [
    {
     "data": {
      "text/plain": [
       "1274"
      ]
     },
     "execution_count": 200,
     "metadata": {},
     "output_type": "execute_result"
    }
   ],
   "source": [
    "cnt = 0\n",
    "res_val = []\n",
    "with open('rcv1_v2_data/valid.tgt', 'r') as f:\n",
    "    i = -1\n",
    "    for line in f:\n",
    "        i += 1\n",
    "        temp_counter = {1: 0, 2: 0, 3: 0, 4: 0}\n",
    "        temp_levels = {1: '', 2: '', 3: '', 4: ''}\n",
    "        tmp = line.strip().split()\n",
    "        flag = False\n",
    "        for elem in tmp:\n",
    "            if temp_counter[labels_levels[elem]] == 1:\n",
    "                flag = True\n",
    "                break\n",
    "            temp_counter[labels_levels[elem]] += 1\n",
    "            temp_levels[labels_levels[elem]] = elem\n",
    "        if not flag:\n",
    "            for k, v in temp_counter.items():\n",
    "                if v == 0:\n",
    "                    if len(hier[temp_levels[k-1]]) > 0:\n",
    "                        flag = True\n",
    "                    break\n",
    "            if not flag:\n",
    "                res_val.append(i)\n",
    "                cnt += 1\n",
    "cnt"
   ]
  },
  {
   "cell_type": "code",
   "execution_count": 212,
   "id": "444ab106",
   "metadata": {
    "cellId": "kahkywqhejggcqqrdspbhm"
   },
   "outputs": [
    {
     "data": {
      "text/plain": [
       "430940"
      ]
     },
     "execution_count": 212,
     "metadata": {},
     "output_type": "execute_result"
    }
   ],
   "source": [
    "cnt = 0\n",
    "res_test = set()\n",
    "with open('rcv1_v2_data/test.tgt', 'r') as f:\n",
    "    i = -1\n",
    "    for line in f:\n",
    "        i += 1\n",
    "        temp_counter = {1: 0, 2: 0, 3: 0, 4: 0}\n",
    "        temp_levels = {1: '', 2: '', 3: '', 4: ''}\n",
    "        tmp = line.strip().split()\n",
    "        flag = False\n",
    "        for elem in tmp:\n",
    "            if temp_counter[labels_levels[elem]] == 1:\n",
    "                flag = True\n",
    "                break\n",
    "            temp_counter[labels_levels[elem]] += 1\n",
    "            temp_levels[labels_levels[elem]] = elem\n",
    "        if not flag:\n",
    "            for k, v in temp_counter.items():\n",
    "                if v == 0:\n",
    "                    if len(hier[temp_levels[k-1]]) > 0:\n",
    "                        flag = True\n",
    "                    break\n",
    "            if not flag:\n",
    "                res_test.add(i)\n",
    "                cnt += 1\n",
    "cnt"
   ]
  },
  {
   "cell_type": "code",
   "execution_count": 349,
   "id": "3aec5ad2",
   "metadata": {
    "cellId": "ghwtzncw8zs86awlkdljr6"
   },
   "outputs": [],
   "source": [
    "res = {}\n",
    "with open('rcv1.taxonomy') as f:\n",
    "    for line in f:\n",
    "        tmp = line.strip().split('\\t')\n",
    "        for i in range(len(tmp)):\n",
    "            if tmp[i] not in res:\n",
    "                res[tmp[i]] = []\n",
    "            if i != 0:\n",
    "                res[tmp[0]].append(tmp[i])\n",
    "                \n",
    "key2i = {}\n",
    "for i, elem in enumerate(list(res.keys())):\n",
    "    key2i[elem] = i\n",
    "\n",
    "N = len(key2i) - 1"
   ]
  },
  {
   "cell_type": "code",
   "execution_count": 352,
   "id": "3ce3a89f",
   "metadata": {
    "cellId": "l8bm5lc66dd4nujd0wboo"
   },
   "outputs": [
    {
     "name": "stderr",
     "output_type": "stream",
     "text": [
      "100%|██████████| 20833/20833 [00:02<00:00, 8613.30it/s]\n"
     ]
    }
   ],
   "source": [
    "import tqdm\n",
    "\n",
    "with open('rcv1_v2_data/train.tgt', 'r') as f:\n",
    "    with open('rcv1_v2_data/train.src', 'r') as g:\n",
    "        with open('train_docbert.rcv', 'w') as fg:\n",
    "            tgt_readlines = f.readlines()\n",
    "            src_readlines = g.readlines()\n",
    "            for i in tqdm.tqdm(range(len(src_readlines))):\n",
    "                label = ['0'] * N\n",
    "                s = src_readlines[i]\n",
    "                t = tgt_readlines[i].strip().split()\n",
    "                for e in t:\n",
    "                    label[key2i[e.upper()] - 1] = '1'\n",
    "                fg.write(''.join(label) + '\\t' + s)"
   ]
  },
  {
   "cell_type": "code",
   "execution_count": 353,
   "id": "4bb7f938",
   "metadata": {
    "cellId": "9rrx6b74ban5sz2xce4u0e"
   },
   "outputs": [
    {
     "name": "stderr",
     "output_type": "stream",
     "text": [
      "100%|██████████| 2316/2316 [00:00<00:00, 224031.55it/s]\n"
     ]
    }
   ],
   "source": [
    "with open('rcv1_v2_data/valid.tgt', 'r') as f:\n",
    "    with open('rcv1_v2_data/valid.src', 'r') as g:\n",
    "        with open('valid_docbert.rcv', 'w') as fg:\n",
    "            tgt_readlines = f.readlines()\n",
    "            src_readlines = g.readlines()\n",
    "            for i in tqdm.tqdm(range(len(src_readlines))):\n",
    "                label = ['0'] * N\n",
    "                s = src_readlines[i]\n",
    "                t = tgt_readlines[i].strip().split()\n",
    "                for e in t:\n",
    "                    label[key2i[e.upper()] - 1] = '1'\n",
    "                fg.write(''.join(label) + '\\t' + s)"
   ]
  },
  {
   "cell_type": "code",
   "execution_count": 354,
   "id": "ff6dc4d8",
   "metadata": {
    "cellId": "loe8y6m5dd3dx9lsgmzdq"
   },
   "outputs": [
    {
     "name": "stderr",
     "output_type": "stream",
     "text": [
      "100%|██████████| 781265/781265 [00:03<00:00, 258348.66it/s]\n"
     ]
    }
   ],
   "source": [
    "with open('rcv1_v2_data/test.tgt', 'r') as f:\n",
    "    with open('rcv1_v2_data/test.src', 'r') as g:\n",
    "        with open('test_docbert.rcv', 'w') as fg:\n",
    "            tgt_readlines = f.readlines()\n",
    "            src_readlines = g.readlines()\n",
    "            for i in tqdm.tqdm(range(len(src_readlines))):\n",
    "                label = ['0'] * N\n",
    "                s = src_readlines[i]\n",
    "                t = tgt_readlines[i].strip().split()\n",
    "                for e in t:\n",
    "                    label[key2i[e.upper()] - 1] = '1'\n",
    "                fg.write(''.join(label) + '\\t' + s)"
   ]
  },
  {
   "cell_type": "code",
   "execution_count": 203,
   "id": "4fdd397a",
   "metadata": {
    "cellId": "jlxw7ps9aeczuuvrvx5rz"
   },
   "outputs": [],
   "source": [
    "res = {}\n",
    "with open('rcv1.taxonomy') as f:\n",
    "    for line in f:\n",
    "        tmp = line.strip().split('\\t')\n",
    "        for i in range(len(tmp)):\n",
    "            if tmp[i] not in res:\n",
    "                res[tmp[i]] = []\n",
    "            if i != 0:\n",
    "                res[tmp[0]].append(tmp[i])"
   ]
  },
  {
   "cell_type": "code",
   "execution_count": 205,
   "id": "dff85bce",
   "metadata": {
    "cellId": "wayujs0mc5o4wz64ekt3"
   },
   "outputs": [],
   "source": [
    "key2i = {}\n",
    "for i, elem in enumerate(list(res.keys())):\n",
    "    key2i[elem] = i"
   ]
  },
  {
   "cell_type": "code",
   "execution_count": 206,
   "id": "2ee19efa",
   "metadata": {
    "cellId": "qnlxgdx469kh85cntc0pyi"
   },
   "outputs": [],
   "source": [
    "N = len(key2i)"
   ]
  },
  {
   "cell_type": "code",
   "execution_count": 207,
   "id": "fdd30c8f",
   "metadata": {
    "cellId": "i6dmkt5jski4iah67kx8w"
   },
   "outputs": [
    {
     "name": "stderr",
     "output_type": "stream",
     "text": [
      "100%|██████████| 20833/20833 [00:02<00:00, 9934.40it/s]\n"
     ]
    }
   ],
   "source": [
    "from tqdm import tqdm\n",
    "\n",
    "with open('rcv1_v2_data/train.tgt', 'r') as f:\n",
    "    with open('rcv1_v2_data/train.src', 'r') as g:\n",
    "        with open('train_docbert_hiermax.rcv', 'w') as fg:\n",
    "            tgt_readlines = f.readlines()\n",
    "            src_readlines = g.readlines()\n",
    "            for i in tqdm(range(len(src_readlines))):\n",
    "                if i not in res_train:\n",
    "                    continue\n",
    "                label = ['0'] * N\n",
    "                label[0] = '1'\n",
    "                s = src_readlines[i]\n",
    "                t = tgt_readlines[i].strip().split()\n",
    "                for e in t:\n",
    "                    label[key2i[e.upper()]] = '1'\n",
    "                fg.write(''.join(label) + '\\t' + s)"
   ]
  },
  {
   "cell_type": "code",
   "execution_count": 208,
   "id": "2c132386",
   "metadata": {
    "cellId": "t9432qur958zziacpvagp"
   },
   "outputs": [
    {
     "name": "stdout",
     "output_type": "stream",
     "text": [
      "11377 train_docbert_hiermax.rcv\n"
     ]
    }
   ],
   "source": [
    "!wc -l train_docbert_hiermax.rcv"
   ]
  },
  {
   "cell_type": "code",
   "execution_count": 209,
   "id": "e372188d",
   "metadata": {
    "cellId": "07e3t08diijh7a7lbp5rmu"
   },
   "outputs": [
    {
     "name": "stderr",
     "output_type": "stream",
     "text": [
      "100%|██████████| 2316/2316 [00:00<00:00, 72003.62it/s]\n"
     ]
    }
   ],
   "source": [
    "with open('rcv1_v2_data/valid.tgt', 'r') as f:\n",
    "    with open('rcv1_v2_data/valid.src', 'r') as g:\n",
    "        with open('valid_docbert_hiermax.rcv', 'w') as fg:\n",
    "            tgt_readlines = f.readlines()\n",
    "            src_readlines = g.readlines()\n",
    "            for i in tqdm(range(len(src_readlines))):\n",
    "                if i not in res_val:\n",
    "                    continue\n",
    "                label = ['0'] * N\n",
    "                label[0] = '1'\n",
    "                s = src_readlines[i]\n",
    "                t = tgt_readlines[i].strip().split()\n",
    "                for e in t:\n",
    "                    if e == 'm12ccat':\n",
    "                        label[key2i['M12']] = '1'\n",
    "                        label[key2i['CCAT']] = '1'\n",
    "                        continue\n",
    "                    label[key2i[e.upper()]] = '1'\n",
    "                fg.write(''.join(label) + '\\t' + s)"
   ]
  },
  {
   "cell_type": "code",
   "execution_count": 210,
   "id": "15092362",
   "metadata": {
    "cellId": "e38m2eyy7iqp2k8pka81c8"
   },
   "outputs": [
    {
     "name": "stdout",
     "output_type": "stream",
     "text": [
      "1274 valid_docbert_hiermax.rcv\n"
     ]
    }
   ],
   "source": [
    "!wc -l valid_docbert_hiermax.rcv"
   ]
  },
  {
   "cell_type": "code",
   "execution_count": 213,
   "id": "a1d5ff6a",
   "metadata": {
    "cellId": "sbgraw0h0tm9i51hlda8a"
   },
   "outputs": [
    {
     "name": "stderr",
     "output_type": "stream",
     "text": [
      "100%|██████████| 781265/781265 [00:01<00:00, 457720.91it/s]\n"
     ]
    }
   ],
   "source": [
    "with open('rcv1_v2_data/test.tgt', 'r') as f:\n",
    "    with open('rcv1_v2_data/test.src', 'r') as g:\n",
    "        with open('test_docbert_hiermax.rcv', 'w') as fg:\n",
    "            tgt_readlines = f.readlines()\n",
    "            src_readlines = g.readlines()\n",
    "            for i in tqdm(range(len(src_readlines))):\n",
    "                if i not in res_test:\n",
    "                    continue\n",
    "                label = ['0'] * N\n",
    "                label[0] = '1'\n",
    "                s = src_readlines[i]\n",
    "                t = tgt_readlines[i].strip().split()\n",
    "                for e in t:\n",
    "                    label[key2i[e.upper()]] = '1'\n",
    "                fg.write(''.join(label) + '\\t' + s)"
   ]
  },
  {
   "cell_type": "code",
   "execution_count": 216,
   "id": "7e464955",
   "metadata": {
    "cellId": "zv8uu7jbdutyf0zowtqchl"
   },
   "outputs": [
    {
     "name": "stdout",
     "output_type": "stream",
     "text": [
      "430940 test_docbert_hiermax.rcv\n"
     ]
    }
   ],
   "source": [
    "!wc -l test_docbert_hiermax.rcv"
   ]
  },
  {
   "cell_type": "code",
   "execution_count": null,
   "id": "b8720df1",
   "metadata": {
    "cellId": "kloxmljq4gbw9lw3pdwadl"
   },
   "outputs": [],
   "source": [
    "cnt = 0\n",
    "res = set()\n",
    "with open('rcv1_v2_data/train.tgt', 'r') as f:\n",
    "    for line in f:\n",
    "        temp_counter = {1: 0, 2: 0, 3: 0, 4: 0}\n",
    "        tmp = line.strip().split()\n",
    "        flag = False\n",
    "        for elem in tmp:\n",
    "            if temp_counter[labels_levels[elem]] == 1:\n",
    "                flag = True\n",
    "                break\n",
    "            temp_counter[labels_levels[elem]] += 1\n",
    "        if not flag:\n",
    "            for k, v in temp_counter.items():\n",
    "                if v == 0:\n",
    "                    if len(hier[temp_levels[k-1]]) > 0:\n",
    "                        flag = True\n",
    "                    break\n",
    "            if not flag:\n",
    "                res.add(line.strip())\n",
    "                cnt += 1\n",
    "#                 print(temp_counter, line)\n",
    "cnt"
   ]
  },
  {
   "cell_type": "code",
   "execution_count": 156,
   "id": "42f831d0",
   "metadata": {
    "cellId": "s61jfx9cj6f26o9x0j9bbe"
   },
   "outputs": [
    {
     "name": "stdout",
     "output_type": "stream",
     "text": [
      "gcat gobit\n",
      "gcat g15 g151\n",
      "gcat g15 g158\n",
      "gcat gfas\n",
      "gcat g15 g156\n",
      "gcat g15 g152\n",
      "gcat g15 g157\n",
      "ecat e31 e312\n",
      "gcat g15 g153\n"
     ]
    }
   ],
   "source": [
    "for elem in res1:\n",
    "    if elem not in res:\n",
    "        print(elem)"
   ]
  },
  {
   "cell_type": "code",
   "execution_count": 153,
   "id": "2385e547",
   "metadata": {
    "cellId": "cxux2wzdtvcax0i18umuq7"
   },
   "outputs": [],
   "source": [
    "res1 = res"
   ]
  },
  {
   "cell_type": "code",
   "execution_count": 100,
   "id": "b3ac4cfa",
   "metadata": {
    "cellId": "xsnp2zqegajltfiajefz"
   },
   "outputs": [
    {
     "data": {
      "text/plain": [
       "{'root': ['ccat', 'ecat', 'gcat', 'mcat'],\n",
       " 'ccat': ['c11',\n",
       "  'c12',\n",
       "  'c13',\n",
       "  'c14',\n",
       "  'c15',\n",
       "  'c16',\n",
       "  'c17',\n",
       "  'c18',\n",
       "  'c21',\n",
       "  'c22',\n",
       "  'c23',\n",
       "  'c24',\n",
       "  'c31',\n",
       "  'c32',\n",
       "  'c33',\n",
       "  'c34',\n",
       "  'c41',\n",
       "  'c42'],\n",
       " 'ecat': ['e11',\n",
       "  'e12',\n",
       "  'e13',\n",
       "  'e14',\n",
       "  'e21',\n",
       "  'e31',\n",
       "  'e41',\n",
       "  'e51',\n",
       "  'e61',\n",
       "  'e71'],\n",
       " 'gcat': ['g15',\n",
       "  'gcrim',\n",
       "  'gdef',\n",
       "  'gdip',\n",
       "  'gdis',\n",
       "  'gent',\n",
       "  'genv',\n",
       "  'gfas',\n",
       "  'ghea',\n",
       "  'gjob',\n",
       "  'gmil',\n",
       "  'gobit',\n",
       "  'godd',\n",
       "  'gpol',\n",
       "  'gpro',\n",
       "  'grel',\n",
       "  'gsci',\n",
       "  'gspo',\n",
       "  'gtour',\n",
       "  'gvio',\n",
       "  'gvote',\n",
       "  'gwea',\n",
       "  'gwelf'],\n",
       " 'mcat': ['m11', 'm12', 'm13', 'm14'],\n",
       " 'c11': [],\n",
       " 'c12': [],\n",
       " 'c13': [],\n",
       " 'c14': [],\n",
       " 'c15': ['c151', 'c152'],\n",
       " 'c16': [],\n",
       " 'c17': ['c171', 'c172', 'c173', 'c174'],\n",
       " 'c18': ['c181', 'c182', 'c183'],\n",
       " 'c21': [],\n",
       " 'c22': [],\n",
       " 'c23': [],\n",
       " 'c24': [],\n",
       " 'c31': ['c311', 'c312', 'c313'],\n",
       " 'c32': [],\n",
       " 'c33': ['c331'],\n",
       " 'c34': [],\n",
       " 'c41': ['c411'],\n",
       " 'c42': [],\n",
       " 'c151': ['c1511'],\n",
       " 'c152': [],\n",
       " 'c1511': [],\n",
       " 'c171': [],\n",
       " 'c172': [],\n",
       " 'c173': [],\n",
       " 'c174': [],\n",
       " 'c181': [],\n",
       " 'c182': [],\n",
       " 'c183': [],\n",
       " 'c311': [],\n",
       " 'c312': [],\n",
       " 'c313': [],\n",
       " 'c331': [],\n",
       " 'c411': [],\n",
       " 'e11': [],\n",
       " 'e12': ['e121'],\n",
       " 'e13': ['e131', 'e132'],\n",
       " 'e14': ['e141', 'e142', 'e143'],\n",
       " 'e21': ['e211', 'e212'],\n",
       " 'e31': ['e311', 'e312', 'e313'],\n",
       " 'e41': ['e411'],\n",
       " 'e51': ['e511', 'e512', 'e513'],\n",
       " 'e61': [],\n",
       " 'e71': [],\n",
       " 'e121': [],\n",
       " 'e131': [],\n",
       " 'e132': [],\n",
       " 'e141': [],\n",
       " 'e142': [],\n",
       " 'e143': [],\n",
       " 'e211': [],\n",
       " 'e212': [],\n",
       " 'e311': [],\n",
       " 'e312': [],\n",
       " 'e313': [],\n",
       " 'e411': [],\n",
       " 'e511': [],\n",
       " 'e512': [],\n",
       " 'e513': [],\n",
       " 'g15': ['g151',\n",
       "  'g152',\n",
       "  'g153',\n",
       "  'g154',\n",
       "  'g155',\n",
       "  'g156',\n",
       "  'g157',\n",
       "  'g158',\n",
       "  'g159'],\n",
       " 'gcrim': [],\n",
       " 'gdef': [],\n",
       " 'gdip': [],\n",
       " 'gdis': [],\n",
       " 'gent': [],\n",
       " 'genv': [],\n",
       " 'gfas': [],\n",
       " 'ghea': [],\n",
       " 'gjob': [],\n",
       " 'gmil': [],\n",
       " 'gobit': [],\n",
       " 'godd': [],\n",
       " 'gpol': [],\n",
       " 'gpro': [],\n",
       " 'grel': [],\n",
       " 'gsci': [],\n",
       " 'gspo': [],\n",
       " 'gtour': [],\n",
       " 'gvio': [],\n",
       " 'gvote': [],\n",
       " 'gwea': [],\n",
       " 'gwelf': [],\n",
       " 'g151': [],\n",
       " 'g152': [],\n",
       " 'g153': [],\n",
       " 'g154': [],\n",
       " 'g155': [],\n",
       " 'g156': [],\n",
       " 'g157': [],\n",
       " 'g158': [],\n",
       " 'g159': [],\n",
       " 'm11': [],\n",
       " 'm12': [],\n",
       " 'm13': ['m131', 'm132'],\n",
       " 'm14': ['m141', 'm142', 'm143'],\n",
       " 'm131': [],\n",
       " 'm132': [],\n",
       " 'm141': [],\n",
       " 'm142': [],\n",
       " 'm143': []}"
      ]
     },
     "metadata": {},
     "output_type": "display_data"
    }
   ],
   "source": [
    "hier"
   ]
  },
  {
   "cell_type": "code",
   "execution_count": 84,
   "id": "0b3c6314",
   "metadata": {
    "cellId": "smqvz0e2frhdgx7gjg0uqh"
   },
   "outputs": [
    {
     "data": {
      "text/plain": [
       "{'root': 0,\n",
       " 'ccat': 1,\n",
       " 'c11': 2,\n",
       " 'c12': 2,\n",
       " 'c13': 2,\n",
       " 'c14': 2,\n",
       " 'c15': 2,\n",
       " 'c151': 3,\n",
       " 'c1511': 4,\n",
       " 'c152': 3,\n",
       " 'c16': 2,\n",
       " 'c17': 2,\n",
       " 'c171': 3,\n",
       " 'c172': 3,\n",
       " 'c173': 3,\n",
       " 'c174': 3,\n",
       " 'c18': 2,\n",
       " 'c181': 3,\n",
       " 'c182': 3,\n",
       " 'c183': 3,\n",
       " 'c21': 2,\n",
       " 'c22': 2,\n",
       " 'c23': 2,\n",
       " 'c24': 2,\n",
       " 'c31': 2,\n",
       " 'c311': 3,\n",
       " 'c312': 3,\n",
       " 'c313': 3,\n",
       " 'c32': 2,\n",
       " 'c33': 2,\n",
       " 'c331': 3,\n",
       " 'c34': 2,\n",
       " 'c41': 2,\n",
       " 'c411': 3,\n",
       " 'c42': 2,\n",
       " 'ecat': 1,\n",
       " 'e11': 2,\n",
       " 'e12': 2,\n",
       " 'e121': 3,\n",
       " 'e13': 2,\n",
       " 'e131': 3,\n",
       " 'e132': 3,\n",
       " 'e14': 2,\n",
       " 'e141': 3,\n",
       " 'e142': 3,\n",
       " 'e143': 3,\n",
       " 'e21': 2,\n",
       " 'e211': 3,\n",
       " 'e212': 3,\n",
       " 'e31': 2,\n",
       " 'e311': 3,\n",
       " 'e312': 3,\n",
       " 'e313': 3,\n",
       " 'e41': 2,\n",
       " 'e411': 3,\n",
       " 'e51': 2,\n",
       " 'e511': 3,\n",
       " 'e512': 3,\n",
       " 'e513': 3,\n",
       " 'e61': 2,\n",
       " 'e71': 2,\n",
       " 'gcat': 1,\n",
       " 'g15': 2,\n",
       " 'g151': 3,\n",
       " 'g152': 3,\n",
       " 'g153': 3,\n",
       " 'g154': 3,\n",
       " 'g155': 3,\n",
       " 'g156': 3,\n",
       " 'g157': 3,\n",
       " 'g158': 3,\n",
       " 'g159': 3,\n",
       " 'gcrim': 2,\n",
       " 'gdef': 2,\n",
       " 'gdip': 2,\n",
       " 'gdis': 2,\n",
       " 'gent': 2,\n",
       " 'genv': 2,\n",
       " 'gfas': 2,\n",
       " 'ghea': 2,\n",
       " 'gjob': 2,\n",
       " 'gmil': 2,\n",
       " 'gobit': 2,\n",
       " 'godd': 2,\n",
       " 'gpol': 2,\n",
       " 'gpro': 2,\n",
       " 'grel': 2,\n",
       " 'gsci': 2,\n",
       " 'gspo': 2,\n",
       " 'gtour': 2,\n",
       " 'gvio': 2,\n",
       " 'gvote': 2,\n",
       " 'gwea': 2,\n",
       " 'gwelf': 2,\n",
       " 'mcat': 1,\n",
       " 'm11': 2,\n",
       " 'm12': 2,\n",
       " 'm13': 2,\n",
       " 'm131': 3,\n",
       " 'm132': 3,\n",
       " 'm14': 2,\n",
       " 'm141': 3,\n",
       " 'm142': 3,\n",
       " 'm143': 3}"
      ]
     },
     "metadata": {},
     "output_type": "display_data"
    }
   ],
   "source": [
    "labels_levels"
   ]
  },
  {
   "cell_type": "markdown",
   "id": "e575d15b",
   "metadata": {
    "cellId": "gcuohv0h68ceypwyyub9h8"
   },
   "source": [
    "# WOS"
   ]
  },
  {
   "cell_type": "code",
   "execution_count": 217,
   "id": "aaf7cf8c",
   "metadata": {
    "cellId": "b3jfgj07la91dd6dh6mdz7j"
   },
   "outputs": [],
   "source": [
    "!mv HiAGM/data/Data.xlsx metadata.txt"
   ]
  },
  {
   "cell_type": "code",
   "execution_count": 230,
   "id": "ecc2f9df",
   "metadata": {
    "cellId": "4ymb1fgssuxywrsw2p8hcg"
   },
   "outputs": [
    {
     "name": "stdout",
     "output_type": "stream",
     "text": [
      "25820 wos_total.json\n"
     ]
    }
   ],
   "source": [
    "!wc -l wos_total.json"
   ]
  },
  {
   "cell_type": "code",
   "execution_count": 252,
   "id": "126069cb",
   "metadata": {
    "cellId": "gpqey5gpt4rgq2pfh730l9"
   },
   "outputs": [
    {
     "name": "stdout",
     "output_type": "stream",
     "text": [
      "{'0-12': ['Symbolic computation'], '5-2': [\"Alzheimer's Disease\"], '4-7': ['Green Building'], '1-10': ['Electric motor', 'Satellite radio', 'Single-phase electric power'], '5-43': [\"Parkinson's Disease\"], '0-0': ['Computer vision'], '6-0': ['Molecular biology'], '3-4': ['Fluid mechanics'], '2-13': ['Prenatal development'], '5-51': ['Sprains and Strains'], '6-5': ['Enzymology'], '6-8': ['Southern blotting'], '5-38': ['Cancer'], '6-7': ['Northern blotting'], '5-50': ['Sports Injuries'], '5-48': ['Senior Health'], '0-5': ['Computer graphics'], '1-4': ['Digital control'], '6-2': ['Human Metabolism'], '6-6': ['Polymerase chain reaction'], '5-36': ['Multiple Sclerosis'], '0-4': ['Operating systems'], '1-7': ['Microcontroller'], '2-17': ['Attention'], '6-3': ['Immunology'], '6-4': ['Genetics'], '4-4': ['Water Pollution', 'Bamboo as a Building Material', 'Underwater Windmill'], '3-1': ['Hydraulics'], '5-24': ['Hepatitis C'], '5-16': ['Weight Loss'], '0-1': ['Machine learning'], '5-31': ['Low Testosterone'], '5-20': ['Fungal Infection'], '5-15': ['Diabetes'], '0-15': ['Data structures'], '6-1': ['Cell biology', 'DNA/RNA sequencing'], '5-42': ['Parenting'], '5-11': ['Birth Control'], '4-10': ['Smart Material', 'Transparent Concrete', 'Nano Concrete'], '0-2': ['network security'], '5-23': ['Heart Disease'], '3-0': ['computer-aided design'], '0-6': ['Image processing'], '0-7': ['Parallel computing'], '4-0': ['Ambient Intelligence'], '5-1': ['Allergies'], '5-34': ['Menopause'], '5-18': ['Emergency Contraception'], '1-6': ['Electrical network'], '4-9': ['Construction Management'], '0-10': ['Distributed computing'], '1-9': ['Electrical generator', 'Analog signal processing'], '1-0': ['Electricity'], '1-15': ['Operational amplifier'], '3-2': ['Manufacturing engineering'], '5-9': ['Skin Care'], '2-6': ['Eating disorders'], '5-37': ['Myelofibrosis'], '4-5': ['Suspension Bridge'], '3-3': ['Machine design'], '5-27': ['Hypothyroidism'], '5-21': ['Headache'], '5-41': ['Overactive Bladder'], '4-1': ['Geotextile', 'Highway Network System'], '5-29': ['Irritable Bowel Syndrome'], '5-44': ['Polycythemia Vera'], '5-7': ['Atrial Fibrillation', 'Depression'], '5-49': ['Smoking Cessation'], '5-32': ['Lymphoma'], '3-6': ['Thermodynamics'], '5-5': ['Asthma'], '1-13': ['State space representation'], '5-10': ['Bipolar Disorder', 'Schizophrenia'], '3-7': ['Materials Engineering'], '4-6': ['Stealth Technology'], '4-8': ['Solar Energy'], '1-12': ['Signal-flow graph'], '5-13': [\"Crohn's Disease\"], '2-8': ['Borderline personality disorder'], '2-4': ['Prosocial behavior'], '2-16': ['False memories'], '5-28': ['Idiopathic Pulmonary Fibrosis'], '1-2': ['Electrical circuits'], '0-13': ['Algorithm design'], '3-8': ['Strength of materials'], '2-18': ['Problem-solving'], '3-5': ['Internal combustion engine'], '1-1': ['Lorentz force law'], '2-0': ['Prejudice'], '2-11': ['Antisocial personality disorder'], '1-5': ['System identification'], '0-14': ['Computer programming'], '2-3': ['Nonverbal communication'], '0-8': ['Relational databases'], '1-14': ['PID controller'], '1-3': ['Voltage law'], '2-5': ['Leadership'], '2-14': ['Child abuse'], '5-19': ['Mental Health'], '5-14': ['Dementia'], '5-47': ['Rheumatoid Arthritis'], '5-40': ['Osteoporosis'], '0-9': ['Software engineering'], '0-16': ['Bioinformatics'], '5-33': ['Medicare'], '1-11': ['Control engineering'], '5-46': ['Psoriatic Arthritis'], '5-0': ['Addiction'], '5-6': ['Atopic Dermatitis'], '5-17': ['Digestive Health', 'Outdoor Health'], '4-2': ['Remote Sensing'], '2-15': ['Gender roles'], '4-3': ['Rainwater Harvesting'], '5-22': ['Healthy Sleep'], '2-7': ['Depression'], '2-1': ['Social cognition'], '5-4': ['Anxiety'], '0-3': ['Cryptography'], '5-45': ['Psoriasis'], '5-3': ['Ankylosing Spondylitis'], '5-12': [\"Children's Health\"], '5-52': ['Stress Management'], '2-9': ['Seasonal affective disorder'], '5-26': ['HIV/AIDS'], '5-35': ['Migraine'], '2-2': ['Person perception'], '5-39': ['Osteoarthritis'], '5-25': ['Hereditary Angioedema'], '2-12': ['Media violence'], '2-10': ['Schizophrenia'], '5-30': ['Kidney Health'], '5-8': ['Autism'], '0-11': ['Structured Storage']}\n",
      "1-10 ['Electric motor', 'Satellite radio', 'Single-phase electric power']\n",
      "4-4 ['Water Pollution', 'Bamboo as a Building Material', 'Underwater Windmill']\n",
      "6-1 ['Cell biology', 'DNA/RNA sequencing']\n",
      "4-10 ['Smart Material', 'Transparent Concrete', 'Nano Concrete']\n",
      "1-9 ['Electrical generator', 'Analog signal processing']\n",
      "4-1 ['Geotextile', 'Highway Network System']\n",
      "5-7 ['Atrial Fibrillation', 'Depression']\n",
      "5-10 ['Bipolar Disorder', 'Schizophrenia']\n",
      "5-17 ['Digestive Health', 'Outdoor Health']\n",
      "12\n",
      "133\n",
      "30070 7518 9397\n"
     ]
    }
   ],
   "source": [
    "!python3 HiAGM/data/preprocess_wos.py"
   ]
  },
  {
   "cell_type": "code",
   "execution_count": 327,
   "id": "86177077",
   "metadata": {
    "cellId": "ncm8fyaa9hfv0j9ggwe0p"
   },
   "outputs": [
    {
     "name": "stdout",
     "output_type": "stream",
     "text": [
      "{\"token\": [\"high\", \"degree\", \"uncertainty\", \"associated\", \"emission\", \"inventory\", \"china\", \"tends\", \"degrade\", \"performance\", \"chemical\", \"transport\", \"models\", \"predicting\", \"pm2\", \"concentrations\", \"especially\", \"daily\", \"basis\", \"study\", \"novel\", \"machine\", \"learning\", \"algorithm\", \"geographically\", \"weighted\", \"gradient\", \"boosting\", \"machine\", \"gw\", \"gbm\", \"developed\", \"improving\", \"gbm\", \"building\", \"spatial\", \"smoothing\", \"kernels\", \"weigh\", \"loss\", \"function\", \"modification\", \"addressed\", \"spatial\", \"nonstationarity\", \"relationships\", \"pm2\", \"concentrations\", \"predictor\", \"variables\", \"aerosol\", \"optical\", \"depth\", \"aod\", \"meteorological\", \"conditions\", \"gw\", \"gbm\", \"also\", \"overcame\", \"estimation\", \"bias\", \"pm2\", \"concentrations\", \"due\", \"missing\", \"aod\", \"retrievals\", \"thus\", \"potentially\", \"improved\", \"subsequent\", \"exposure\", \"analyses\", \"gw\", \"gbm\", \"showed\", \"good\", \"performance\", \"predicting\", \"daily\", \"pm2\", \"concentrations\", \"76\", \"rmse\", \"23\", \"even\", \"partially\", \"missing\", \"aod\", \"data\", \"better\", \"original\", \"gbm\", \"model\", \"71\", \"rmse\", \"25\", \"basis\", \"continuous\", \"spatiotemporal\", \"prediction\", \"pm2\", \"concentrations\", \"predicted\", \"95\", \"population\", \"lived\", \"areas\", \"estimated\", \"annual\", \"mean\", \"pm2\", \"concentration\", \"higher\", \"35\", \"45\", \"population\", \"exposed\", \"pm2\", \"75\", \"100\", \"days\", \"2014\", \"gw\", \"gbm\", \"accurately\", \"predicted\", \"continuous\", \"daily\", \"pm2\", \"concentrations\", \"china\", \"assessing\", \"acute\", \"human\", \"health\", \"effects\", \"2017\", \"elsevier\", \"ltd\", \"rights\", \"reserved\"], \"label\": [\"CS\", \"Machine learning\"], \"topic\": [], \"keyword\": []}\n"
     ]
    }
   ],
   "source": [
    "!head -1 HiAGM/data/wos_test.json"
   ]
  },
  {
   "cell_type": "code",
   "execution_count": 235,
   "id": "3f4293cd",
   "metadata": {
    "cellId": "7ru3a9owa3a5tjqar5ve9"
   },
   "outputs": [
    {
     "name": "stdout",
     "output_type": "stream",
     "text": [
      "Root\tCS\tMedical\tCivil\tECE\tbiochemistry\tMAE\tPsychology\n",
      "CS\tSymbolic computation\tComputer vision\tComputer graphics\tOperating systems\tMachine learning\tData structures\tnetwork security\tImage processing\tParallel computing\tDistributed computing\tAlgorithm design\tComputer programming\tRelational databases\tSoftware engineering\tBioinformatics\tCryptography\tStructured Storage\n",
      "Medical\tAlzheimer's Disease\tParkinson's Disease\tSprains and Strains\tCancer\tSports Injuries\tSenior Health\tMultiple Sclerosis\tHepatitis C\tWeight Loss\tLow Testosterone\tFungal Infection\tDiabetes\tParenting\tBirth Control\tHeart Disease\tAllergies\tMenopause\tEmergency Contraception\tSkin Care\tMyelofibrosis\tHypothyroidism\tHeadache\tOveractive Bladder\tIrritable Bowel Syndrome\tPolycythemia Vera\tAtrial Fibrillation\tSmoking Cessation\tLymphoma\tAsthma\tBipolar Disorder\tCrohn's Disease\tIdiopathic Pulmonary Fibrosis\tMental Health\tDementia\tRheumatoid Arthritis\tOsteoporosis\tMedicare\tPsoriatic Arthritis\tAddiction\tAtopic Dermatitis\tDigestive Health\tHealthy Sleep\tAnxiety\tPsoriasis\tAnkylosing Spondylitis\tChildren's Health\tStress Management\tHIV/AIDS\tMigraine\tOsteoarthritis\tHereditary Angioedema\tKidney Health\tAutism\n",
      "Civil\tGreen Building\tWater Pollution\tSmart Material\tAmbient Intelligence\tConstruction Management\tSuspension Bridge\tGeotextile\tStealth Technology\tSolar Energy\tRemote Sensing\tRainwater Harvesting\n",
      "ECE\tElectric motor\tDigital control\tMicrocontroller\tElectrical network\tElectrical generator\tElectricity\tOperational amplifier\tAnalog signal processing\tState space representation\tSignal-flow graph\tElectrical circuits\tLorentz force law\tSystem identification\tPID controller\tVoltage law\tControl engineering\n",
      "biochemistry\tMolecular biology\tEnzymology\tSouthern blotting\tNorthern blotting\tHuman Metabolism\tPolymerase chain reaction\tImmunology\tGenetics\tCell biology\n",
      "MAE\tFluid mechanics\tHydraulics\tcomputer-aided design\tManufacturing engineering\tMachine design\tThermodynamics\tMaterials Engineering\tStrength of materials\tInternal combustion engine\n",
      "Psychology\tPrenatal development\tAttention\tEating disorders\tBorderline personality disorder\tProsocial behavior\tFalse memories\tProblem-solving\tPrejudice\tAntisocial personality disorder\tNonverbal communication\tLeadership\tChild abuse\tGender roles\tDepression\tSocial cognition\tSeasonal affective disorder\tPerson perception\tMedia violence\tSchizophrenia\n"
     ]
    }
   ],
   "source": [
    "!head wos.taxnomy"
   ]
  },
  {
   "cell_type": "code",
   "execution_count": 253,
   "id": "823ad90e",
   "metadata": {
    "cellId": "boj9brj6xsrzjda4yvwqh"
   },
   "outputs": [],
   "source": [
    "!mv wos_train.json HiAGM/data/"
   ]
  },
  {
   "cell_type": "code",
   "execution_count": 254,
   "id": "d02cc650",
   "metadata": {
    "cellId": "b3e5bjltibwwzb4zfq74m9"
   },
   "outputs": [],
   "source": [
    "!mv wos_test.json HiAGM/data/\n",
    "!mv wos_val.json HiAGM/data/\n",
    "!mv wos_total.json HiAGM/data/"
   ]
  },
  {
   "cell_type": "code",
   "execution_count": 255,
   "id": "c498d483",
   "metadata": {
    "cellId": "girbjvnk47wqxzjtal8bk"
   },
   "outputs": [],
   "source": [
    "!mv wos.taxnomy HiAGM/data"
   ]
  },
  {
   "cell_type": "code",
   "execution_count": 240,
   "id": "8de63b48",
   "metadata": {
    "cellId": "ymyiwa88j9ip1afd78p5xa"
   },
   "outputs": [
    {
     "name": "stdout",
     "output_type": "stream",
     "text": [
      "Traceback (most recent call last):\n",
      "  File \"HiAGM/helper/hierarchy_tree_statistic.py\", line 5, in <module>\n",
      "    from models.structure_model.tree import Tree\n",
      "ModuleNotFoundError: No module named 'models'\n"
     ]
    },
    {
     "ename": "Exception",
     "evalue": "Process exited with code 1",
     "output_type": "error",
     "traceback": [
      "\u001b[0;31m---------------------------------------------------------------------------\u001b[0m",
      "\u001b[0;31mException\u001b[0m                                 Traceback (most recent call last)",
      "\u001b[0;32m<ipython-input-2-bc66f2580b42>\u001b[0m in \u001b[0;36m<module>\u001b[0;34m\u001b[0m\n\u001b[0;32m----> 1\u001b[0;31m \u001b[0mget_ipython\u001b[0m\u001b[0;34m(\u001b[0m\u001b[0;34m)\u001b[0m\u001b[0;34m.\u001b[0m\u001b[0msystem\u001b[0m\u001b[0;34m(\u001b[0m\u001b[0;34m'python3 HiAGM/helper/hierarchy_tree_statistic.py HiAGM/config/rcv1-v2-Copy1.json'\u001b[0m\u001b[0;34m)\u001b[0m\u001b[0;34m\u001b[0m\u001b[0;34m\u001b[0m\u001b[0m\n\u001b[0m\u001b[1;32m      2\u001b[0m \u001b[0;31m#\u001b[0m\u001b[0;34m\u001b[0m\u001b[0;34m\u001b[0m\u001b[0;34m\u001b[0m\u001b[0m\n",
      "\u001b[0;32m/kernel/lib/python3.8/site-packages/ml_kernel/kernel.py\u001b[0m in \u001b[0;36m<lambda>\u001b[0;34m(code)\u001b[0m\n\u001b[1;32m    253\u001b[0m \u001b[0;34m\u001b[0m\u001b[0m\n\u001b[1;32m    254\u001b[0m         \u001b[0mself\u001b[0m\u001b[0;34m.\u001b[0m\u001b[0m_script_executor\u001b[0m \u001b[0;34m=\u001b[0m \u001b[0mScriptExecutor\u001b[0m\u001b[0;34m(\u001b[0m\u001b[0mProcessHandler\u001b[0m\u001b[0;34m(\u001b[0m\u001b[0;34m)\u001b[0m\u001b[0;34m.\u001b[0m\u001b[0msystem\u001b[0m\u001b[0;34m)\u001b[0m\u001b[0;34m\u001b[0m\u001b[0;34m\u001b[0m\u001b[0m\n\u001b[0;32m--> 255\u001b[0;31m         \u001b[0mself\u001b[0m\u001b[0;34m.\u001b[0m\u001b[0mshell\u001b[0m\u001b[0;34m.\u001b[0m\u001b[0msystem\u001b[0m \u001b[0;34m=\u001b[0m \u001b[0;32mlambda\u001b[0m \u001b[0mcode\u001b[0m\u001b[0;34m:\u001b[0m \u001b[0mself\u001b[0m\u001b[0;34m.\u001b[0m\u001b[0m_script_executor\u001b[0m\u001b[0;34m.\u001b[0m\u001b[0mexecute\u001b[0m\u001b[0;34m(\u001b[0m\u001b[0;34m\"bash\"\u001b[0m\u001b[0;34m,\u001b[0m \u001b[0mcode\u001b[0m\u001b[0;34m)\u001b[0m\u001b[0;34m\u001b[0m\u001b[0;34m\u001b[0m\u001b[0m\n\u001b[0m\u001b[1;32m    256\u001b[0m \u001b[0;34m\u001b[0m\u001b[0m\n\u001b[1;32m    257\u001b[0m     \u001b[0;32mdef\u001b[0m \u001b[0m_init_message_handlers\u001b[0m\u001b[0;34m(\u001b[0m\u001b[0mself\u001b[0m\u001b[0;34m)\u001b[0m\u001b[0;34m:\u001b[0m\u001b[0;34m\u001b[0m\u001b[0;34m\u001b[0m\u001b[0m\n",
      "\u001b[0;32m/kernel/lib/python3.8/site-packages/ml_kernel/script_executor.py\u001b[0m in \u001b[0;36mexecute\u001b[0;34m(self, lang, code)\u001b[0m\n\u001b[1;32m     33\u001b[0m         \u001b[0mreturn_code\u001b[0m \u001b[0;34m=\u001b[0m \u001b[0mself\u001b[0m\u001b[0;34m.\u001b[0m\u001b[0m_system\u001b[0m\u001b[0;34m(\u001b[0m\u001b[0mcode\u001b[0m\u001b[0;34m)\u001b[0m\u001b[0;34m\u001b[0m\u001b[0;34m\u001b[0m\u001b[0m\n\u001b[1;32m     34\u001b[0m         \u001b[0;32mif\u001b[0m \u001b[0mreturn_code\u001b[0m \u001b[0;34m!=\u001b[0m \u001b[0;36m0\u001b[0m\u001b[0;34m:\u001b[0m\u001b[0;34m\u001b[0m\u001b[0;34m\u001b[0m\u001b[0m\n\u001b[0;32m---> 35\u001b[0;31m             \u001b[0;32mraise\u001b[0m \u001b[0mException\u001b[0m\u001b[0;34m(\u001b[0m\u001b[0;34m'Process exited with code %d'\u001b[0m \u001b[0;34m%\u001b[0m \u001b[0mreturn_code\u001b[0m\u001b[0;34m)\u001b[0m\u001b[0;34m\u001b[0m\u001b[0;34m\u001b[0m\u001b[0m\n\u001b[0m",
      "\u001b[0;31mException\u001b[0m: Process exited with code 1"
     ]
    }
   ],
   "source": [
    "!python3 HiAGM/helper/hierarchy_tree_statistic.py HiAGM/config/rcv1-v2-Copy1.json"
   ]
  },
  {
   "cell_type": "code",
   "execution_count": 243,
   "id": "87ad1085",
   "metadata": {
    "cellId": "83rrs36a1bo6sl5bsictet"
   },
   "outputs": [
    {
     "name": "stdout",
     "output_type": "stream",
     "text": [
      "Traceback (most recent call last):\n",
      "  File \"helper/hierarchy_tree_statistic.py\", line 5, in <module>\n",
      "    from models.structure_model.tree import Tree\n",
      "ModuleNotFoundError: No module named 'models'\n"
     ]
    },
    {
     "ename": "Exception",
     "evalue": "Process exited with code 1",
     "output_type": "error",
     "traceback": [
      "\u001b[0;31m---------------------------------------------------------------------------\u001b[0m",
      "\u001b[0;31mException\u001b[0m                                 Traceback (most recent call last)",
      "\u001b[0;32m<ipython-input-5-df8d4ea65ec9>\u001b[0m in \u001b[0;36m<module>\u001b[0;34m\u001b[0m\n\u001b[0;32m----> 1\u001b[0;31m \u001b[0mget_ipython\u001b[0m\u001b[0;34m(\u001b[0m\u001b[0;34m)\u001b[0m\u001b[0;34m.\u001b[0m\u001b[0msystem\u001b[0m\u001b[0;34m(\u001b[0m\u001b[0;34m'cd HiAGM && python3 helper/hierarchy_tree_statistic.py HiAGM/config/rcv1-v2-Copy1.json'\u001b[0m\u001b[0;34m)\u001b[0m\u001b[0;34m\u001b[0m\u001b[0;34m\u001b[0m\u001b[0m\n\u001b[0m\u001b[1;32m      2\u001b[0m \u001b[0;31m#\u001b[0m\u001b[0;34m\u001b[0m\u001b[0;34m\u001b[0m\u001b[0;34m\u001b[0m\u001b[0m\n",
      "\u001b[0;32m/kernel/lib/python3.8/site-packages/ml_kernel/kernel.py\u001b[0m in \u001b[0;36m<lambda>\u001b[0;34m(code)\u001b[0m\n\u001b[1;32m    253\u001b[0m \u001b[0;34m\u001b[0m\u001b[0m\n\u001b[1;32m    254\u001b[0m         \u001b[0mself\u001b[0m\u001b[0;34m.\u001b[0m\u001b[0m_script_executor\u001b[0m \u001b[0;34m=\u001b[0m \u001b[0mScriptExecutor\u001b[0m\u001b[0;34m(\u001b[0m\u001b[0mProcessHandler\u001b[0m\u001b[0;34m(\u001b[0m\u001b[0;34m)\u001b[0m\u001b[0;34m.\u001b[0m\u001b[0msystem\u001b[0m\u001b[0;34m)\u001b[0m\u001b[0;34m\u001b[0m\u001b[0;34m\u001b[0m\u001b[0m\n\u001b[0;32m--> 255\u001b[0;31m         \u001b[0mself\u001b[0m\u001b[0;34m.\u001b[0m\u001b[0mshell\u001b[0m\u001b[0;34m.\u001b[0m\u001b[0msystem\u001b[0m \u001b[0;34m=\u001b[0m \u001b[0;32mlambda\u001b[0m \u001b[0mcode\u001b[0m\u001b[0;34m:\u001b[0m \u001b[0mself\u001b[0m\u001b[0;34m.\u001b[0m\u001b[0m_script_executor\u001b[0m\u001b[0;34m.\u001b[0m\u001b[0mexecute\u001b[0m\u001b[0;34m(\u001b[0m\u001b[0;34m\"bash\"\u001b[0m\u001b[0;34m,\u001b[0m \u001b[0mcode\u001b[0m\u001b[0;34m)\u001b[0m\u001b[0;34m\u001b[0m\u001b[0;34m\u001b[0m\u001b[0m\n\u001b[0m\u001b[1;32m    256\u001b[0m \u001b[0;34m\u001b[0m\u001b[0m\n\u001b[1;32m    257\u001b[0m     \u001b[0;32mdef\u001b[0m \u001b[0m_init_message_handlers\u001b[0m\u001b[0;34m(\u001b[0m\u001b[0mself\u001b[0m\u001b[0;34m)\u001b[0m\u001b[0;34m:\u001b[0m\u001b[0;34m\u001b[0m\u001b[0;34m\u001b[0m\u001b[0m\n",
      "\u001b[0;32m/kernel/lib/python3.8/site-packages/ml_kernel/script_executor.py\u001b[0m in \u001b[0;36mexecute\u001b[0;34m(self, lang, code)\u001b[0m\n\u001b[1;32m     33\u001b[0m         \u001b[0mreturn_code\u001b[0m \u001b[0;34m=\u001b[0m \u001b[0mself\u001b[0m\u001b[0;34m.\u001b[0m\u001b[0m_system\u001b[0m\u001b[0;34m(\u001b[0m\u001b[0mcode\u001b[0m\u001b[0;34m)\u001b[0m\u001b[0;34m\u001b[0m\u001b[0;34m\u001b[0m\u001b[0m\n\u001b[1;32m     34\u001b[0m         \u001b[0;32mif\u001b[0m \u001b[0mreturn_code\u001b[0m \u001b[0;34m!=\u001b[0m \u001b[0;36m0\u001b[0m\u001b[0;34m:\u001b[0m\u001b[0;34m\u001b[0m\u001b[0;34m\u001b[0m\u001b[0m\n\u001b[0;32m---> 35\u001b[0;31m             \u001b[0;32mraise\u001b[0m \u001b[0mException\u001b[0m\u001b[0;34m(\u001b[0m\u001b[0;34m'Process exited with code %d'\u001b[0m \u001b[0;34m%\u001b[0m \u001b[0mreturn_code\u001b[0m\u001b[0;34m)\u001b[0m\u001b[0;34m\u001b[0m\u001b[0;34m\u001b[0m\u001b[0m\n\u001b[0m",
      "\u001b[0;31mException\u001b[0m: Process exited with code 1"
     ]
    }
   ],
   "source": [
    "!cd HiAGM && python3 helper/hierarchy_tree_statistic.py HiAGM/config/rcv1-v2-Copy1.json"
   ]
  },
  {
   "cell_type": "code",
   "execution_count": 256,
   "id": "85ad3e77",
   "metadata": {
    "cellId": "5xxi70le8flx4nn3cyp94i"
   },
   "outputs": [
    {
     "name": "stdout",
     "output_type": "stream",
     "text": [
      "{'Root': ['CS', 'Medical', 'Civil', 'ECE', 'biochemistry', 'MAE', 'Psychology'], 'CS': ['Symbolic computation', 'Computer vision', 'Computer graphics', 'Operating systems', 'Machine learning', 'Data structures', 'network security', 'Image processing', 'Parallel computing', 'Distributed computing', 'Algorithm design', 'Computer programming', 'Relational databases', 'Software engineering', 'Bioinformatics', 'Cryptography', 'Structured Storage'], 'Medical': [\"Alzheimer's Disease\", \"Parkinson's Disease\", 'Sprains and Strains', 'Cancer', 'Sports Injuries', 'Senior Health', 'Multiple Sclerosis', 'Hepatitis C', 'Weight Loss', 'Low Testosterone', 'Fungal Infection', 'Diabetes', 'Parenting', 'Birth Control', 'Heart Disease', 'Allergies', 'Menopause', 'Emergency Contraception', 'Skin Care', 'Myelofibrosis', 'Hypothyroidism', 'Headache', 'Overactive Bladder', 'Irritable Bowel Syndrome', 'Polycythemia Vera', 'Atrial Fibrillation', 'Smoking Cessation', 'Lymphoma', 'Asthma', 'Bipolar Disorder', \"Crohn's Disease\", 'Idiopathic Pulmonary Fibrosis', 'Mental Health', 'Dementia', 'Rheumatoid Arthritis', 'Osteoporosis', 'Medicare', 'Psoriatic Arthritis', 'Addiction', 'Atopic Dermatitis', 'Digestive Health', 'Healthy Sleep', 'Anxiety', 'Psoriasis', 'Ankylosing Spondylitis', \"Children's Health\", 'Stress Management', 'HIV/AIDS', 'Migraine', 'Osteoarthritis', 'Hereditary Angioedema', 'Kidney Health', 'Autism'], 'Civil': ['Green Building', 'Water Pollution', 'Smart Material', 'Ambient Intelligence', 'Construction Management', 'Suspension Bridge', 'Geotextile', 'Stealth Technology', 'Solar Energy', 'Remote Sensing', 'Rainwater Harvesting'], 'ECE': ['Electric motor', 'Digital control', 'Microcontroller', 'Electrical network', 'Electrical generator', 'Electricity', 'Operational amplifier', 'Analog signal processing', 'State space representation', 'Signal-flow graph', 'Electrical circuits', 'Lorentz force law', 'System identification', 'PID controller', 'Voltage law', 'Control engineering'], 'biochemistry': ['Molecular biology', 'Enzymology', 'Southern blotting', 'Northern blotting', 'Human Metabolism', 'Polymerase chain reaction', 'Immunology', 'Genetics', 'Cell biology'], 'MAE': ['Fluid mechanics', 'Hydraulics', 'computer-aided design', 'Manufacturing engineering', 'Machine design', 'Thermodynamics', 'Materials Engineering', 'Strength of materials', 'Internal combustion engine'], 'Psychology': ['Prenatal development', 'Attention', 'Eating disorders', 'Borderline personality disorder', 'Prosocial behavior', 'False memories', 'Problem-solving', 'Prejudice', 'Antisocial personality disorder', 'Nonverbal communication', 'Leadership', 'Child abuse', 'Gender roles', 'Depression', 'Social cognition', 'Seasonal affective disorder', 'Person perception', 'Media violence', 'Schizophrenia']}\n",
      "dict_keys(['Root'])\n",
      "Root\n",
      "dict_keys(['Root', 'CS', 'Medical', 'Civil', 'ECE', 'biochemistry', 'MAE', 'Psychology'])\n",
      "CS\n",
      "dict_keys(['Root', 'CS', 'Medical', 'Civil', 'ECE', 'biochemistry', 'MAE', 'Psychology', 'Symbolic computation', 'Computer vision', 'Computer graphics', 'Operating systems', 'Machine learning', 'Data structures', 'network security', 'Image processing', 'Parallel computing', 'Distributed computing', 'Algorithm design', 'Computer programming', 'Relational databases', 'Software engineering', 'Bioinformatics', 'Cryptography', 'Structured Storage'])\n",
      "Medical\n",
      "dict_keys(['Root', 'CS', 'Medical', 'Civil', 'ECE', 'biochemistry', 'MAE', 'Psychology', 'Symbolic computation', 'Computer vision', 'Computer graphics', 'Operating systems', 'Machine learning', 'Data structures', 'network security', 'Image processing', 'Parallel computing', 'Distributed computing', 'Algorithm design', 'Computer programming', 'Relational databases', 'Software engineering', 'Bioinformatics', 'Cryptography', 'Structured Storage', \"Alzheimer's Disease\", \"Parkinson's Disease\", 'Sprains and Strains', 'Cancer', 'Sports Injuries', 'Senior Health', 'Multiple Sclerosis', 'Hepatitis C', 'Weight Loss', 'Low Testosterone', 'Fungal Infection', 'Diabetes', 'Parenting', 'Birth Control', 'Heart Disease', 'Allergies', 'Menopause', 'Emergency Contraception', 'Skin Care', 'Myelofibrosis', 'Hypothyroidism', 'Headache', 'Overactive Bladder', 'Irritable Bowel Syndrome', 'Polycythemia Vera', 'Atrial Fibrillation', 'Smoking Cessation', 'Lymphoma', 'Asthma', 'Bipolar Disorder', \"Crohn's Disease\", 'Idiopathic Pulmonary Fibrosis', 'Mental Health', 'Dementia', 'Rheumatoid Arthritis', 'Osteoporosis', 'Medicare', 'Psoriatic Arthritis', 'Addiction', 'Atopic Dermatitis', 'Digestive Health', 'Healthy Sleep', 'Anxiety', 'Psoriasis', 'Ankylosing Spondylitis', \"Children's Health\", 'Stress Management', 'HIV/AIDS', 'Migraine', 'Osteoarthritis', 'Hereditary Angioedema', 'Kidney Health', 'Autism'])\n",
      "Civil\n",
      "dict_keys(['Root', 'CS', 'Medical', 'Civil', 'ECE', 'biochemistry', 'MAE', 'Psychology', 'Symbolic computation', 'Computer vision', 'Computer graphics', 'Operating systems', 'Machine learning', 'Data structures', 'network security', 'Image processing', 'Parallel computing', 'Distributed computing', 'Algorithm design', 'Computer programming', 'Relational databases', 'Software engineering', 'Bioinformatics', 'Cryptography', 'Structured Storage', \"Alzheimer's Disease\", \"Parkinson's Disease\", 'Sprains and Strains', 'Cancer', 'Sports Injuries', 'Senior Health', 'Multiple Sclerosis', 'Hepatitis C', 'Weight Loss', 'Low Testosterone', 'Fungal Infection', 'Diabetes', 'Parenting', 'Birth Control', 'Heart Disease', 'Allergies', 'Menopause', 'Emergency Contraception', 'Skin Care', 'Myelofibrosis', 'Hypothyroidism', 'Headache', 'Overactive Bladder', 'Irritable Bowel Syndrome', 'Polycythemia Vera', 'Atrial Fibrillation', 'Smoking Cessation', 'Lymphoma', 'Asthma', 'Bipolar Disorder', \"Crohn's Disease\", 'Idiopathic Pulmonary Fibrosis', 'Mental Health', 'Dementia', 'Rheumatoid Arthritis', 'Osteoporosis', 'Medicare', 'Psoriatic Arthritis', 'Addiction', 'Atopic Dermatitis', 'Digestive Health', 'Healthy Sleep', 'Anxiety', 'Psoriasis', 'Ankylosing Spondylitis', \"Children's Health\", 'Stress Management', 'HIV/AIDS', 'Migraine', 'Osteoarthritis', 'Hereditary Angioedema', 'Kidney Health', 'Autism', 'Green Building', 'Water Pollution', 'Smart Material', 'Ambient Intelligence', 'Construction Management', 'Suspension Bridge', 'Geotextile', 'Stealth Technology', 'Solar Energy', 'Remote Sensing', 'Rainwater Harvesting'])\n",
      "ECE\n",
      "dict_keys(['Root', 'CS', 'Medical', 'Civil', 'ECE', 'biochemistry', 'MAE', 'Psychology', 'Symbolic computation', 'Computer vision', 'Computer graphics', 'Operating systems', 'Machine learning', 'Data structures', 'network security', 'Image processing', 'Parallel computing', 'Distributed computing', 'Algorithm design', 'Computer programming', 'Relational databases', 'Software engineering', 'Bioinformatics', 'Cryptography', 'Structured Storage', \"Alzheimer's Disease\", \"Parkinson's Disease\", 'Sprains and Strains', 'Cancer', 'Sports Injuries', 'Senior Health', 'Multiple Sclerosis', 'Hepatitis C', 'Weight Loss', 'Low Testosterone', 'Fungal Infection', 'Diabetes', 'Parenting', 'Birth Control', 'Heart Disease', 'Allergies', 'Menopause', 'Emergency Contraception', 'Skin Care', 'Myelofibrosis', 'Hypothyroidism', 'Headache', 'Overactive Bladder', 'Irritable Bowel Syndrome', 'Polycythemia Vera', 'Atrial Fibrillation', 'Smoking Cessation', 'Lymphoma', 'Asthma', 'Bipolar Disorder', \"Crohn's Disease\", 'Idiopathic Pulmonary Fibrosis', 'Mental Health', 'Dementia', 'Rheumatoid Arthritis', 'Osteoporosis', 'Medicare', 'Psoriatic Arthritis', 'Addiction', 'Atopic Dermatitis', 'Digestive Health', 'Healthy Sleep', 'Anxiety', 'Psoriasis', 'Ankylosing Spondylitis', \"Children's Health\", 'Stress Management', 'HIV/AIDS', 'Migraine', 'Osteoarthritis', 'Hereditary Angioedema', 'Kidney Health', 'Autism', 'Green Building', 'Water Pollution', 'Smart Material', 'Ambient Intelligence', 'Construction Management', 'Suspension Bridge', 'Geotextile', 'Stealth Technology', 'Solar Energy', 'Remote Sensing', 'Rainwater Harvesting', 'Electric motor', 'Digital control', 'Microcontroller', 'Electrical network', 'Electrical generator', 'Electricity', 'Operational amplifier', 'Analog signal processing', 'State space representation', 'Signal-flow graph', 'Electrical circuits', 'Lorentz force law', 'System identification', 'PID controller', 'Voltage law', 'Control engineering'])\n",
      "biochemistry\n",
      "dict_keys(['Root', 'CS', 'Medical', 'Civil', 'ECE', 'biochemistry', 'MAE', 'Psychology', 'Symbolic computation', 'Computer vision', 'Computer graphics', 'Operating systems', 'Machine learning', 'Data structures', 'network security', 'Image processing', 'Parallel computing', 'Distributed computing', 'Algorithm design', 'Computer programming', 'Relational databases', 'Software engineering', 'Bioinformatics', 'Cryptography', 'Structured Storage', \"Alzheimer's Disease\", \"Parkinson's Disease\", 'Sprains and Strains', 'Cancer', 'Sports Injuries', 'Senior Health', 'Multiple Sclerosis', 'Hepatitis C', 'Weight Loss', 'Low Testosterone', 'Fungal Infection', 'Diabetes', 'Parenting', 'Birth Control', 'Heart Disease', 'Allergies', 'Menopause', 'Emergency Contraception', 'Skin Care', 'Myelofibrosis', 'Hypothyroidism', 'Headache', 'Overactive Bladder', 'Irritable Bowel Syndrome', 'Polycythemia Vera', 'Atrial Fibrillation', 'Smoking Cessation', 'Lymphoma', 'Asthma', 'Bipolar Disorder', \"Crohn's Disease\", 'Idiopathic Pulmonary Fibrosis', 'Mental Health', 'Dementia', 'Rheumatoid Arthritis', 'Osteoporosis', 'Medicare', 'Psoriatic Arthritis', 'Addiction', 'Atopic Dermatitis', 'Digestive Health', 'Healthy Sleep', 'Anxiety', 'Psoriasis', 'Ankylosing Spondylitis', \"Children's Health\", 'Stress Management', 'HIV/AIDS', 'Migraine', 'Osteoarthritis', 'Hereditary Angioedema', 'Kidney Health', 'Autism', 'Green Building', 'Water Pollution', 'Smart Material', 'Ambient Intelligence', 'Construction Management', 'Suspension Bridge', 'Geotextile', 'Stealth Technology', 'Solar Energy', 'Remote Sensing', 'Rainwater Harvesting', 'Electric motor', 'Digital control', 'Microcontroller', 'Electrical network', 'Electrical generator', 'Electricity', 'Operational amplifier', 'Analog signal processing', 'State space representation', 'Signal-flow graph', 'Electrical circuits', 'Lorentz force law', 'System identification', 'PID controller', 'Voltage law', 'Control engineering', 'Molecular biology', 'Enzymology', 'Southern blotting', 'Northern blotting', 'Human Metabolism', 'Polymerase chain reaction', 'Immunology', 'Genetics', 'Cell biology'])\n",
      "MAE\n",
      "dict_keys(['Root', 'CS', 'Medical', 'Civil', 'ECE', 'biochemistry', 'MAE', 'Psychology', 'Symbolic computation', 'Computer vision', 'Computer graphics', 'Operating systems', 'Machine learning', 'Data structures', 'network security', 'Image processing', 'Parallel computing', 'Distributed computing', 'Algorithm design', 'Computer programming', 'Relational databases', 'Software engineering', 'Bioinformatics', 'Cryptography', 'Structured Storage', \"Alzheimer's Disease\", \"Parkinson's Disease\", 'Sprains and Strains', 'Cancer', 'Sports Injuries', 'Senior Health', 'Multiple Sclerosis', 'Hepatitis C', 'Weight Loss', 'Low Testosterone', 'Fungal Infection', 'Diabetes', 'Parenting', 'Birth Control', 'Heart Disease', 'Allergies', 'Menopause', 'Emergency Contraception', 'Skin Care', 'Myelofibrosis', 'Hypothyroidism', 'Headache', 'Overactive Bladder', 'Irritable Bowel Syndrome', 'Polycythemia Vera', 'Atrial Fibrillation', 'Smoking Cessation', 'Lymphoma', 'Asthma', 'Bipolar Disorder', \"Crohn's Disease\", 'Idiopathic Pulmonary Fibrosis', 'Mental Health', 'Dementia', 'Rheumatoid Arthritis', 'Osteoporosis', 'Medicare', 'Psoriatic Arthritis', 'Addiction', 'Atopic Dermatitis', 'Digestive Health', 'Healthy Sleep', 'Anxiety', 'Psoriasis', 'Ankylosing Spondylitis', \"Children's Health\", 'Stress Management', 'HIV/AIDS', 'Migraine', 'Osteoarthritis', 'Hereditary Angioedema', 'Kidney Health', 'Autism', 'Green Building', 'Water Pollution', 'Smart Material', 'Ambient Intelligence', 'Construction Management', 'Suspension Bridge', 'Geotextile', 'Stealth Technology', 'Solar Energy', 'Remote Sensing', 'Rainwater Harvesting', 'Electric motor', 'Digital control', 'Microcontroller', 'Electrical network', 'Electrical generator', 'Electricity', 'Operational amplifier', 'Analog signal processing', 'State space representation', 'Signal-flow graph', 'Electrical circuits', 'Lorentz force law', 'System identification', 'PID controller', 'Voltage law', 'Control engineering', 'Molecular biology', 'Enzymology', 'Southern blotting', 'Northern blotting', 'Human Metabolism', 'Polymerase chain reaction', 'Immunology', 'Genetics', 'Cell biology', 'Fluid mechanics', 'Hydraulics', 'computer-aided design', 'Manufacturing engineering', 'Machine design', 'Thermodynamics', 'Materials Engineering', 'Strength of materials', 'Internal combustion engine'])\n",
      "Psychology\n",
      "Root 7\n",
      "['CS', 'Medical', 'Civil', 'ECE', 'biochemistry', 'MAE', 'Psychology']\n",
      "CS 17\n",
      "['Symbolic computation', 'Computer vision', 'Computer graphics', 'Operating systems', 'Machine learning', 'Data structures', 'network security', 'Image processing', 'Parallel computing', 'Distributed computing', 'Algorithm design', 'Computer programming', 'Relational databases', 'Software engineering', 'Bioinformatics', 'Cryptography', 'Structured Storage']\n",
      "Medical 53\n",
      "[\"Alzheimer's Disease\", \"Parkinson's Disease\", 'Sprains and Strains', 'Cancer', 'Sports Injuries', 'Senior Health', 'Multiple Sclerosis', 'Hepatitis C', 'Weight Loss', 'Low Testosterone', 'Fungal Infection', 'Diabetes', 'Parenting', 'Birth Control', 'Heart Disease', 'Allergies', 'Menopause', 'Emergency Contraception', 'Skin Care', 'Myelofibrosis', 'Hypothyroidism', 'Headache', 'Overactive Bladder', 'Irritable Bowel Syndrome', 'Polycythemia Vera', 'Atrial Fibrillation', 'Smoking Cessation', 'Lymphoma', 'Asthma', 'Bipolar Disorder', \"Crohn's Disease\", 'Idiopathic Pulmonary Fibrosis', 'Mental Health', 'Dementia', 'Rheumatoid Arthritis', 'Osteoporosis', 'Medicare', 'Psoriatic Arthritis', 'Addiction', 'Atopic Dermatitis', 'Digestive Health', 'Healthy Sleep', 'Anxiety', 'Psoriasis', 'Ankylosing Spondylitis', \"Children's Health\", 'Stress Management', 'HIV/AIDS', 'Migraine', 'Osteoarthritis', 'Hereditary Angioedema', 'Kidney Health', 'Autism']\n",
      "Civil 11\n",
      "['Green Building', 'Water Pollution', 'Smart Material', 'Ambient Intelligence', 'Construction Management', 'Suspension Bridge', 'Geotextile', 'Stealth Technology', 'Solar Energy', 'Remote Sensing', 'Rainwater Harvesting']\n",
      "ECE 16\n",
      "['Electric motor', 'Digital control', 'Microcontroller', 'Electrical network', 'Electrical generator', 'Electricity', 'Operational amplifier', 'Analog signal processing', 'State space representation', 'Signal-flow graph', 'Electrical circuits', 'Lorentz force law', 'System identification', 'PID controller', 'Voltage law', 'Control engineering']\n",
      "biochemistry 9\n",
      "['Molecular biology', 'Enzymology', 'Southern blotting', 'Northern blotting', 'Human Metabolism', 'Polymerase chain reaction', 'Immunology', 'Genetics', 'Cell biology']\n",
      "MAE 9\n",
      "['Fluid mechanics', 'Hydraulics', 'computer-aided design', 'Manufacturing engineering', 'Machine design', 'Thermodynamics', 'Materials Engineering', 'Strength of materials', 'Internal combustion engine']\n",
      "Psychology 19\n",
      "['Prenatal development', 'Attention', 'Eating disorders', 'Borderline personality disorder', 'Prosocial behavior', 'False memories', 'Problem-solving', 'Prejudice', 'Antisocial personality disorder', 'Nonverbal communication', 'Leadership', 'Child abuse', 'Gender roles', 'Depression', 'Social cognition', 'Seasonal affective disorder', 'Person perception', 'Media violence', 'Schizophrenia']\n",
      "0\n",
      "{2: ['Data structures', 'Water Pollution', 'Operating systems', 'Immunology', \"Crohn's Disease\", 'Senior Health', 'Geotextile', 'Distributed computing', 'Operational amplifier', 'Structured Storage', 'Materials Engineering', 'Autism', 'Bioinformatics', 'Asthma', 'Electricity', 'Lorentz force law', 'Problem-solving', 'Dementia', 'Relational databases', 'Eating disorders', 'Seasonal affective disorder', 'Headache', 'HIV/AIDS', 'Rainwater Harvesting', 'Polymerase chain reaction', 'Control engineering', 'Allergies', 'Anxiety', 'Attention', 'Hydraulics', 'Computer programming', 'Ankylosing Spondylitis', 'Computer graphics', 'Software engineering', 'Green Building', 'Cancer', 'Overactive Bladder', 'Microcontroller', 'Remote Sensing', 'Machine design', 'Sports Injuries', 'Birth Control', 'System identification', \"Alzheimer's Disease\", 'Atopic Dermatitis', 'Atrial Fibrillation', 'Stress Management', 'Rheumatoid Arthritis', 'Weight Loss', 'Southern blotting', 'Fluid mechanics', 'Smoking Cessation', 'Electric motor', 'Hepatitis C', 'Idiopathic Pulmonary Fibrosis', 'Cryptography', 'Bipolar Disorder', 'State space representation', 'Fungal Infection', 'Thermodynamics', 'Ambient Intelligence', 'Voltage law', 'Strength of materials', 'Sprains and Strains', 'Nonverbal communication', 'Migraine', 'Borderline personality disorder', 'Smart Material', 'False memories', 'Depression', 'Kidney Health', 'Irritable Bowel Syndrome', 'Stealth Technology', 'Menopause', 'Computer vision', 'Schizophrenia', 'Digital control', 'Osteoarthritis', 'Cell biology', 'Low Testosterone', 'Prosocial behavior', 'Hereditary Angioedema', 'Northern blotting', 'Emergency Contraception', 'Leadership', 'Machine learning', 'Parallel computing', 'Internal combustion engine', 'Polycythemia Vera', 'Multiple Sclerosis', 'Child abuse', 'Electrical circuits', 'Human Metabolism', 'Hypothyroidism', 'Medicare', 'Construction Management', 'Psoriasis', 'Analog signal processing', \"Children's Health\", 'Parenting', 'Suspension Bridge', 'PID controller', 'Enzymology', \"Parkinson's Disease\", 'network security', 'Electrical network', 'Healthy Sleep', 'Signal-flow graph', 'Myelofibrosis', 'Mental Health', 'Addiction', 'Antisocial personality disorder', 'Genetics', 'Symbolic computation', 'Diabetes', 'Image processing', 'Electrical generator', 'Person perception', 'Osteoporosis', 'Manufacturing engineering', 'Media violence', 'Skin Care', 'Prenatal development', 'Psoriatic Arthritis', 'Heart Disease', 'Lymphoma', 'Social cognition', 'Prejudice', 'Gender roles', 'computer-aided design', 'Algorithm design', 'Digestive Health', 'Solar Energy', 'Molecular biology'], 1: ['ECE', 'biochemistry', 'MAE', 'Civil', 'CS', 'Psychology', 'Medical'], 0: ['Root']}\n",
      "2 134\n",
      "1 7\n",
      "0 1\n",
      "*****TRAIN*****\n",
      "{'num_of_samples': 30070, 'average_label_num_per_sample': 2.0, 'average_doc_length_per_sample': 131.29275024941802, 'label_num_dict': {'CS': 4239, 'Parallel computing': 292, 'Medical': 9417, 'Irritable Bowel Syndrome': 230, 'Bioinformatics': 241, 'Skin Care': 214, 'Psychology': 4571, 'Child abuse': 249, 'Antisocial personality disorder': 229, 'Civil': 2733, 'Smart Material': 230, 'ECE': 3431, 'State space representation': 216, 'Computer programming': 268, 'biochemistry': 3621, 'Southern blotting': 323, 'Smoking Cessation': 172, \"Alzheimer's Disease\": 233, 'MAE': 2058, 'computer-aided design': 221, 'Microcontroller': 272, 'Electricity': 269, 'Atopic Dermatitis': 181, 'Immunology': 407, 'False memories': 239, 'Enzymology': 356, 'Osteoarthritis': 196, 'Image processing': 266, 'Attention': 248, 'Operating systems': 241, 'Materials Engineering': 192, 'Diabetes': 247, 'Sprains and Strains': 96, 'Healthy Sleep': 83, 'Dementia': 154, 'Bipolar Disorder': 189, 'Analog signal processing': 396, 'Rheumatoid Arthritis': 114, 'Thermodynamics': 225, 'Signal-flow graph': 154, 'Media violence': 183, 'Software engineering': 275, 'Atrial Fibrillation': 259, 'Relational databases': 254, 'System identification': 258, 'Cell biology': 375, 'Ambient Intelligence': 267, 'Depression': 243, 'Eating disorders': 229, 'Sports Injuries': 226, 'Cryptography': 259, 'Heart Disease': 198, 'Geotextile': 298, 'Stress Management': 233, 'Water Pollution': 296, 'Leadership': 229, 'Solar Energy': 249, 'Person perception': 255, \"Children's Health\": 225, 'Headache': 230, 'PID controller': 262, 'Electric motor': 333, 'Osteoporosis': 199, 'Suspension Bridge': 250, 'Medicare': 163, 'Distributed computing': 261, 'Strength of materials': 213, 'Fluid mechanics': 222, 'Hereditary Angioedema': 114, 'Algorithm design': 245, 'Northern blotting': 447, 'Digital control': 267, 'Internal combustion engine': 257, 'Gender roles': 266, 'Emergency Contraception': 181, 'Multiple Sclerosis': 163, 'Low Testosterone': 198, 'Autism': 185, 'Addiction': 202, 'Green Building': 253, 'network security': 297, 'Hepatitis C': 182, 'Computer vision': 270, 'Manufacturing engineering': 214, 'Idiopathic Pulmonary Fibrosis': 154, 'Operational amplifier': 264, 'Machine design': 253, 'Myelofibrosis': 115, 'Overactive Bladder': 223, 'Electrical circuits': 242, 'Computer graphics': 269, \"Crohn's Disease\": 125, 'Lymphoma': 183, 'Schizophrenia': 207, 'Prenatal development': 249, 'Remote Sensing': 253, 'Seasonal affective disorder': 255, 'Molecular biology': 472, 'Hypothyroidism': 198, 'Polycythemia Vera': 96, 'Genetics': 360, 'Parenting': 230, 'Polymerase chain reaction': 468, 'Menopause': 242, 'Hydraulics': 261, \"Parkinson's Disease\": 182, 'Rainwater Harvesting': 289, 'Construction Management': 258, 'Machine learning': 264, 'Digestive Health': 63, 'Social cognition': 263, 'Electrical network': 261, 'Anxiety': 149, 'Fungal Infection': 237, 'HIV/AIDS': 236, 'Data structures': 257, 'Problem-solving': 235, 'Prosocial behavior': 265, 'Allergies': 227, 'Prejudice': 243, 'Human Metabolism': 413, 'Psoriatic Arthritis': 136, 'Kidney Health': 61, 'Stealth Technology': 90, 'Control engineering': 172, 'Asthma': 194, 'Nonverbal communication': 249, 'Ankylosing Spondylitis': 218, 'Birth Control': 215, 'Borderline personality disorder': 235, 'Senior Health': 68, 'Migraine': 126, 'Symbolic computation': 250, 'Psoriasis': 69, 'Cancer': 244, 'Mental Health': 144, 'Weight Loss': 215, 'Structured Storage': 30, 'Voltage law': 32, 'Lorentz force law': 33}, 'average_doc_length_per_label': {'CS': 116.5239443264921, 'Parallel computing': 119.39041095890411, 'Medical': 149.9344801953913, 'Irritable Bowel Syndrome': 153.9, 'Bioinformatics': 158.32365145228215, 'Skin Care': 156.14018691588785, 'Psychology': 128.42047691971123, 'Child abuse': 129.4859437751004, 'Antisocial personality disorder': 141.24017467248908, 'Civil': 125.82253933406513, 'Smart Material': 109.05652173913043, 'ECE': 104.03847274846983, 'State space representation': 100.5, 'Computer programming': 108.10820895522389, 'biochemistry': 140.61861364264016, 'Southern blotting': 139.42414860681114, 'Smoking Cessation': 163.0406976744186, \"Alzheimer's Disease\": 146.25751072961373, 'MAE': 119.08454810495627, 'computer-aided design': 125.76018099547511, 'Microcontroller': 111.9595588235294, 'Electricity': 131.52044609665427, 'Atopic Dermatitis': 146.56906077348066, 'Immunology': 138.2113022113022, 'False memories': 119.69874476987448, 'Enzymology': 127.47191011235955, 'Osteoarthritis': 164.01530612244898, 'Image processing': 129.203007518797, 'Attention': 119.57661290322581, 'Operating systems': 125.56846473029046, 'Materials Engineering': 117.02604166666667, 'Diabetes': 145.6437246963563, 'Sprains and Strains': 154.35416666666666, 'Healthy Sleep': 145.78313253012047, 'Dementia': 155.96103896103895, 'Bipolar Disorder': 151.52910052910053, 'Analog signal processing': 91.63383838383838, 'Rheumatoid Arthritis': 148.74561403508773, 'Thermodynamics': 107.88888888888889, 'Signal-flow graph': 84.76623376623377, 'Media violence': 104.5464480874317, 'Software engineering': 120.99272727272728, 'Atrial Fibrillation': 147.5791505791506, 'Relational databases': 103.53937007874016, 'System identification': 112.37209302325581, 'Cell biology': 130.26133333333334, 'Ambient Intelligence': 100.85767790262172, 'Depression': 150.58847736625515, 'Eating disorders': 145.06550218340612, 'Sports Injuries': 148.15486725663717, 'Cryptography': 99.89575289575289, 'Heart Disease': 152.8030303030303, 'Geotextile': 126.53691275167785, 'Stress Management': 150.6137339055794, 'Water Pollution': 142.95945945945945, 'Leadership': 120.47598253275109, 'Solar Energy': 124.96385542168674, 'Person perception': 103.57254901960785, \"Children's Health\": 157.42222222222222, 'Headache': 148.09130434782608, 'PID controller': 108.00763358778626, 'Electric motor': 105.03903903903904, 'Osteoporosis': 168.01005025125627, 'Suspension Bridge': 118.332, 'Medicare': 162.21472392638037, 'Distributed computing': 119.37931034482759, 'Strength of materials': 109.28169014084507, 'Fluid mechanics': 121.45495495495496, 'Hereditary Angioedema': 134.21929824561403, 'Algorithm design': 109.61224489795919, 'Northern blotting': 146.35346756152126, 'Digital control': 102.08988764044943, 'Internal combustion engine': 137.8988326848249, 'Gender roles': 124.58646616541354, 'Emergency Contraception': 155.65193370165747, 'Multiple Sclerosis': 147.3926380368098, 'Low Testosterone': 155.23737373737373, 'Autism': 125.12972972972973, 'Addiction': 148.67326732673268, 'Green Building': 121.18577075098814, 'network security': 109.72390572390573, 'Hepatitis C': 151.4065934065934, 'Computer vision': 123.58148148148148, 'Manufacturing engineering': 100.45327102803738, 'Idiopathic Pulmonary Fibrosis': 148.22727272727272, 'Operational amplifier': 94.75757575757575, 'Machine design': 102.46245059288538, 'Myelofibrosis': 137.57391304347826, 'Overactive Bladder': 155.10762331838566, 'Electrical circuits': 98.16115702479338, 'Computer graphics': 104.22676579925651, \"Crohn's Disease\": 150.728, 'Lymphoma': 141.44808743169398, 'Schizophrenia': 144.93719806763286, 'Prenatal development': 137.80321285140562, 'Remote Sensing': 153.81422924901185, 'Seasonal affective disorder': 143.53333333333333, 'Molecular biology': 135.97881355932202, 'Hypothyroidism': 153.06060606060606, 'Polycythemia Vera': 137.02083333333334, 'Genetics': 144.25555555555556, 'Parenting': 132.11739130434782, 'Polymerase chain reaction': 161.4465811965812, 'Menopause': 165.66528925619835, 'Hydraulics': 143.44444444444446, \"Parkinson's Disease\": 155.43956043956044, 'Rainwater Harvesting': 143.55709342560553, 'Construction Management': 120.40697674418605, 'Machine learning': 134.4431818181818, 'Digestive Health': 159.63492063492063, 'Social cognition': 129.74524714828897, 'Electrical network': 103.73563218390805, 'Anxiety': 144.11409395973155, 'Fungal Infection': 131.36286919831224, 'HIV/AIDS': 159.23305084745763, 'Data structures': 121.58754863813229, 'Problem-solving': 129.36595744680852, 'Prosocial behavior': 117.2566037735849, 'Allergies': 147.23788546255506, 'Prejudice': 115.95884773662551, 'Human Metabolism': 136.98547215496367, 'Psoriatic Arthritis': 144.19117647058823, 'Kidney Health': 147.13114754098362, 'Stealth Technology': 100.11111111111111, 'Control engineering': 103.33720930232558, 'Asthma': 152.85051546391753, 'Nonverbal communication': 120.66666666666667, 'Ankylosing Spondylitis': 154.79357798165137, 'Birth Control': 144.46511627906978, 'Borderline personality disorder': 141.86808510638298, 'Senior Health': 151.76470588235293, 'Migraine': 154.76190476190476, 'Symbolic computation': 79.808, 'Psoriasis': 139.3768115942029, 'Cancer': 144.91803278688525, 'Mental Health': 137.5, 'Weight Loss': 153.2093023255814, 'Structured Storage': 106.03333333333333, 'Voltage law': 104.6875, 'Lorentz force law': 108.45454545454545, 'Electrical generator': 0.0, 'Root': 0.0}, 'sample_end_before_leaf_nodes': 0, 'path_end_before_leaf_nodes': 0, 'level_sample_number': defaultdict(<class 'int'>, {0: 0, 1: 30070, 2: 30070}), 'prob_dict': {'Root': {'CS': 0, 'Medical': 0, 'Civil': 0, 'ECE': 0, 'biochemistry': 0, 'MAE': 0, 'Psychology': 0}, 'CS': {'Symbolic computation': 250, 'Computer vision': 270, 'Computer graphics': 269, 'Operating systems': 241, 'Machine learning': 264, 'Data structures': 257, 'network security': 297, 'Image processing': 266, 'Parallel computing': 292, 'Distributed computing': 261, 'Algorithm design': 245, 'Computer programming': 268, 'Relational databases': 254, 'Software engineering': 275, 'Bioinformatics': 241, 'Cryptography': 259, 'Structured Storage': 30}, 'Medical': {\"Alzheimer's Disease\": 233, \"Parkinson's Disease\": 182, 'Sprains and Strains': 96, 'Cancer': 244, 'Sports Injuries': 226, 'Senior Health': 68, 'Multiple Sclerosis': 163, 'Hepatitis C': 182, 'Weight Loss': 215, 'Low Testosterone': 198, 'Fungal Infection': 237, 'Diabetes': 247, 'Parenting': 230, 'Birth Control': 215, 'Heart Disease': 198, 'Allergies': 227, 'Menopause': 242, 'Emergency Contraception': 181, 'Skin Care': 214, 'Myelofibrosis': 115, 'Hypothyroidism': 198, 'Headache': 230, 'Overactive Bladder': 223, 'Irritable Bowel Syndrome': 230, 'Polycythemia Vera': 96, 'Atrial Fibrillation': 259, 'Smoking Cessation': 172, 'Lymphoma': 183, 'Asthma': 194, 'Bipolar Disorder': 189, \"Crohn's Disease\": 125, 'Idiopathic Pulmonary Fibrosis': 154, 'Mental Health': 144, 'Dementia': 154, 'Rheumatoid Arthritis': 114, 'Osteoporosis': 199, 'Medicare': 163, 'Psoriatic Arthritis': 136, 'Addiction': 202, 'Atopic Dermatitis': 181, 'Digestive Health': 63, 'Healthy Sleep': 83, 'Anxiety': 149, 'Psoriasis': 69, 'Ankylosing Spondylitis': 218, \"Children's Health\": 225, 'Stress Management': 233, 'HIV/AIDS': 236, 'Migraine': 126, 'Osteoarthritis': 196, 'Hereditary Angioedema': 114, 'Kidney Health': 61, 'Autism': 185}, 'Civil': {'Green Building': 253, 'Water Pollution': 296, 'Smart Material': 230, 'Ambient Intelligence': 267, 'Construction Management': 258, 'Suspension Bridge': 250, 'Geotextile': 298, 'Stealth Technology': 90, 'Solar Energy': 249, 'Remote Sensing': 253, 'Rainwater Harvesting': 289}, 'ECE': {'Electric motor': 333, 'Digital control': 267, 'Microcontroller': 272, 'Electrical network': 261, 'Electrical generator': 0, 'Electricity': 269, 'Operational amplifier': 264, 'Analog signal processing': 396, 'State space representation': 216, 'Signal-flow graph': 154, 'Electrical circuits': 242, 'Lorentz force law': 33, 'System identification': 258, 'PID controller': 262, 'Voltage law': 32, 'Control engineering': 172}, 'biochemistry': {'Molecular biology': 472, 'Enzymology': 356, 'Southern blotting': 323, 'Northern blotting': 447, 'Human Metabolism': 413, 'Polymerase chain reaction': 468, 'Immunology': 407, 'Genetics': 360, 'Cell biology': 375}, 'MAE': {'Fluid mechanics': 222, 'Hydraulics': 261, 'computer-aided design': 221, 'Manufacturing engineering': 214, 'Machine design': 253, 'Thermodynamics': 225, 'Materials Engineering': 192, 'Strength of materials': 213, 'Internal combustion engine': 257}, 'Psychology': {'Prenatal development': 249, 'Attention': 248, 'Eating disorders': 229, 'Borderline personality disorder': 235, 'Prosocial behavior': 265, 'False memories': 239, 'Problem-solving': 235, 'Prejudice': 243, 'Antisocial personality disorder': 229, 'Nonverbal communication': 249, 'Leadership': 229, 'Child abuse': 249, 'Gender roles': 266, 'Depression': 243, 'Social cognition': 263, 'Seasonal affective disorder': 255, 'Person perception': 255, 'Media violence': 183, 'Schizophrenia': 207}}}\n",
      "{'Root': {'CS': 0, 'Medical': 0, 'Civil': 0, 'ECE': 0, 'biochemistry': 0, 'MAE': 0, 'Psychology': 0}, 'CS': {'Symbolic computation': 0.05897617362585515, 'Computer vision': 0.06369426751592357, 'Computer graphics': 0.06345836282142014, 'Operating systems': 0.05685303137532437, 'Machine learning': 0.06227883934890304, 'Data structures': 0.0606275064873791, 'network security': 0.07006369426751592, 'Image processing': 0.06275064873790988, 'Parallel computing': 0.06888417079499883, 'Distributed computing': 0.06157112526539278, 'Algorithm design': 0.05779665015333805, 'Computer programming': 0.06322245812691672, 'Relational databases': 0.059919792403868834, 'Software engineering': 0.06487379098844066, 'Bioinformatics': 0.05685303137532437, 'Cryptography': 0.06109931587638594, 'Structured Storage': 0.007077140835102618}, 'Medical': {\"Alzheimer's Disease\": 0.024742486991610916, \"Parkinson's Disease\": 0.019326749495593078, 'Sprains and Strains': 0.010194329404268876, 'Cancer': 0.025910587235850057, 'Sports Injuries': 0.023999150472549646, 'Senior Health': 0.007220983328023786, 'Multiple Sclerosis': 0.017309121800998195, 'Hepatitis C': 0.019326749495593078, 'Weight Loss': 0.0228310502283105, 'Low Testosterone': 0.021025804396304557, 'Fungal Infection': 0.025167250716788787, 'Diabetes': 0.02622916002973346, 'Parenting': 0.024423914197727513, 'Birth Control': 0.0228310502283105, 'Heart Disease': 0.021025804396304557, 'Allergies': 0.024105341403844113, 'Menopause': 0.025698205373261125, 'Emergency Contraception': 0.01922055856429861, 'Skin Care': 0.022724859297016033, 'Myelofibrosis': 0.012211957098863756, 'Hypothyroidism': 0.021025804396304557, 'Headache': 0.024423914197727513, 'Overactive Bladder': 0.023680577678666243, 'Irritable Bowel Syndrome': 0.024423914197727513, 'Polycythemia Vera': 0.010194329404268876, 'Atrial Fibrillation': 0.02750345120526707, 'Smoking Cessation': 0.0182648401826484, 'Lymphoma': 0.019432940426887545, 'Asthma': 0.020601040671126686, 'Bipolar Disorder': 0.020070086014654348, \"Crohn's Disease\": 0.013273866411808432, 'Idiopathic Pulmonary Fibrosis': 0.01635340341934799, 'Mental Health': 0.015291494106403312, 'Dementia': 0.01635340341934799, 'Rheumatoid Arthritis': 0.012105766167569289, 'Osteoporosis': 0.02113199532759902, 'Medicare': 0.017309121800998195, 'Psoriatic Arthritis': 0.014441966656047573, 'Addiction': 0.021450568121482425, 'Atopic Dermatitis': 0.01922055856429861, 'Digestive Health': 0.00669002867155145, 'Healthy Sleep': 0.008813847297440799, 'Anxiety': 0.01582244876287565, 'Psoriasis': 0.007327174259318254, 'Ankylosing Spondylitis': 0.023149623022193904, \"Children's Health\": 0.023892959541255178, 'Stress Management': 0.024742486991610916, 'HIV/AIDS': 0.02506105978549432, 'Migraine': 0.0133800573431029, 'Osteoarthritis': 0.020813422533715622, 'Hereditary Angioedema': 0.012105766167569289, 'Kidney Health': 0.006477646808962514, 'Autism': 0.019645322289476477}, 'Civil': {'Green Building': 0.09257226491035492, 'Water Pollution': 0.10830589096231248, 'Smart Material': 0.08415660446395902, 'Ambient Intelligence': 0.09769484083424808, 'Construction Management': 0.09440175631174534, 'Suspension Bridge': 0.09147457006952067, 'Geotextile': 0.10903768752286865, 'Stealth Technology': 0.03293084522502744, 'Solar Energy': 0.09110867178924259, 'Remote Sensing': 0.09257226491035492, 'Rainwater Harvesting': 0.1057446030003659}, 'ECE': {'Electric motor': 0.09705625182162635, 'Digital control': 0.07781987758670941, 'Microcontroller': 0.07927717866511222, 'Electrical network': 0.07607111629262606, 'Electrical generator': 0.0, 'Electricity': 0.07840279801807053, 'Operational amplifier': 0.07694549693966773, 'Analog signal processing': 0.1154182454095016, 'State space representation': 0.06295540658700087, 'Signal-flow graph': 0.04488487321480618, 'Electrical circuits': 0.07053337219469542, 'Lorentz force law': 0.009618187117458467, 'System identification': 0.07519673564558438, 'PID controller': 0.07636257650830662, 'Voltage law': 0.009326726901777908, 'Control engineering': 0.050131157097056255}, 'biochemistry': {'Molecular biology': 0.13035073184203258, 'Enzymology': 0.09831538249102457, 'Southern blotting': 0.0892018779342723, 'Northern blotting': 0.12344656172328086, 'Human Metabolism': 0.11405689036177852, 'Polymerase chain reaction': 0.12924606462303231, 'Immunology': 0.1123998895332781, 'Genetics': 0.09942004971002485, 'Cell biology': 0.1035625517812759}, 'MAE': {'Fluid mechanics': 0.10787172011661808, 'Hydraulics': 0.12682215743440234, 'computer-aided design': 0.10738581146744412, 'Manufacturing engineering': 0.10398445092322643, 'Machine design': 0.12293488824101069, 'Thermodynamics': 0.10932944606413994, 'Materials Engineering': 0.09329446064139942, 'Strength of materials': 0.10349854227405247, 'Internal combustion engine': 0.12487852283770651}, 'Psychology': {'Prenatal development': 0.054473856924086635, 'Attention': 0.054255086414351346, 'Eating disorders': 0.05009844672938088, 'Borderline personality disorder': 0.051411069787792606, 'Prosocial behavior': 0.057974185079851234, 'False memories': 0.052286151826733754, 'Problem-solving': 0.051411069787792606, 'Prejudice': 0.05316123386567491, 'Antisocial personality disorder': 0.05009844672938088, 'Nonverbal communication': 0.054473856924086635, 'Leadership': 0.05009844672938088, 'Child abuse': 0.054473856924086635, 'Gender roles': 0.05819295558958652, 'Depression': 0.05316123386567491, 'Social cognition': 0.057536644060380664, 'Seasonal affective disorder': 0.05578647998249836, 'Person perception': 0.05578647998249836, 'Media violence': 0.040035003281557645, 'Schizophrenia': 0.04528549551520455}}\n",
      "*****val*****\n",
      "{'num_of_samples': 7518, 'average_label_num_per_sample': 2.0, 'average_doc_length_per_sample': 131.2218675179569, 'label_num_dict': {'Civil': 678, 'Ambient Intelligence': 72, 'ECE': 921, 'Electricity': 88, 'Medical': 2366, 'Anxiety': 55, 'biochemistry': 887, 'Southern blotting': 85, 'Polymerase chain reaction': 121, 'Atopic Dermatitis': 37, 'Psychology': 1146, 'Seasonal affective disorder': 55, 'Geotextile': 58, 'HIV/AIDS': 58, 'Leadership': 54, 'Water Pollution': 66, 'Weight Loss': 51, 'MAE': 532, 'Hydraulics': 62, \"Children's Health\": 55, 'State space representation': 55, 'Genetics': 81, 'Dementia': 42, 'Multiple Sclerosis': 38, 'Gender roles': 62, 'Headache': 42, 'Irritable Bowel Syndrome': 46, 'Heart Disease': 44, 'System identification': 70, 'CS': 988, 'Symbolic computation': 64, 'Mental Health': 27, \"Alzheimer's Disease\": 59, 'Media violence': 57, 'Electric motor': 84, 'Relational databases': 53, 'Human Metabolism': 81, 'Borderline personality disorder': 58, 'Northern blotting': 113, 'Green Building': 78, 'Computer vision': 72, 'Immunology': 105, 'Digital control': 71, 'Materials Engineering': 44, 'Bioinformatics': 56, 'Enzymology': 89, 'Atrial Fibrillation': 63, 'Bipolar Disorder': 39, 'Birth Control': 60, 'Manufacturing engineering': 54, 'Senior Health': 21, 'Prenatal development': 60, 'Ankylosing Spondylitis': 54, 'Internal combustion engine': 50, 'Healthy Sleep': 19, 'Analog signal processing': 121, 'Eating disorders': 70, \"Crohn's Disease\": 30, 'Autism': 53, 'Menopause': 51, 'Sprains and Strains': 16, 'Electrical network': 60, 'Cryptography': 48, \"Parkinson's Disease\": 59, 'Psoriasis': 26, 'Social cognition': 65, 'Emergency Contraception': 49, 'Attention': 67, 'Osteoarthritis': 55, 'Prosocial behavior': 51, 'Problem-solving': 58, 'Computer graphics': 58, 'Depression': 63, 'Electrical circuits': 60, 'network security': 64, 'Strength of materials': 60, 'Solar Energy': 51, 'Idiopathic Pulmonary Fibrosis': 42, 'Machine design': 71, 'Suspension Bridge': 58, 'Control engineering': 47, 'Migraine': 29, 'Schizophrenia': 60, 'Skin Care': 60, 'Molecular biology': 125, 'Lymphoma': 38, 'Construction Management': 74, 'Data structures': 64, 'Psoriatic Arthritis': 31, 'Diabetes': 48, 'Parenting': 57, 'Distributed computing': 62, 'Overactive Bladder': 51, 'Person perception': 54, 'Rheumatoid Arthritis': 43, 'Low Testosterone': 55, 'Stress Management': 76, 'Smoking Cessation': 42, 'Cell biology': 87, 'Hepatitis C': 42, 'Child abuse': 70, 'Algorithm design': 59, 'False memories': 60, 'Smart Material': 67, 'Fungal Infection': 62, 'Sports Injuries': 73, 'Prejudice': 58, 'Medicare': 46, 'Computer programming': 70, 'computer-aided design': 55, 'Structured Storage': 4, 'Fluid mechanics': 73, 'Signal-flow graph': 51, 'Thermodynamics': 63, 'Operational amplifier': 67, 'Cancer': 50, 'Rainwater Harvesting': 62, 'Parallel computing': 71, 'Image processing': 69, 'Polycythemia Vera': 25, 'Stealth Technology': 28, 'Osteoporosis': 45, 'Remote Sensing': 64, 'Nonverbal communication': 59, 'Operating systems': 57, 'Digestive Health': 15, 'Hypothyroidism': 40, 'Machine learning': 58, 'Allergies': 64, 'Asthma': 53, 'Microcontroller': 56, 'PID controller': 76, 'Hereditary Angioedema': 31, 'Myelofibrosis': 41, 'Antisocial personality disorder': 65, 'Software engineering': 59, 'Voltage law': 13, 'Addiction': 48, 'Kidney Health': 10, 'Lorentz force law': 2}, 'average_doc_length_per_label': {'Civil': 125.83923303834808, 'Ambient Intelligence': 99.97222222222223, 'ECE': 104.69381107491857, 'Electricity': 125.7159090909091, 'Medical': 150.32417582417582, 'Anxiety': 142.07272727272726, 'biochemistry': 139.49943630214204, 'Southern blotting': 135.90588235294118, 'Polymerase chain reaction': 158.76859504132233, 'Atopic Dermatitis': 131.7027027027027, 'Psychology': 128.7329842931937, 'Seasonal affective disorder': 129.3090909090909, 'Geotextile': 132.77586206896552, 'HIV/AIDS': 154.25862068965517, 'Leadership': 121.38888888888889, 'Water Pollution': 145.72727272727272, 'Weight Loss': 137.9607843137255, 'MAE': 118.27443609022556, 'Hydraulics': 146.20967741935485, \"Children's Health\": 153.03636363636363, 'State space representation': 92.41818181818182, 'Genetics': 141.25925925925927, 'Dementia': 154.21428571428572, 'Multiple Sclerosis': 150.23684210526315, 'Gender roles': 136.24193548387098, 'Headache': 146.33333333333334, 'Irritable Bowel Syndrome': 156.41304347826087, 'Heart Disease': 147.8409090909091, 'System identification': 118.11428571428571, 'CS': 116.32692307692308, 'Symbolic computation': 73.875, 'Mental Health': 140.96296296296296, \"Alzheimer's Disease\": 148.864406779661, 'Media violence': 109.78947368421052, 'Electric motor': 112.10714285714286, 'Relational databases': 106.0754716981132, 'Human Metabolism': 140.44444444444446, 'Borderline personality disorder': 121.03448275862068, 'Northern blotting': 142.50442477876106, 'Green Building': 122.5, 'Computer vision': 125.04166666666667, 'Immunology': 137.64761904761906, 'Digital control': 97.07042253521126, 'Materials Engineering': 116.79545454545455, 'Bioinformatics': 157.125, 'Enzymology': 135.06741573033707, 'Atrial Fibrillation': 154.33333333333334, 'Bipolar Disorder': 144.69230769230768, 'Birth Control': 145.73333333333332, 'Manufacturing engineering': 107.12962962962963, 'Senior Health': 153.66666666666666, 'Prenatal development': 149.33333333333334, 'Ankylosing Spondylitis': 152.40740740740742, 'Internal combustion engine': 142.86, 'Healthy Sleep': 138.73684210526315, 'Analog signal processing': 94.70247933884298, 'Eating disorders': 152.0, \"Crohn's Disease\": 167.83333333333334, 'Autism': 122.43396226415095, 'Menopause': 154.1764705882353, 'Sprains and Strains': 146.3125, 'Electrical network': 94.05, 'Cryptography': 102.25, \"Parkinson's Disease\": 147.42372881355934, 'Psoriasis': 142.6153846153846, 'Social cognition': 130.6, 'Emergency Contraception': 155.59183673469389, 'Attention': 126.70149253731343, 'Osteoarthritis': 163.98181818181817, 'Prosocial behavior': 115.3921568627451, 'Problem-solving': 128.13793103448276, 'Computer graphics': 104.91379310344827, 'Depression': 145.11111111111111, 'Electrical circuits': 96.61666666666666, 'network security': 105.25, 'Strength of materials': 105.53333333333333, 'Solar Energy': 122.17647058823529, 'Idiopathic Pulmonary Fibrosis': 167.23809523809524, 'Machine design': 101.63380281690141, 'Suspension Bridge': 111.08620689655173, 'Control engineering': 107.46808510638297, 'Migraine': 154.3448275862069, 'Schizophrenia': 142.35, 'Skin Care': 156.75, 'Molecular biology': 127.68, 'Lymphoma': 139.81578947368422, 'Construction Management': 132.28378378378378, 'Data structures': 115.359375, 'Psoriatic Arthritis': 138.70967741935485, 'Diabetes': 159.1875, 'Parenting': 122.87719298245614, 'Distributed computing': 117.46774193548387, 'Overactive Bladder': 169.68627450980392, 'Person perception': 106.68518518518519, 'Rheumatoid Arthritis': 165.97674418604652, 'Low Testosterone': 152.74545454545455, 'Stress Management': 153.46052631578948, 'Smoking Cessation': 161.4047619047619, 'Cell biology': 133.54022988505747, 'Hepatitis C': 167.35714285714286, 'Child abuse': 131.52857142857144, 'Algorithm design': 113.91525423728814, 'False memories': 114.21666666666667, 'Smart Material': 101.02985074626865, 'Fungal Infection': 148.74193548387098, 'Sports Injuries': 134.3835616438356, 'Prejudice': 115.20689655172414, 'Medicare': 176.7826086956522, 'Computer programming': 110.51428571428572, 'computer-aided design': 121.45454545454545, 'Structured Storage': 98.5, 'Fluid mechanics': 114.3972602739726, 'Signal-flow graph': 85.7843137254902, 'Thermodynamics': 114.46031746031746, 'Operational amplifier': 86.25373134328358, 'Cancer': 144.24, 'Rainwater Harvesting': 143.58064516129033, 'Parallel computing': 123.66197183098592, 'Image processing': 134.44927536231884, 'Polycythemia Vera': 124.96, 'Stealth Technology': 101.5, 'Osteoporosis': 171.95555555555555, 'Remote Sensing': 160.484375, 'Nonverbal communication': 118.61016949152543, 'Operating systems': 112.3859649122807, 'Digestive Health': 147.8, 'Hypothyroidism': 145.5, 'Machine learning': 141.5344827586207, 'Allergies': 151.671875, 'Asthma': 149.24528301886792, 'Microcontroller': 121.58928571428571, 'PID controller': 122.69736842105263, 'Hereditary Angioedema': 149.03225806451613, 'Myelofibrosis': 142.3658536585366, 'Antisocial personality disorder': 139.33846153846153, 'Software engineering': 116.28813559322033, 'Voltage law': 103.76923076923077, 'Addiction': 152.22916666666666, 'Kidney Health': 149.7, 'Lorentz force law': 56.5, 'Electrical generator': 0.0, 'Root': 0.0}, 'sample_end_before_leaf_nodes': 0, 'path_end_before_leaf_nodes': 0, 'level_sample_number': defaultdict(<class 'int'>, {0: 0, 1: 7518, 2: 7518}), 'prob_dict': {'Root': {'CS': 0, 'Medical': 0, 'Civil': 0, 'ECE': 0, 'biochemistry': 0, 'MAE': 0, 'Psychology': 0}, 'CS': {'Symbolic computation': 64, 'Computer vision': 72, 'Computer graphics': 58, 'Operating systems': 57, 'Machine learning': 58, 'Data structures': 64, 'network security': 64, 'Image processing': 69, 'Parallel computing': 71, 'Distributed computing': 62, 'Algorithm design': 59, 'Computer programming': 70, 'Relational databases': 53, 'Software engineering': 59, 'Bioinformatics': 56, 'Cryptography': 48, 'Structured Storage': 4}, 'Medical': {\"Alzheimer's Disease\": 59, \"Parkinson's Disease\": 59, 'Sprains and Strains': 16, 'Cancer': 50, 'Sports Injuries': 73, 'Senior Health': 21, 'Multiple Sclerosis': 38, 'Hepatitis C': 42, 'Weight Loss': 51, 'Low Testosterone': 55, 'Fungal Infection': 62, 'Diabetes': 48, 'Parenting': 57, 'Birth Control': 60, 'Heart Disease': 44, 'Allergies': 64, 'Menopause': 51, 'Emergency Contraception': 49, 'Skin Care': 60, 'Myelofibrosis': 41, 'Hypothyroidism': 40, 'Headache': 42, 'Overactive Bladder': 51, 'Irritable Bowel Syndrome': 46, 'Polycythemia Vera': 25, 'Atrial Fibrillation': 63, 'Smoking Cessation': 42, 'Lymphoma': 38, 'Asthma': 53, 'Bipolar Disorder': 39, \"Crohn's Disease\": 30, 'Idiopathic Pulmonary Fibrosis': 42, 'Mental Health': 27, 'Dementia': 42, 'Rheumatoid Arthritis': 43, 'Osteoporosis': 45, 'Medicare': 46, 'Psoriatic Arthritis': 31, 'Addiction': 48, 'Atopic Dermatitis': 37, 'Digestive Health': 15, 'Healthy Sleep': 19, 'Anxiety': 55, 'Psoriasis': 26, 'Ankylosing Spondylitis': 54, \"Children's Health\": 55, 'Stress Management': 76, 'HIV/AIDS': 58, 'Migraine': 29, 'Osteoarthritis': 55, 'Hereditary Angioedema': 31, 'Kidney Health': 10, 'Autism': 53}, 'Civil': {'Green Building': 78, 'Water Pollution': 66, 'Smart Material': 67, 'Ambient Intelligence': 72, 'Construction Management': 74, 'Suspension Bridge': 58, 'Geotextile': 58, 'Stealth Technology': 28, 'Solar Energy': 51, 'Remote Sensing': 64, 'Rainwater Harvesting': 62}, 'ECE': {'Electric motor': 84, 'Digital control': 71, 'Microcontroller': 56, 'Electrical network': 60, 'Electrical generator': 0, 'Electricity': 88, 'Operational amplifier': 67, 'Analog signal processing': 121, 'State space representation': 55, 'Signal-flow graph': 51, 'Electrical circuits': 60, 'Lorentz force law': 2, 'System identification': 70, 'PID controller': 76, 'Voltage law': 13, 'Control engineering': 47}, 'biochemistry': {'Molecular biology': 125, 'Enzymology': 89, 'Southern blotting': 85, 'Northern blotting': 113, 'Human Metabolism': 81, 'Polymerase chain reaction': 121, 'Immunology': 105, 'Genetics': 81, 'Cell biology': 87}, 'MAE': {'Fluid mechanics': 73, 'Hydraulics': 62, 'computer-aided design': 55, 'Manufacturing engineering': 54, 'Machine design': 71, 'Thermodynamics': 63, 'Materials Engineering': 44, 'Strength of materials': 60, 'Internal combustion engine': 50}, 'Psychology': {'Prenatal development': 60, 'Attention': 67, 'Eating disorders': 70, 'Borderline personality disorder': 58, 'Prosocial behavior': 51, 'False memories': 60, 'Problem-solving': 58, 'Prejudice': 58, 'Antisocial personality disorder': 65, 'Nonverbal communication': 59, 'Leadership': 54, 'Child abuse': 70, 'Gender roles': 62, 'Depression': 63, 'Social cognition': 65, 'Seasonal affective disorder': 55, 'Person perception': 54, 'Media violence': 57, 'Schizophrenia': 60}}}\n",
      "{'Root': {'CS': 0, 'Medical': 0, 'Civil': 0, 'ECE': 0, 'biochemistry': 0, 'MAE': 0, 'Psychology': 0}, 'CS': {'Symbolic computation': 0.06477732793522267, 'Computer vision': 0.0728744939271255, 'Computer graphics': 0.058704453441295545, 'Operating systems': 0.057692307692307696, 'Machine learning': 0.058704453441295545, 'Data structures': 0.06477732793522267, 'network security': 0.06477732793522267, 'Image processing': 0.06983805668016195, 'Parallel computing': 0.07186234817813765, 'Distributed computing': 0.06275303643724696, 'Algorithm design': 0.0597165991902834, 'Computer programming': 0.0708502024291498, 'Relational databases': 0.053643724696356275, 'Software engineering': 0.0597165991902834, 'Bioinformatics': 0.05668016194331984, 'Cryptography': 0.048582995951417005, 'Structured Storage': 0.004048582995951417}, 'Medical': {\"Alzheimer's Disease\": 0.024936601859678782, \"Parkinson's Disease\": 0.024936601859678782, 'Sprains and Strains': 0.006762468300929839, 'Cancer': 0.021132713440405747, 'Sports Injuries': 0.03085376162299239, 'Senior Health': 0.008875739644970414, 'Multiple Sclerosis': 0.016060862214708368, 'Hepatitis C': 0.01775147928994083, 'Weight Loss': 0.021555367709213864, 'Low Testosterone': 0.02324598478444632, 'Fungal Infection': 0.026204564666103127, 'Diabetes': 0.02028740490278952, 'Parenting': 0.024091293322062553, 'Birth Control': 0.0253592561284869, 'Heart Disease': 0.018596787827557058, 'Allergies': 0.027049873203719356, 'Menopause': 0.021555367709213864, 'Emergency Contraception': 0.020710059171597635, 'Skin Care': 0.0253592561284869, 'Myelofibrosis': 0.017328825021132713, 'Hypothyroidism': 0.0169061707523246, 'Headache': 0.01775147928994083, 'Overactive Bladder': 0.021555367709213864, 'Irritable Bowel Syndrome': 0.01944209636517329, 'Polycythemia Vera': 0.010566356720202874, 'Atrial Fibrillation': 0.026627218934911243, 'Smoking Cessation': 0.01775147928994083, 'Lymphoma': 0.016060862214708368, 'Asthma': 0.022400676246830092, 'Bipolar Disorder': 0.016483516483516484, \"Crohn's Disease\": 0.01267962806424345, 'Idiopathic Pulmonary Fibrosis': 0.01775147928994083, 'Mental Health': 0.011411665257819104, 'Dementia': 0.01775147928994083, 'Rheumatoid Arthritis': 0.018174133558748945, 'Osteoporosis': 0.019019442096365174, 'Medicare': 0.01944209636517329, 'Psoriatic Arthritis': 0.013102282333051564, 'Addiction': 0.02028740490278952, 'Atopic Dermatitis': 0.015638207945900255, 'Digestive Health': 0.006339814032121725, 'Healthy Sleep': 0.008030431107354184, 'Anxiety': 0.02324598478444632, 'Psoriasis': 0.01098901098901099, 'Ankylosing Spondylitis': 0.02282333051563821, \"Children's Health\": 0.02324598478444632, 'Stress Management': 0.032121724429416736, 'HIV/AIDS': 0.024513947590870666, 'Migraine': 0.012256973795435333, 'Osteoarthritis': 0.02324598478444632, 'Hereditary Angioedema': 0.013102282333051564, 'Kidney Health': 0.00422654268808115, 'Autism': 0.022400676246830092}, 'Civil': {'Green Building': 0.11504424778761062, 'Water Pollution': 0.09734513274336283, 'Smart Material': 0.09882005899705015, 'Ambient Intelligence': 0.10619469026548672, 'Construction Management': 0.10914454277286136, 'Suspension Bridge': 0.0855457227138643, 'Geotextile': 0.0855457227138643, 'Stealth Technology': 0.04129793510324484, 'Solar Energy': 0.0752212389380531, 'Remote Sensing': 0.0943952802359882, 'Rainwater Harvesting': 0.09144542772861357}, 'ECE': {'Electric motor': 0.09120521172638436, 'Digital control': 0.07709011943539631, 'Microcontroller': 0.06080347448425624, 'Electrical network': 0.06514657980456026, 'Electrical generator': 0.0, 'Electricity': 0.09554831704668838, 'Operational amplifier': 0.0727470141150923, 'Analog signal processing': 0.13137893593919653, 'State space representation': 0.05971769815418024, 'Signal-flow graph': 0.05537459283387622, 'Electrical circuits': 0.06514657980456026, 'Lorentz force law': 0.002171552660152009, 'System identification': 0.07600434310532031, 'PID controller': 0.08251900108577633, 'Voltage law': 0.014115092290988056, 'Control engineering': 0.051031487513572206}, 'biochemistry': {'Molecular biology': 0.14092446448703494, 'Enzymology': 0.10033821871476889, 'Southern blotting': 0.09582863585118377, 'Northern blotting': 0.1273957158962796, 'Human Metabolism': 0.09131905298759865, 'Polymerase chain reaction': 0.13641488162344984, 'Immunology': 0.11837655016910936, 'Genetics': 0.09131905298759865, 'Cell biology': 0.09808342728297632}, 'MAE': {'Fluid mechanics': 0.13721804511278196, 'Hydraulics': 0.11654135338345864, 'computer-aided design': 0.10338345864661654, 'Manufacturing engineering': 0.10150375939849623, 'Machine design': 0.13345864661654136, 'Thermodynamics': 0.11842105263157894, 'Materials Engineering': 0.08270676691729323, 'Strength of materials': 0.11278195488721804, 'Internal combustion engine': 0.09398496240601503}, 'Psychology': {'Prenatal development': 0.05235602094240838, 'Attention': 0.05846422338568935, 'Eating disorders': 0.06108202443280977, 'Borderline personality disorder': 0.0506108202443281, 'Prosocial behavior': 0.04450261780104712, 'False memories': 0.05235602094240838, 'Problem-solving': 0.0506108202443281, 'Prejudice': 0.0506108202443281, 'Antisocial personality disorder': 0.056719022687609075, 'Nonverbal communication': 0.05148342059336824, 'Leadership': 0.04712041884816754, 'Child abuse': 0.06108202443280977, 'Gender roles': 0.05410122164048865, 'Depression': 0.0549738219895288, 'Social cognition': 0.056719022687609075, 'Seasonal affective disorder': 0.04799301919720768, 'Person perception': 0.04712041884816754, 'Media violence': 0.049738219895287955, 'Schizophrenia': 0.05235602094240838}}\n",
      "*****TEST*****\n",
      "{'num_of_samples': 9397, 'average_label_num_per_sample': 2.0, 'average_doc_length_per_sample': 130.81334468447378, 'label_num_dict': {'CS': 1287, 'Machine learning': 76, 'Medical': 2842, 'Headache': 69, 'Lymphoma': 46, 'MAE': 707, 'computer-aided design': 95, 'Psychology': 1425, 'Attention': 101, 'Data structures': 71, 'Heart Disease': 49, 'biochemistry': 1179, 'Molecular biology': 149, 'Northern blotting': 139, 'ECE': 1131, 'State space representation': 73, 'Prenatal development': 80, 'Civil': 826, 'Water Pollution': 87, 'Migraine': 23, 'Human Metabolism': 128, 'Eating disorders': 88, 'Internal combustion engine': 80, 'Emergency Contraception': 61, 'Addiction': 59, 'Media violence': 56, 'Genetics': 125, 'Atrial Fibrillation': 102, 'Sports Injuries': 66, 'Fluid mechanics': 91, 'Autism': 71, 'Social cognition': 69, 'Southern blotting': 102, 'Child abuse': 85, 'Schizophrenia': 68, 'Electricity': 90, 'Immunology': 140, \"Parkinson's Disease\": 57, 'Electrical circuits': 73, 'PID controller': 91, 'Smart Material': 76, 'Solar Energy': 84, 'Strength of materials': 62, 'Birth Control': 60, 'Skin Care': 65, 'Smoking Cessation': 43, 'Person perception': 82, \"Children's Health\": 70, 'Cryptography': 80, 'Microcontroller': 85, 'Cell biology': 104, 'Analog signal processing': 129, 'Myelofibrosis': 42, 'Materials Engineering': 53, 'Suspension Bridge': 87, 'Algorithm design': 75, 'Digital control': 88, 'Distributed computing': 80, 'Construction Management': 80, 'Menopause': 78, 'Symbolic computation': 88, 'Machine design': 96, 'Thermodynamics': 73, 'Depression': 74, 'Parallel computing': 80, 'Operating systems': 82, 'Overactive Bladder': 66, 'Osteoporosis': 76, 'Psoriasis': 33, 'Hydraulics': 79, 'Asthma': 70, 'Relational databases': 70, 'Computer programming': 87, \"Alzheimer's Disease\": 76, 'Enzymology': 131, 'Bipolar Disorder': 70, 'Computer vision': 90, 'Hypothyroidism': 77, 'Polymerase chain reaction': 161, 'Image processing': 80, 'Control engineering': 57, 'HIV/AIDS': 64, 'Prosocial behavior': 72, 'Weight Loss': 61, 'Idiopathic Pulmonary Fibrosis': 50, 'False memories': 63, 'Antisocial personality disorder': 74, 'Manufacturing engineering': 78, 'Operational amplifier': 88, 'Stress Management': 52, 'Computer graphics': 85, 'Polycythemia Vera': 27, 'Bioinformatics': 68, 'Electric motor': 109, 'Borderline personality disorder': 83, 'Ankylosing Spondylitis': 49, 'Stealth Technology': 30, 'Mental Health': 51, 'Remote Sensing': 67, 'Rainwater Harvesting': 90, 'Osteoarthritis': 54, 'Green Building': 87, 'Irritable Bowel Syndrome': 60, 'Anxiety': 58, \"Crohn's Disease\": 43, 'Electrical network': 71, 'Multiple Sclerosis': 52, 'Hereditary Angioedema': 37, 'Psoriatic Arthritis': 35, 'System identification': 89, 'Seasonal affective disorder': 55, 'Gender roles': 67, 'Ambient Intelligence': 71, 'Diabetes': 58, 'Signal-flow graph': 69, 'Hepatitis C': 64, 'Dementia': 41, 'Leadership': 67, 'Sprains and Strains': 30, 'Allergies': 66, 'Software engineering': 82, 'Senior Health': 29, 'network security': 84, 'Rheumatoid Arthritis': 31, 'Prejudice': 88, 'Fungal Infection': 73, 'Cancer': 65, 'Nonverbal communication': 86, 'Medicare': 46, 'Geotextile': 67, 'Atopic Dermatitis': 44, 'Problem-solving': 67, 'Healthy Sleep': 27, 'Low Testosterone': 52, 'Parenting': 56, 'Lorentz force law': 9, 'Digestive Health': 19, 'Kidney Health': 19, 'Electrical generator': 1, 'Structured Storage': 9, 'Voltage law': 9}, 'average_doc_length_per_label': {'CS': 115.69386169386169, 'Machine learning': 148.53947368421052, 'Medical': 149.55559465165376, 'Headache': 151.768115942029, 'Lymphoma': 138.54347826086956, 'MAE': 120.92362093352192, 'computer-aided design': 124.57894736842105, 'Psychology': 128.3136842105263, 'Attention': 125.6930693069307, 'Data structures': 114.36619718309859, 'Heart Disease': 158.3673469387755, 'biochemistry': 140.80661577608143, 'Molecular biology': 134.86577181208054, 'Northern blotting': 143.24460431654677, 'ECE': 104.51724137931035, 'State space representation': 102.72602739726027, 'Prenatal development': 145.2875, 'Civil': 124.4043583535109, 'Water Pollution': 136.26436781609195, 'Migraine': 158.43478260869566, 'Human Metabolism': 142.3515625, 'Eating disorders': 143.875, 'Internal combustion engine': 129.425, 'Emergency Contraception': 147.91803278688525, 'Addiction': 149.23728813559322, 'Media violence': 116.78571428571429, 'Genetics': 141.384, 'Atrial Fibrillation': 159.7058823529412, 'Sports Injuries': 143.72727272727272, 'Fluid mechanics': 122.07692307692308, 'Autism': 120.78873239436619, 'Social cognition': 135.2608695652174, 'Southern blotting': 137.30392156862746, 'Child abuse': 129.52941176470588, 'Schizophrenia': 140.33823529411765, 'Electricity': 128.76666666666668, 'Immunology': 134.65, \"Parkinson's Disease\": 151.05263157894737, 'Electrical circuits': 99.04109589041096, 'PID controller': 113.28571428571429, 'Smart Material': 103.01315789473684, 'Solar Energy': 132.02380952380952, 'Strength of materials': 112.61290322580645, 'Birth Control': 145.36666666666667, 'Skin Care': 143.8, 'Smoking Cessation': 159.2093023255814, 'Person perception': 105.36585365853658, \"Children's Health\": 148.64285714285714, 'Cryptography': 102.6875, 'Microcontroller': 119.2, 'Cell biology': 131.48076923076923, 'Analog signal processing': 93.76744186046511, 'Myelofibrosis': 122.14285714285714, 'Materials Engineering': 118.62264150943396, 'Suspension Bridge': 112.4367816091954, 'Algorithm design': 114.48, 'Digital control': 99.93181818181819, 'Distributed computing': 109.65, 'Construction Management': 123.5625, 'Menopause': 160.46153846153845, 'Symbolic computation': 76.625, 'Machine design': 109.3125, 'Thermodynamics': 118.63013698630137, 'Depression': 138.3918918918919, 'Parallel computing': 119.55, 'Operating systems': 116.6219512195122, 'Overactive Bladder': 153.3181818181818, 'Osteoporosis': 173.71052631578948, 'Psoriasis': 150.6969696969697, 'Hydraulics': 150.0253164556962, 'Asthma': 139.74285714285713, 'Relational databases': 105.65714285714286, 'Computer programming': 108.36781609195403, \"Alzheimer's Disease\": 137.35526315789474, 'Enzymology': 128.3969465648855, 'Bipolar Disorder': 154.68571428571428, 'Computer vision': 124.83333333333333, 'Hypothyroidism': 148.88311688311688, 'Polymerase chain reaction': 166.2173913043478, 'Image processing': 126.1125, 'Control engineering': 105.35087719298245, 'HIV/AIDS': 161.484375, 'Prosocial behavior': 121.70833333333333, 'Weight Loss': 143.34426229508196, 'Idiopathic Pulmonary Fibrosis': 155.34, 'False memories': 116.4920634920635, 'Antisocial personality disorder': 118.98648648648648, 'Manufacturing engineering': 101.53846153846153, 'Operational amplifier': 91.0, 'Stress Management': 142.67307692307693, 'Computer graphics': 106.6470588235294, 'Polycythemia Vera': 126.5925925925926, 'Bioinformatics': 153.58823529411765, 'Electric motor': 107.26605504587155, 'Borderline personality disorder': 136.710843373494, 'Ankylosing Spondylitis': 152.59183673469389, 'Stealth Technology': 97.63333333333334, 'Mental Health': 142.5686274509804, 'Remote Sensing': 153.08955223880596, 'Rainwater Harvesting': 138.04444444444445, 'Osteoarthritis': 165.5185185185185, 'Green Building': 127.26436781609195, 'Irritable Bowel Syndrome': 145.46666666666667, 'Anxiety': 142.75862068965517, \"Crohn's Disease\": 154.67441860465115, 'Electrical network': 96.77464788732394, 'Multiple Sclerosis': 143.98076923076923, 'Hereditary Angioedema': 153.64864864864865, 'Psoriatic Arthritis': 138.0857142857143, 'System identification': 115.84269662921348, 'Seasonal affective disorder': 146.6, 'Gender roles': 121.64179104477611, 'Ambient Intelligence': 106.14084507042253, 'Diabetes': 156.4655172413793, 'Signal-flow graph': 81.56521739130434, 'Hepatitis C': 169.296875, 'Dementia': 153.21951219512195, 'Leadership': 126.22388059701493, 'Sprains and Strains': 159.6, 'Allergies': 150.8030303030303, 'Software engineering': 129.35365853658536, 'Senior Health': 163.51724137931035, 'network security': 104.9047619047619, 'Rheumatoid Arthritis': 143.67741935483872, 'Prejudice': 112.76136363636364, 'Fungal Infection': 133.1917808219178, 'Cancer': 146.13846153846154, 'Nonverbal communication': 126.55813953488372, 'Medicare': 172.67391304347825, 'Geotextile': 120.88059701492537, 'Atopic Dermatitis': 147.13636363636363, 'Problem-solving': 131.7910447761194, 'Healthy Sleep': 142.96296296296296, 'Low Testosterone': 155.05769230769232, 'Parenting': 130.07142857142858, 'Lorentz force law': 121.0, 'Digestive Health': 164.89473684210526, 'Kidney Health': 162.31578947368422, 'Electrical generator': 134.0, 'Structured Storage': 107.77777777777777, 'Voltage law': 91.44444444444444, 'Root': 0.0}, 'sample_end_before_leaf_nodes': 0, 'path_end_before_leaf_nodes': 0, 'level_sample_number': defaultdict(<class 'int'>, {0: 0, 1: 9397, 2: 9397}), 'prob_dict': {'Root': {'CS': 0, 'Medical': 0, 'Civil': 0, 'ECE': 0, 'biochemistry': 0, 'MAE': 0, 'Psychology': 0}, 'CS': {'Symbolic computation': 88, 'Computer vision': 90, 'Computer graphics': 85, 'Operating systems': 82, 'Machine learning': 76, 'Data structures': 71, 'network security': 84, 'Image processing': 80, 'Parallel computing': 80, 'Distributed computing': 80, 'Algorithm design': 75, 'Computer programming': 87, 'Relational databases': 70, 'Software engineering': 82, 'Bioinformatics': 68, 'Cryptography': 80, 'Structured Storage': 9}, 'Medical': {\"Alzheimer's Disease\": 76, \"Parkinson's Disease\": 57, 'Sprains and Strains': 30, 'Cancer': 65, 'Sports Injuries': 66, 'Senior Health': 29, 'Multiple Sclerosis': 52, 'Hepatitis C': 64, 'Weight Loss': 61, 'Low Testosterone': 52, 'Fungal Infection': 73, 'Diabetes': 58, 'Parenting': 56, 'Birth Control': 60, 'Heart Disease': 49, 'Allergies': 66, 'Menopause': 78, 'Emergency Contraception': 61, 'Skin Care': 65, 'Myelofibrosis': 42, 'Hypothyroidism': 77, 'Headache': 69, 'Overactive Bladder': 66, 'Irritable Bowel Syndrome': 60, 'Polycythemia Vera': 27, 'Atrial Fibrillation': 102, 'Smoking Cessation': 43, 'Lymphoma': 46, 'Asthma': 70, 'Bipolar Disorder': 70, \"Crohn's Disease\": 43, 'Idiopathic Pulmonary Fibrosis': 50, 'Mental Health': 51, 'Dementia': 41, 'Rheumatoid Arthritis': 31, 'Osteoporosis': 76, 'Medicare': 46, 'Psoriatic Arthritis': 35, 'Addiction': 59, 'Atopic Dermatitis': 44, 'Digestive Health': 19, 'Healthy Sleep': 27, 'Anxiety': 58, 'Psoriasis': 33, 'Ankylosing Spondylitis': 49, \"Children's Health\": 70, 'Stress Management': 52, 'HIV/AIDS': 64, 'Migraine': 23, 'Osteoarthritis': 54, 'Hereditary Angioedema': 37, 'Kidney Health': 19, 'Autism': 71}, 'Civil': {'Green Building': 87, 'Water Pollution': 87, 'Smart Material': 76, 'Ambient Intelligence': 71, 'Construction Management': 80, 'Suspension Bridge': 87, 'Geotextile': 67, 'Stealth Technology': 30, 'Solar Energy': 84, 'Remote Sensing': 67, 'Rainwater Harvesting': 90}, 'ECE': {'Electric motor': 109, 'Digital control': 88, 'Microcontroller': 85, 'Electrical network': 71, 'Electrical generator': 1, 'Electricity': 90, 'Operational amplifier': 88, 'Analog signal processing': 129, 'State space representation': 73, 'Signal-flow graph': 69, 'Electrical circuits': 73, 'Lorentz force law': 9, 'System identification': 89, 'PID controller': 91, 'Voltage law': 9, 'Control engineering': 57}, 'biochemistry': {'Molecular biology': 149, 'Enzymology': 131, 'Southern blotting': 102, 'Northern blotting': 139, 'Human Metabolism': 128, 'Polymerase chain reaction': 161, 'Immunology': 140, 'Genetics': 125, 'Cell biology': 104}, 'MAE': {'Fluid mechanics': 91, 'Hydraulics': 79, 'computer-aided design': 95, 'Manufacturing engineering': 78, 'Machine design': 96, 'Thermodynamics': 73, 'Materials Engineering': 53, 'Strength of materials': 62, 'Internal combustion engine': 80}, 'Psychology': {'Prenatal development': 80, 'Attention': 101, 'Eating disorders': 88, 'Borderline personality disorder': 83, 'Prosocial behavior': 72, 'False memories': 63, 'Problem-solving': 67, 'Prejudice': 88, 'Antisocial personality disorder': 74, 'Nonverbal communication': 86, 'Leadership': 67, 'Child abuse': 85, 'Gender roles': 67, 'Depression': 74, 'Social cognition': 69, 'Seasonal affective disorder': 55, 'Person perception': 82, 'Media violence': 56, 'Schizophrenia': 68}}}\n",
      "{'Root': {'CS': 0, 'Medical': 0, 'Civil': 0, 'ECE': 0, 'biochemistry': 0, 'MAE': 0, 'Psychology': 0}, 'CS': {'Symbolic computation': 0.06837606837606838, 'Computer vision': 0.06993006993006994, 'Computer graphics': 0.06604506604506605, 'Operating systems': 0.06371406371406371, 'Machine learning': 0.059052059052059055, 'Data structures': 0.05516705516705517, 'network security': 0.06526806526806526, 'Image processing': 0.06216006216006216, 'Parallel computing': 0.06216006216006216, 'Distributed computing': 0.06216006216006216, 'Algorithm design': 0.05827505827505827, 'Computer programming': 0.0675990675990676, 'Relational databases': 0.05439005439005439, 'Software engineering': 0.06371406371406371, 'Bioinformatics': 0.05283605283605284, 'Cryptography': 0.06216006216006216, 'Structured Storage': 0.006993006993006993}, 'Medical': {\"Alzheimer's Disease\": 0.02674173117522871, \"Parkinson's Disease\": 0.020056298381421533, 'Sprains and Strains': 0.01055594651653765, 'Cancer': 0.02287121745249824, 'Sports Injuries': 0.02322308233638283, 'Senior Health': 0.01020408163265306, 'Multiple Sclerosis': 0.018296973961998593, 'Hepatitis C': 0.022519352568613652, 'Weight Loss': 0.021463757916959886, 'Low Testosterone': 0.018296973961998593, 'Fungal Infection': 0.025686136523574946, 'Diabetes': 0.02040816326530612, 'Parenting': 0.019704433497536946, 'Birth Control': 0.0211118930330753, 'Heart Disease': 0.017241379310344827, 'Allergies': 0.02322308233638283, 'Menopause': 0.02744546094299789, 'Emergency Contraception': 0.021463757916959886, 'Skin Care': 0.02287121745249824, 'Myelofibrosis': 0.014778325123152709, 'Hypothyroidism': 0.027093596059113302, 'Headache': 0.024278676988036593, 'Overactive Bladder': 0.02322308233638283, 'Irritable Bowel Syndrome': 0.0211118930330753, 'Polycythemia Vera': 0.009500351864883884, 'Atrial Fibrillation': 0.03589021815622801, 'Smoking Cessation': 0.015130190007037298, 'Lymphoma': 0.01618578465869106, 'Asthma': 0.024630541871921183, 'Bipolar Disorder': 0.024630541871921183, \"Crohn's Disease\": 0.015130190007037298, 'Idiopathic Pulmonary Fibrosis': 0.017593244194229415, 'Mental Health': 0.017945109078114006, 'Dementia': 0.014426460239268121, 'Rheumatoid Arthritis': 0.010907811400422239, 'Osteoporosis': 0.02674173117522871, 'Medicare': 0.01618578465869106, 'Psoriatic Arthritis': 0.012315270935960592, 'Addiction': 0.02076002814919071, 'Atopic Dermatitis': 0.015482054890921885, 'Digestive Health': 0.006685432793807178, 'Healthy Sleep': 0.009500351864883884, 'Anxiety': 0.02040816326530612, 'Psoriasis': 0.011611541168191415, 'Ankylosing Spondylitis': 0.017241379310344827, \"Children's Health\": 0.024630541871921183, 'Stress Management': 0.018296973961998593, 'HIV/AIDS': 0.022519352568613652, 'Migraine': 0.00809289232934553, 'Osteoarthritis': 0.019000703729767768, 'Hereditary Angioedema': 0.013019000703729768, 'Kidney Health': 0.006685432793807178, 'Autism': 0.02498240675580577}, 'Civil': {'Green Building': 0.1053268765133172, 'Water Pollution': 0.1053268765133172, 'Smart Material': 0.09200968523002422, 'Ambient Intelligence': 0.08595641646489104, 'Construction Management': 0.09685230024213075, 'Suspension Bridge': 0.1053268765133172, 'Geotextile': 0.0811138014527845, 'Stealth Technology': 0.03631961259079903, 'Solar Energy': 0.1016949152542373, 'Remote Sensing': 0.0811138014527845, 'Rainwater Harvesting': 0.1089588377723971}, 'ECE': {'Electric motor': 0.09637488947833775, 'Digital control': 0.07780725022104333, 'Microcontroller': 0.07515473032714412, 'Electrical network': 0.0627763041556145, 'Electrical generator': 0.0008841732979664014, 'Electricity': 0.07957559681697612, 'Operational amplifier': 0.07780725022104333, 'Analog signal processing': 0.11405835543766578, 'State space representation': 0.0645446507515473, 'Signal-flow graph': 0.0610079575596817, 'Electrical circuits': 0.0645446507515473, 'Lorentz force law': 0.007957559681697613, 'System identification': 0.07869142351900972, 'PID controller': 0.08045977011494253, 'Voltage law': 0.007957559681697613, 'Control engineering': 0.050397877984084884}, 'biochemistry': {'Molecular biology': 0.1263782866836302, 'Enzymology': 0.1111111111111111, 'Southern blotting': 0.08651399491094147, 'Northern blotting': 0.11789652247667515, 'Human Metabolism': 0.1085665818490246, 'Polymerase chain reaction': 0.13655640373197625, 'Immunology': 0.11874469889737066, 'Genetics': 0.10602205258693809, 'Cell biology': 0.08821034775233248}, 'MAE': {'Fluid mechanics': 0.12871287128712872, 'Hydraulics': 0.11173974540311174, 'computer-aided design': 0.13437057991513437, 'Manufacturing engineering': 0.11032531824611033, 'Machine design': 0.13578500707213578, 'Thermodynamics': 0.10325318246110325, 'Materials Engineering': 0.07496463932107496, 'Strength of materials': 0.0876944837340877, 'Internal combustion engine': 0.11315417256011315}, 'Psychology': {'Prenatal development': 0.056140350877192984, 'Attention': 0.07087719298245614, 'Eating disorders': 0.061754385964912284, 'Borderline personality disorder': 0.05824561403508772, 'Prosocial behavior': 0.05052631578947368, 'False memories': 0.04421052631578947, 'Problem-solving': 0.047017543859649125, 'Prejudice': 0.061754385964912284, 'Antisocial personality disorder': 0.051929824561403506, 'Nonverbal communication': 0.060350877192982454, 'Leadership': 0.047017543859649125, 'Child abuse': 0.05964912280701754, 'Gender roles': 0.047017543859649125, 'Depression': 0.051929824561403506, 'Social cognition': 0.04842105263157895, 'Seasonal affective disorder': 0.03859649122807018, 'Person perception': 0.05754385964912281, 'Media violence': 0.03929824561403509, 'Schizophrenia': 0.047719298245614036}}\n",
      "*****TOTAL*****\n",
      "{'Root': {'CS': 0, 'Medical': 0, 'Civil': 0, 'ECE': 0, 'biochemistry': 0, 'MAE': 0, 'Psychology': 0}, 'CS': {'Symbolic computation': 402, 'Computer vision': 432, 'Computer graphics': 412, 'Operating systems': 380, 'Machine learning': 398, 'Data structures': 392, 'network security': 445, 'Image processing': 415, 'Parallel computing': 443, 'Distributed computing': 403, 'Algorithm design': 379, 'Computer programming': 425, 'Relational databases': 377, 'Software engineering': 416, 'Bioinformatics': 365, 'Cryptography': 387, 'Structured Storage': 43}, 'Medical': {\"Alzheimer's Disease\": 368, \"Parkinson's Disease\": 298, 'Sprains and Strains': 142, 'Cancer': 359, 'Sports Injuries': 365, 'Senior Health': 118, 'Multiple Sclerosis': 253, 'Hepatitis C': 288, 'Weight Loss': 327, 'Low Testosterone': 305, 'Fungal Infection': 372, 'Diabetes': 353, 'Parenting': 343, 'Birth Control': 335, 'Heart Disease': 291, 'Allergies': 357, 'Menopause': 371, 'Emergency Contraception': 291, 'Skin Care': 339, 'Myelofibrosis': 198, 'Hypothyroidism': 315, 'Headache': 341, 'Overactive Bladder': 340, 'Irritable Bowel Syndrome': 336, 'Polycythemia Vera': 148, 'Atrial Fibrillation': 424, 'Smoking Cessation': 257, 'Lymphoma': 267, 'Asthma': 317, 'Bipolar Disorder': 298, \"Crohn's Disease\": 198, 'Idiopathic Pulmonary Fibrosis': 246, 'Mental Health': 222, 'Dementia': 237, 'Rheumatoid Arthritis': 188, 'Osteoporosis': 320, 'Medicare': 255, 'Psoriatic Arthritis': 202, 'Addiction': 309, 'Atopic Dermatitis': 262, 'Digestive Health': 97, 'Healthy Sleep': 129, 'Anxiety': 262, 'Psoriasis': 128, 'Ankylosing Spondylitis': 321, \"Children's Health\": 350, 'Stress Management': 361, 'HIV/AIDS': 358, 'Migraine': 178, 'Osteoarthritis': 305, 'Hereditary Angioedema': 182, 'Kidney Health': 90, 'Autism': 309}, 'Civil': {'Green Building': 418, 'Water Pollution': 449, 'Smart Material': 373, 'Ambient Intelligence': 410, 'Construction Management': 412, 'Suspension Bridge': 395, 'Geotextile': 423, 'Stealth Technology': 148, 'Solar Energy': 384, 'Remote Sensing': 384, 'Rainwater Harvesting': 441}, 'ECE': {'Electric motor': 526, 'Digital control': 426, 'Microcontroller': 413, 'Electrical network': 392, 'Electrical generator': 1, 'Electricity': 447, 'Operational amplifier': 419, 'Analog signal processing': 646, 'State space representation': 344, 'Signal-flow graph': 274, 'Electrical circuits': 375, 'Lorentz force law': 44, 'System identification': 417, 'PID controller': 429, 'Voltage law': 54, 'Control engineering': 276}, 'biochemistry': {'Molecular biology': 746, 'Enzymology': 576, 'Southern blotting': 510, 'Northern blotting': 699, 'Human Metabolism': 622, 'Polymerase chain reaction': 750, 'Immunology': 652, 'Genetics': 566, 'Cell biology': 566}, 'MAE': {'Fluid mechanics': 386, 'Hydraulics': 402, 'computer-aided design': 371, 'Manufacturing engineering': 346, 'Machine design': 420, 'Thermodynamics': 361, 'Materials Engineering': 289, 'Strength of materials': 335, 'Internal combustion engine': 387}, 'Psychology': {'Prenatal development': 389, 'Attention': 416, 'Eating disorders': 387, 'Borderline personality disorder': 376, 'Prosocial behavior': 388, 'False memories': 362, 'Problem-solving': 360, 'Prejudice': 389, 'Antisocial personality disorder': 368, 'Nonverbal communication': 394, 'Leadership': 350, 'Child abuse': 404, 'Gender roles': 395, 'Depression': 380, 'Social cognition': 397, 'Seasonal affective disorder': 365, 'Person perception': 391, 'Media violence': 296, 'Schizophrenia': 335}}\n",
      "{'Root': {'CS': 0, 'Medical': 0, 'Civil': 0, 'ECE': 0, 'biochemistry': 0, 'MAE': 0, 'Psychology': 0}, 'CS': {'Symbolic computation': 0.06171323303653669, 'Computer vision': 0.06631869818851704, 'Computer graphics': 0.06324838808719681, 'Operating systems': 0.058335891925084433, 'Machine learning': 0.061099171016272644, 'Data structures': 0.06017807798587657, 'network security': 0.06831439975437519, 'Image processing': 0.06370893460239484, 'Parallel computing': 0.06800736874424317, 'Distributed computing': 0.0618667485416027, 'Algorithm design': 0.058182376420018424, 'Computer programming': 0.06524408965305496, 'Relational databases': 0.0578753454098864, 'Software engineering': 0.06386245010746085, 'Bioinformatics': 0.05603315934909426, 'Cryptography': 0.059410500460546516, 'Structured Storage': 0.006601166717838502}, 'Medical': {\"Alzheimer's Disease\": 0.025162393162393163, \"Parkinson's Disease\": 0.020376068376068375, 'Sprains and Strains': 0.009709401709401709, 'Cancer': 0.024547008547008548, 'Sports Injuries': 0.024957264957264958, 'Senior Health': 0.008068376068376069, 'Multiple Sclerosis': 0.0172991452991453, 'Hepatitis C': 0.019692307692307693, 'Weight Loss': 0.022358974358974357, 'Low Testosterone': 0.020854700854700856, 'Fungal Infection': 0.025435897435897435, 'Diabetes': 0.02413675213675214, 'Parenting': 0.023452991452991453, 'Birth Control': 0.022905982905982905, 'Heart Disease': 0.019897435897435898, 'Allergies': 0.02441025641025641, 'Menopause': 0.025367521367521368, 'Emergency Contraception': 0.019897435897435898, 'Skin Care': 0.02317948717948718, 'Myelofibrosis': 0.01353846153846154, 'Hypothyroidism': 0.021538461538461538, 'Headache': 0.023316239316239315, 'Overactive Bladder': 0.023247863247863248, 'Irritable Bowel Syndrome': 0.022974358974358976, 'Polycythemia Vera': 0.01011965811965812, 'Atrial Fibrillation': 0.02899145299145299, 'Smoking Cessation': 0.017572649572649573, 'Lymphoma': 0.018256410256410255, 'Asthma': 0.021675213675213675, 'Bipolar Disorder': 0.020376068376068375, \"Crohn's Disease\": 0.01353846153846154, 'Idiopathic Pulmonary Fibrosis': 0.01682051282051282, 'Mental Health': 0.015179487179487179, 'Dementia': 0.016205128205128205, 'Rheumatoid Arthritis': 0.012854700854700855, 'Osteoporosis': 0.02188034188034188, 'Medicare': 0.017435897435897435, 'Psoriatic Arthritis': 0.013811965811965811, 'Addiction': 0.021128205128205128, 'Atopic Dermatitis': 0.017914529914529916, 'Digestive Health': 0.006632478632478633, 'Healthy Sleep': 0.00882051282051282, 'Anxiety': 0.017914529914529916, 'Psoriasis': 0.008752136752136753, 'Ankylosing Spondylitis': 0.021948717948717947, \"Children's Health\": 0.023931623931623933, 'Stress Management': 0.024683760683760683, 'HIV/AIDS': 0.024478632478632478, 'Migraine': 0.012170940170940172, 'Osteoarthritis': 0.020854700854700856, 'Hereditary Angioedema': 0.012444444444444444, 'Kidney Health': 0.006153846153846154, 'Autism': 0.021128205128205128}, 'Civil': {'Green Building': 0.09865470852017937, 'Water Pollution': 0.10597120604201085, 'Smart Material': 0.08803398631106915, 'Ambient Intelligence': 0.09676658012744867, 'Construction Management': 0.09723861222563135, 'Suspension Bridge': 0.09322633939107859, 'Geotextile': 0.09983478876563606, 'Stealth Technology': 0.03493037526551806, 'Solar Energy': 0.09063016285107388, 'Remote Sensing': 0.09063016285107388, 'Rainwater Harvesting': 0.10408307764928015}, 'ECE': {'Electric motor': 0.09593288345796097, 'Digital control': 0.0776946926864855, 'Microcontroller': 0.0753237278861937, 'Electrical network': 0.07149370782418384, 'Electrical generator': 0.0001823819077147547, 'Electricity': 0.08152471274849535, 'Operational amplifier': 0.07641801933248221, 'Analog signal processing': 0.11781871238373154, 'State space representation': 0.06273937625387561, 'Signal-flow graph': 0.04997264271384279, 'Electrical circuits': 0.06839321539303302, 'Lorentz force law': 0.008024803939449206, 'System identification': 0.0760532555170527, 'PID controller': 0.07824183840962977, 'Voltage law': 0.009848623016596754, 'Control engineering': 0.050337406529272294}, 'biochemistry': {'Molecular biology': 0.1311763671531563, 'Enzymology': 0.10128362933005099, 'Southern blotting': 0.08967821346931598, 'Northern blotting': 0.12291190434323897, 'Human Metabolism': 0.10937225250571479, 'Polymerase chain reaction': 0.13187972569017056, 'Immunology': 0.11464744153332161, 'Genetics': 0.09952523298751538, 'Cell biology': 0.09952523298751538}, 'MAE': {'Fluid mechanics': 0.11707612981498332, 'Hydraulics': 0.12192902638762511, 'computer-aided design': 0.11252653927813164, 'Manufacturing engineering': 0.10494388838337883, 'Machine design': 0.12738853503184713, 'Thermodynamics': 0.10949347892023051, 'Materials Engineering': 0.08765544434334244, 'Strength of materials': 0.10160752198968759, 'Internal combustion engine': 0.11737943585077343}, 'Psychology': {'Prenatal development': 0.05446653598431812, 'Attention': 0.05824698963875665, 'Eating disorders': 0.054186502380285634, 'Borderline personality disorder': 0.052646317558106975, 'Prosocial behavior': 0.05432651918230188, 'False memories': 0.05068608232987958, 'Problem-solving': 0.0504060487258471, 'Prejudice': 0.05446653598431812, 'Antisocial personality disorder': 0.05152618314197704, 'Nonverbal communication': 0.05516661999439933, 'Leadership': 0.04900588070568468, 'Child abuse': 0.05656678801456175, 'Gender roles': 0.05530663679641557, 'Depression': 0.05320638476617194, 'Social cognition': 0.055586670400448054, 'Seasonal affective disorder': 0.05110613273592831, 'Person perception': 0.0547465695883506, 'Media violence': 0.04144497339680762, 'Schizophrenia': 0.046905628675441055}}\n",
      "*****TOTAL TRAIN*****\n",
      "{'Root': {'CS': 0, 'Medical': 0, 'Civil': 0, 'ECE': 0, 'biochemistry': 0, 'MAE': 0, 'Psychology': 0}, 'CS': {'Symbolic computation': 314, 'Computer vision': 342, 'Computer graphics': 327, 'Operating systems': 298, 'Machine learning': 322, 'Data structures': 321, 'network security': 361, 'Image processing': 335, 'Parallel computing': 363, 'Distributed computing': 323, 'Algorithm design': 304, 'Computer programming': 338, 'Relational databases': 307, 'Software engineering': 334, 'Bioinformatics': 297, 'Cryptography': 307, 'Structured Storage': 34}, 'Medical': {\"Alzheimer's Disease\": 292, \"Parkinson's Disease\": 241, 'Sprains and Strains': 112, 'Cancer': 294, 'Sports Injuries': 299, 'Senior Health': 89, 'Multiple Sclerosis': 201, 'Hepatitis C': 224, 'Weight Loss': 266, 'Low Testosterone': 253, 'Fungal Infection': 299, 'Diabetes': 295, 'Parenting': 287, 'Birth Control': 275, 'Heart Disease': 242, 'Allergies': 291, 'Menopause': 293, 'Emergency Contraception': 230, 'Skin Care': 274, 'Myelofibrosis': 156, 'Hypothyroidism': 238, 'Headache': 272, 'Overactive Bladder': 274, 'Irritable Bowel Syndrome': 276, 'Polycythemia Vera': 121, 'Atrial Fibrillation': 322, 'Smoking Cessation': 214, 'Lymphoma': 221, 'Asthma': 247, 'Bipolar Disorder': 228, \"Crohn's Disease\": 155, 'Idiopathic Pulmonary Fibrosis': 196, 'Mental Health': 171, 'Dementia': 196, 'Rheumatoid Arthritis': 157, 'Osteoporosis': 244, 'Medicare': 209, 'Psoriatic Arthritis': 167, 'Addiction': 250, 'Atopic Dermatitis': 218, 'Digestive Health': 78, 'Healthy Sleep': 102, 'Anxiety': 204, 'Psoriasis': 95, 'Ankylosing Spondylitis': 272, \"Children's Health\": 280, 'Stress Management': 309, 'HIV/AIDS': 294, 'Migraine': 155, 'Osteoarthritis': 251, 'Hereditary Angioedema': 145, 'Kidney Health': 71, 'Autism': 238}, 'Civil': {'Green Building': 331, 'Water Pollution': 362, 'Smart Material': 297, 'Ambient Intelligence': 339, 'Construction Management': 332, 'Suspension Bridge': 308, 'Geotextile': 356, 'Stealth Technology': 118, 'Solar Energy': 300, 'Remote Sensing': 317, 'Rainwater Harvesting': 351}, 'ECE': {'Electric motor': 417, 'Digital control': 338, 'Microcontroller': 328, 'Electrical network': 321, 'Electrical generator': 0, 'Electricity': 357, 'Operational amplifier': 331, 'Analog signal processing': 517, 'State space representation': 271, 'Signal-flow graph': 205, 'Electrical circuits': 302, 'Lorentz force law': 35, 'System identification': 328, 'PID controller': 338, 'Voltage law': 45, 'Control engineering': 219}, 'biochemistry': {'Molecular biology': 597, 'Enzymology': 445, 'Southern blotting': 408, 'Northern blotting': 560, 'Human Metabolism': 494, 'Polymerase chain reaction': 589, 'Immunology': 512, 'Genetics': 441, 'Cell biology': 462}, 'MAE': {'Fluid mechanics': 295, 'Hydraulics': 323, 'computer-aided design': 276, 'Manufacturing engineering': 268, 'Machine design': 324, 'Thermodynamics': 288, 'Materials Engineering': 236, 'Strength of materials': 273, 'Internal combustion engine': 307}, 'Psychology': {'Prenatal development': 309, 'Attention': 315, 'Eating disorders': 299, 'Borderline personality disorder': 293, 'Prosocial behavior': 316, 'False memories': 299, 'Problem-solving': 293, 'Prejudice': 301, 'Antisocial personality disorder': 294, 'Nonverbal communication': 308, 'Leadership': 283, 'Child abuse': 319, 'Gender roles': 328, 'Depression': 306, 'Social cognition': 328, 'Seasonal affective disorder': 310, 'Person perception': 309, 'Media violence': 240, 'Schizophrenia': 267}}\n",
      "{'Root': {'CS': 0, 'Medical': 0, 'Civil': 0, 'ECE': 0, 'biochemistry': 0, 'MAE': 0, 'Psychology': 0}, 'CS': {'Symbolic computation': 0.06007269944518844, 'Computer vision': 0.06542950066960015, 'Computer graphics': 0.06255978572795103, 'Operating systems': 0.05701167017409604, 'Machine learning': 0.061603214080734645, 'Data structures': 0.06141189975129137, 'network security': 0.06906447292902239, 'Image processing': 0.06409030036349722, 'Parallel computing': 0.06944710158790894, 'Distributed computing': 0.06179452841017792, 'Algorithm design': 0.058159556150755694, 'Computer programming': 0.06466424335182705, 'Relational databases': 0.058733499139085515, 'Software engineering': 0.06389898603405395, 'Bioinformatics': 0.05682035584465277, 'Cryptography': 0.058733499139085515, 'Structured Storage': 0.00650468720107136}, 'Medical': {\"Alzheimer's Disease\": 0.024781464822201477, \"Parkinson's Disease\": 0.02045319528133752, 'Sprains and Strains': 0.0095052193838581, 'Cancer': 0.024951200882627513, 'Sports Injuries': 0.02537554103369261, 'Senior Health': 0.007553254688958669, 'Multiple Sclerosis': 0.01705847407281677, 'Hepatitis C': 0.0190104387677162, 'Weight Loss': 0.02257489603666299, 'Low Testosterone': 0.021471611643893745, 'Fungal Infection': 0.02537554103369261, 'Diabetes': 0.025036068912840534, 'Parenting': 0.024357124671136383, 'Birth Control': 0.023338708308580158, 'Heart Disease': 0.020538063311550538, 'Allergies': 0.02469659679198846, 'Menopause': 0.024866332852414495, 'Emergency Contraception': 0.019519646948994315, 'Skin Care': 0.02325384027836714, 'Myelofibrosis': 0.013239412713230926, 'Hypothyroidism': 0.020198591190698462, 'Headache': 0.0230841042179411, 'Overactive Bladder': 0.02325384027836714, 'Irritable Bowel Syndrome': 0.023423576338793176, 'Polycythemia Vera': 0.010269031655775269, 'Atrial Fibrillation': 0.02732750572859204, 'Smoking Cessation': 0.018161758465586014, 'Lymphoma': 0.018755834677077143, 'Asthma': 0.020962403462615634, 'Bipolar Disorder': 0.019349910888568276, \"Crohn's Disease\": 0.013154544683017907, 'Idiopathic Pulmonary Fibrosis': 0.016634133921751677, 'Mental Health': 0.014512433166426208, 'Dementia': 0.016634133921751677, 'Rheumatoid Arthritis': 0.013324280743443944, 'Osteoporosis': 0.020707799371976577, 'Medicare': 0.01773741831452092, 'Psoriatic Arthritis': 0.014172961045574133, 'Addiction': 0.021217007553254688, 'Atopic Dermatitis': 0.01850123058643809, 'Digestive Health': 0.006619706356615463, 'Healthy Sleep': 0.008656539081727914, 'Anxiety': 0.017313078163455828, 'Psoriasis': 0.008062462870236781, 'Ankylosing Spondylitis': 0.0230841042179411, \"Children's Health\": 0.02376304845964525, 'Stress Management': 0.026224221335822796, 'HIV/AIDS': 0.024951200882627513, 'Migraine': 0.013154544683017907, 'Osteoarthritis': 0.021301875583467706, 'Hereditary Angioedema': 0.01230586438088772, 'Kidney Health': 0.0060256301451243315, 'Autism': 0.020198591190698462}, 'Civil': {'Green Building': 0.0970389914980944, 'Water Pollution': 0.10612723541483436, 'Smart Material': 0.0870712401055409, 'Ambient Intelligence': 0.09938434476693052, 'Construction Management': 0.09733216065669892, 'Suspension Bridge': 0.09029610085019056, 'Geotextile': 0.10436822046320728, 'Stealth Technology': 0.034593960715332744, 'Solar Energy': 0.08795074758135445, 'Remote Sensing': 0.09293462327763119, 'Rainwater Harvesting': 0.10290237467018469}, 'ECE': {'Electric motor': 0.09581801470588236, 'Digital control': 0.07766544117647059, 'Microcontroller': 0.07536764705882353, 'Electrical network': 0.07375919117647059, 'Electrical generator': 0.0, 'Electricity': 0.08203125, 'Operational amplifier': 0.07605698529411764, 'Analog signal processing': 0.11879595588235294, 'State space representation': 0.062270220588235295, 'Signal-flow graph': 0.047104779411764705, 'Electrical circuits': 0.06939338235294118, 'Lorentz force law': 0.008042279411764705, 'System identification': 0.07536764705882353, 'PID controller': 0.07766544117647059, 'Voltage law': 0.010340073529411764, 'Control engineering': 0.05032169117647059}, 'biochemistry': {'Molecular biology': 0.13243123336291038, 'Enzymology': 0.0987133984028394, 'Southern blotting': 0.09050576752440107, 'Northern blotting': 0.12422360248447205, 'Human Metabolism': 0.1095829636202307, 'Polymerase chain reaction': 0.13065661047027508, 'Immunology': 0.11357586512866016, 'Genetics': 0.09782608695652174, 'Cell biology': 0.10248447204968944}, 'MAE': {'Fluid mechanics': 0.1138996138996139, 'Hydraulics': 0.1247104247104247, 'computer-aided design': 0.10656370656370656, 'Manufacturing engineering': 0.10347490347490347, 'Machine design': 0.1250965250965251, 'Thermodynamics': 0.11119691119691119, 'Materials Engineering': 0.09111969111969112, 'Strength of materials': 0.10540540540540541, 'Internal combustion engine': 0.11853281853281854}, 'Psychology': {'Prenatal development': 0.054049326569879305, 'Attention': 0.05509882805667308, 'Eating disorders': 0.052300157425223016, 'Borderline personality disorder': 0.05125065593842924, 'Prosocial behavior': 0.05527374497113871, 'False memories': 0.052300157425223016, 'Problem-solving': 0.05125065593842924, 'Prejudice': 0.052649991254154274, 'Antisocial personality disorder': 0.051425572852894876, 'Nonverbal communication': 0.05387440965541368, 'Leadership': 0.049501486793772954, 'Child abuse': 0.055798495714535594, 'Gender roles': 0.05737274794472626, 'Depression': 0.05352457582648242, 'Social cognition': 0.05737274794472626, 'Seasonal affective disorder': 0.05422424348434494, 'Person perception': 0.054049326569879305, 'Media violence': 0.041980059471750916, 'Schizophrenia': 0.0467028161623229}}\n"
     ]
    }
   ],
   "source": [
    "!cd HiAGM && python3 new.py config/rcv1-v2-Copy1.json"
   ]
  },
  {
   "cell_type": "code",
   "execution_count": 249,
   "id": "8a80bf77",
   "metadata": {
    "cellId": "45tousundn2b2d1tpw1plk"
   },
   "outputs": [],
   "source": [
    "!mv HiAGM/data/new.py HiAGM/"
   ]
  },
  {
   "cell_type": "code",
   "execution_count": 258,
   "id": "bb22485d",
   "metadata": {
    "cellId": "cyp58256zn86hlypa2ni"
   },
   "outputs": [
    {
     "name": "stdout",
     "output_type": "stream",
     "text": [
      "{\"Root\": {\"CS\": 0, \"Medical\": 0, \"Civil\": 0, \"ECE\": 0, \"biochemistry\": 0, \"MAE\": 0, \"Psychology\": 0}, \"CS\": {\"Symbolic computation\": 0.06007269944518843, \"Computer vision\": 0.06542950066960014, \"Computer graphics\": 0.06255978572795101, \"Operating systems\": 0.05701167017409602, \"Machine learning\": 0.06160321408073463, \"Data structures\": 0.061411899751291354, \"network security\": 0.06906447292902237, \"Image processing\": 0.06409030036349721, \"Parallel computing\": 0.06944710158790893, \"Distributed computing\": 0.06179452841017791, \"Algorithm design\": 0.05815955615075568, \"Computer programming\": 0.06466424335182704, \"Relational databases\": 0.0587334991390855, \"Software engineering\": 0.06389898603405393, \"Bioinformatics\": 0.05682035584465275, \"Cryptography\": 0.0587334991390855, \"Structured Storage\": 0.006504687201071359}, \"Medical\": {\"Alzheimer's Disease\": 0.02478146482220147, \"Parkinson's Disease\": 0.020453195281337516, \"Sprains and Strains\": 0.009505219383858099, \"Cancer\": 0.024951200882627506, \"Sports Injuries\": 0.025375541033692602, \"Senior Health\": 0.007553254688958668, \"Multiple Sclerosis\": 0.017058474072816767, \"Hepatitis C\": 0.019010438767716197, \"Weight Loss\": 0.022574896036662986, \"Low Testosterone\": 0.021471611643893742, \"Fungal Infection\": 0.025375541033692602, \"Diabetes\": 0.025036068912840527, \"Parenting\": 0.024357124671136376, \"Birth Control\": 0.023338708308580154, \"Heart Disease\": 0.020538063311550534, \"Allergies\": 0.02469659679198845, \"Menopause\": 0.024866332852414488, \"Emergency Contraception\": 0.019519646948994312, \"Skin Care\": 0.023253840278367136, \"Myelofibrosis\": 0.013239412713230923, \"Hypothyroidism\": 0.02019859119069846, \"Headache\": 0.023084104217941097, \"Overactive Bladder\": 0.023253840278367136, \"Irritable Bowel Syndrome\": 0.023423576338793172, \"Polycythemia Vera\": 0.010269031655775267, \"Atrial Fibrillation\": 0.027327505728592032, \"Smoking Cessation\": 0.01816175846558601, \"Lymphoma\": 0.01875583467707714, \"Asthma\": 0.02096240346261563, \"Bipolar Disorder\": 0.019349910888568272, \"Crohn's Disease\": 0.013154544683017903, \"Idiopathic Pulmonary Fibrosis\": 0.016634133921751674, \"Mental Health\": 0.014512433166426204, \"Dementia\": 0.016634133921751674, \"Rheumatoid Arthritis\": 0.013324280743443941, \"Osteoporosis\": 0.020707799371976573, \"Medicare\": 0.017737418314520918, \"Psoriatic Arthritis\": 0.014172961045574129, \"Addiction\": 0.021217007553254685, \"Atopic Dermatitis\": 0.018501230586438086, \"Digestive Health\": 0.0066197063566154615, \"Healthy Sleep\": 0.008656539081727912, \"Anxiety\": 0.017313078163455824, \"Psoriasis\": 0.00806246287023678, \"Ankylosing Spondylitis\": 0.023084104217941097, \"Children's Health\": 0.023763048459645244, \"Stress Management\": 0.02622422133582279, \"HIV/AIDS\": 0.024951200882627506, \"Migraine\": 0.013154544683017903, \"Osteoarthritis\": 0.021301875583467703, \"Hereditary Angioedema\": 0.012305864380887717, \"Kidney Health\": 0.00602563014512433, \"Autism\": 0.02019859119069846}, \"Civil\": {\"Green Building\": 0.0970389914980944, \"Water Pollution\": 0.10612723541483436, \"Smart Material\": 0.0870712401055409, \"Ambient Intelligence\": 0.09938434476693052, \"Construction Management\": 0.09733216065669892, \"Suspension Bridge\": 0.09029610085019056, \"Geotextile\": 0.10436822046320728, \"Stealth Technology\": 0.034593960715332744, \"Solar Energy\": 0.08795074758135445, \"Remote Sensing\": 0.09293462327763119, \"Rainwater Harvesting\": 0.10290237467018469}, \"ECE\": {\"Electric motor\": 0.09581801470588236, \"Digital control\": 0.07766544117647059, \"Microcontroller\": 0.07536764705882353, \"Electrical network\": 0.07375919117647059, \"Electrical generator\": 0.0, \"Electricity\": 0.08203125, \"Operational amplifier\": 0.07605698529411764, \"Analog signal processing\": 0.11879595588235294, \"State space representation\": 0.062270220588235295, \"Signal-flow graph\": 0.047104779411764705, \"Electrical circuits\": 0.06939338235294118, \"Lorentz force law\": 0.008042279411764705, \"System identification\": 0.07536764705882353, \"PID controller\": 0.07766544117647059, \"Voltage law\": 0.010340073529411764, \"Control engineering\": 0.05032169117647059}, \"biochemistry\": {\"Molecular biology\": 0.13243123336291038, \"Enzymology\": 0.0987133984028394, \"Southern blotting\": 0.09050576752440107, \"Northern blotting\": 0.12422360248447205, \"Human Metabolism\": 0.1095829636202307, \"Polymerase chain reaction\": 0.13065661047027508, \"Immunology\": 0.11357586512866016, \"Genetics\": 0.09782608695652174, \"Cell biology\": 0.10248447204968944}, \"MAE\": {\"Fluid mechanics\": 0.1138996138996139, \"Hydraulics\": 0.1247104247104247, \"computer-aided design\": 0.10656370656370656, \"Manufacturing engineering\": 0.10347490347490347, \"Machine design\": 0.1250965250965251, \"Thermodynamics\": 0.11119691119691119, \"Materials Engineering\": 0.09111969111969112, \"Strength of materials\": 0.10540540540540541, \"Internal combustion engine\": 0.11853281853281854}, \"Psychology\": {\"Prenatal development\": 0.05404932656987931, \"Attention\": 0.055098828056673085, \"Eating disorders\": 0.05230015742522302, \"Borderline personality disorder\": 0.05125065593842925, \"Prosocial behavior\": 0.05527374497113872, \"False memories\": 0.05230015742522302, \"Problem-solving\": 0.05125065593842925, \"Prejudice\": 0.05264999125415428, \"Antisocial personality disorder\": 0.05142557285289488, \"Nonverbal communication\": 0.05387440965541369, \"Leadership\": 0.04950148679377296, \"Child abuse\": 0.0557984957145356, \"Gender roles\": 0.057372747944726264, \"Depression\": 0.05352457582648243, \"Social cognition\": 0.057372747944726264, \"Seasonal affective disorder\": 0.054224243484344944, \"Person perception\": 0.05404932656987931, \"Media violence\": 0.04198005947175092, \"Schizophrenia\": 0.046702816162322906}}"
     ]
    }
   ],
   "source": [
    "!head HiAGM/data/wos_prob.json"
   ]
  },
  {
   "cell_type": "markdown",
   "id": "1acc741f",
   "metadata": {
    "cellId": "6cpickdtjnknt3ipibjt5"
   },
   "source": [
    "# WOS"
   ]
  },
  {
   "cell_type": "code",
   "execution_count": 328,
   "id": "1220affd",
   "metadata": {
    "cellId": "1j2favknryg5dry9hhmp36"
   },
   "outputs": [],
   "source": [
    "res = {}\n",
    "with open('HiAGM/data/wos.taxnomy') as f:\n",
    "    for line in f:\n",
    "        tmp = line.strip().split('\\t')\n",
    "        for i in range(len(tmp)):\n",
    "            if tmp[i] not in res:\n",
    "                res[tmp[i]] = []\n",
    "            if i != 0:\n",
    "                res[tmp[0]].append(tmp[i])"
   ]
  },
  {
   "cell_type": "code",
   "execution_count": 330,
   "id": "e7d687e3",
   "metadata": {
    "cellId": "u23gjlsr3frkzgq8ob5cm"
   },
   "outputs": [],
   "source": [
    "key2i = {}\n",
    "for i, elem in enumerate(list(res.keys())):\n",
    "    key2i[elem] = i\n",
    "N = len(key2i) - 1"
   ]
  },
  {
   "cell_type": "code",
   "execution_count": 346,
   "id": "7a593558",
   "metadata": {
    "cellId": "p26dgm85xkfi6my4ql4oh"
   },
   "outputs": [
    {
     "name": "stderr",
     "output_type": "stream",
     "text": [
      "100%|██████████| 30070/30070 [00:03<00:00, 7553.36it/s]\n"
     ]
    }
   ],
   "source": [
    "import json\n",
    "\n",
    "with open('HiAGM/data/wos_train.json', 'r') as f:\n",
    "    with open('train_docbert.wos', 'w') as fg:\n",
    "        lines = f.readlines()\n",
    "        for i in tqdm(range(len(lines))):\n",
    "            label = ['0'] * N\n",
    "            line = json.loads(lines[i])\n",
    "            for e in line['label']:\n",
    "                label[key2i[e] - 1] = '1'\n",
    "            fg.write(''.join(label) + '\\t' + ' '.join(line['token']) + '\\n')"
   ]
  },
  {
   "cell_type": "code",
   "execution_count": 347,
   "id": "ece164a6",
   "metadata": {
    "cellId": "lmvtx468b7p10ppne7ps"
   },
   "outputs": [
    {
     "name": "stderr",
     "output_type": "stream",
     "text": [
      "100%|██████████| 7518/7518 [00:00<00:00, 48645.48it/s]\n"
     ]
    }
   ],
   "source": [
    "with open('HiAGM/data/wos_val.json', 'r') as f:\n",
    "    with open('valid_docbert.wos', 'w') as fg:\n",
    "        lines = f.readlines()\n",
    "        for i in tqdm(range(len(lines))):\n",
    "            label = ['0'] * N\n",
    "            line = json.loads(lines[i])\n",
    "            for e in line['label']:\n",
    "                label[key2i[e] - 1] = '1'\n",
    "            fg.write(''.join(label) + '\\t' + ' '.join(line['token']) + '\\n')"
   ]
  },
  {
   "cell_type": "code",
   "execution_count": 348,
   "id": "ecaf4d9f",
   "metadata": {
    "cellId": "ohxbx2g6dd98l5y9wrx9l"
   },
   "outputs": [
    {
     "name": "stderr",
     "output_type": "stream",
     "text": [
      "100%|██████████| 9397/9397 [00:00<00:00, 47329.84it/s]\n"
     ]
    }
   ],
   "source": [
    "with open('HiAGM/data/wos_test.json', 'r') as f:\n",
    "    with open('test_docbert.wos', 'w') as fg:\n",
    "        lines = f.readlines()\n",
    "        for i in tqdm(range(len(lines))):\n",
    "            label = ['0'] * N\n",
    "            line = json.loads(lines[i])\n",
    "            for e in line['label']:\n",
    "                label[key2i[e] - 1] = '1'\n",
    "            fg.write(''.join(label) + '\\t' + ' '.join(line['token']) + '\\n')"
   ]
  },
  {
   "cell_type": "code",
   "execution_count": 345,
   "id": "a14b6d8e",
   "metadata": {
    "cellId": "ypg84fj1y1j0tle03yplp"
   },
   "outputs": [],
   "source": [
    "!rm test_docbert_hiermax.wos"
   ]
  },
  {
   "cell_type": "code",
   "execution_count": 342,
   "id": "65092ab4",
   "metadata": {
    "cellId": "sfoy0zbf5dfebumke0at0j"
   },
   "outputs": [],
   "source": [
    "!head valid_docbert.wos"
   ]
  },
  {
   "cell_type": "code",
   "execution_count": 276,
   "id": "160e0eb2",
   "metadata": {
    "cellId": "82fhbem57oj4i2rwqy628r"
   },
   "outputs": [],
   "source": [
    "res = {}\n",
    "with open('HiAGM/data/wos.taxnomy') as f:\n",
    "    for line in f:\n",
    "        tmp = line.strip().split('\\t')\n",
    "        for i in range(len(tmp)):\n",
    "            if tmp[i] not in res:\n",
    "                res[tmp[i]] = []\n",
    "            if i != 0:\n",
    "                res[tmp[0]].append(tmp[i])"
   ]
  },
  {
   "cell_type": "code",
   "execution_count": 277,
   "id": "d6b9d469",
   "metadata": {
    "cellId": "0608zsxampktuvitlenft0i"
   },
   "outputs": [],
   "source": [
    "key2i = {}\n",
    "for i, elem in enumerate(list(res.keys())):\n",
    "    key2i[elem] = i\n",
    "N = len(key2i)"
   ]
  },
  {
   "cell_type": "code",
   "execution_count": 318,
   "id": "b9ef02d1",
   "metadata": {
    "cellId": "xk1try9fcjtiyqop0cjnf"
   },
   "outputs": [
    {
     "name": "stderr",
     "output_type": "stream",
     "text": [
      "100%|██████████| 30070/30070 [00:00<00:00, 49891.54it/s]\n"
     ]
    }
   ],
   "source": [
    "with open('HiAGM/data/wos_train.json', 'r') as f:\n",
    "    with open('train_t5_wos.csv', 'w') as fg:\n",
    "        fg.write('ID,TEXT,'+','.join(list(key2i.keys())[1:])+'\\n')\n",
    "        lines = f.readlines()\n",
    "        for i in tqdm(range(len(lines))):\n",
    "            label = ['0'] * (N - 1)\n",
    "            line = json.loads(lines[i])\n",
    "            for e in line['label']:\n",
    "                label[key2i[e] - 1] = '1'\n",
    "            fg.write(str(i)+','+' '.join(line['token'])+','+','.join(label)+'\\n')"
   ]
  },
  {
   "cell_type": "code",
   "execution_count": 323,
   "id": "dca0fad3",
   "metadata": {
    "cellId": "etc6t6xe0pcump16psild"
   },
   "outputs": [
    {
     "name": "stderr",
     "output_type": "stream",
     "text": [
      "100%|██████████| 9397/9397 [00:00<00:00, 49414.17it/s]\n"
     ]
    }
   ],
   "source": [
    "with open('HiAGM/data/wos_test.json', 'r') as f:\n",
    "    with open('test_t5_wos.csv', 'w') as fg:\n",
    "        fg.write('ID,TEXT,'+','.join(list(key2i.keys())[1:])+'\\n')\n",
    "        lines = f.readlines()\n",
    "        for i in tqdm(range(len(lines))):\n",
    "            label = ['0'] * (N - 1)\n",
    "            line = json.loads(lines[i])\n",
    "            for e in line['label']:\n",
    "                label[key2i[e] - 1] = '1'\n",
    "            fg.write(str(i)+','+' '.join(line['token'])+','+','.join(label)+'\\n')"
   ]
  },
  {
   "cell_type": "code",
   "execution_count": 325,
   "id": "12ca7d0d",
   "metadata": {
    "cellId": "nge94zajj3m7mb83h3hzzh"
   },
   "outputs": [
    {
     "name": "stderr",
     "output_type": "stream",
     "text": [
      "100%|██████████| 7518/7518 [00:00<00:00, 48153.63it/s]\n"
     ]
    }
   ],
   "source": [
    "with open('HiAGM/data/wos_val.json', 'r') as f:\n",
    "    with open('val_t5_wos.csv', 'w') as fg:\n",
    "        fg.write('ID,TEXT,'+','.join(list(key2i.keys())[1:])+'\\n')\n",
    "        lines = f.readlines()\n",
    "        for i in tqdm(range(len(lines))):\n",
    "            label = ['0'] * (N - 1)\n",
    "            line = json.loads(lines[i])\n",
    "            for e in line['label']:\n",
    "                label[key2i[e] - 1] = '1'\n",
    "            fg.write(str(i)+','+' '.join(line['token'])+','+','.join(label)+'\\n')"
   ]
  },
  {
   "cell_type": "code",
   "execution_count": null,
   "id": "4dfa692a",
   "metadata": {
    "cellId": "08ukk2v0t3stmukb6c45n5k"
   },
   "outputs": [],
   "source": []
  }
 ],
 "metadata": {
  "kernelspec": {
   "display_name": "Yandex DataSphere Kernel",
   "language": "python",
   "name": "python3"
  },
  "language_info": {
   "codemirror_mode": {
    "name": "ipython",
    "version": 3
   },
   "file_extension": ".py",
   "mimetype": "text/x-python",
   "name": "python",
   "nbconvert_exporter": "python",
   "pygments_lexer": "ipython3",
   "version": "3.7.7"
  },
  "notebookId": "5b513ea9-16fb-4dfb-bfdd-51c6768174e2",
  "notebookPath": "Predobrabotka.ipynb"
 },
 "nbformat": 4,
 "nbformat_minor": 5
}
